{
  "nbformat": 4,
  "nbformat_minor": 0,
  "metadata": {
    "colab": {
      "name": "Practice1.ipynb",
      "provenance": [],
      "collapsed_sections": [],
      "include_colab_link": true
    },
    "kernelspec": {
      "name": "python3",
      "display_name": "Python 3"
    }
  },
  "cells": [
    {
      "cell_type": "markdown",
      "metadata": {
        "id": "view-in-github",
        "colab_type": "text"
      },
      "source": [
        "<a href=\"https://colab.research.google.com/github/AlexanderOnbysh/edu/blob/master/masters/machine-learning/practice-1.ipynb\" target=\"_parent\"><img src=\"https://colab.research.google.com/assets/colab-badge.svg\" alt=\"Open In Colab\"/></a>"
      ]
    },
    {
      "cell_type": "markdown",
      "metadata": {
        "id": "qmpZeRhwGmqX",
        "colab_type": "text"
      },
      "source": [
        "# Introduction to supervised learning \n",
        "\n",
        "Let's practice the material we just discussed during the lecture. Please, make a copy of this colaboratory in order to be able to make changes **(File -> Save a copy in Drive)**.\n"
      ]
    },
    {
      "cell_type": "markdown",
      "metadata": {
        "id": "XqrP_NsXbOX3",
        "colab_type": "text"
      },
      "source": [
        "## Homework #1\n",
        "\n",
        "This colaboratory also contains Homework #1 which is due Feb 20 midnight (23:59 EET time). To complete the homework, extract **(File -> Download .ipynb)** and submit to the course webpage."
      ]
    },
    {
      "cell_type": "markdown",
      "metadata": {
        "id": "ZV4uCvr556Ey",
        "colab_type": "text"
      },
      "source": [
        "## Introducing Colaboratory (Colab)\n",
        "**Colaboratory**, is a great tool created by Google for individuals interested in getting a hands-on experience with Machine Learning (including Deep Learning). It offers a free CPU/**GPU** quota and a preconfigured virtual machine instance set up for to run Tensorflow and Keras libraries using a Jupyter notebook instance. **In one sentence, it is a perfect “getting started” point for experimentation with neural networks for any part-time hobbist or computer nerd**.\n",
        "\n",
        "*Introductory text by Oleg Żero (https://zerowithdot.com/colab-workspace/).*\n"
      ]
    },
    {
      "cell_type": "code",
      "metadata": {
        "id": "cMZE8eDa6ZDP",
        "colab_type": "code",
        "colab": {
          "base_uri": "https://localhost:8080/",
          "height": 34
        },
        "outputId": "bfcbaf98-6d03-4cd2-8dc4-7b80651a155b"
      },
      "source": [
        "!ls"
      ],
      "execution_count": 1,
      "outputs": [
        {
          "output_type": "stream",
          "text": [
            "sample_data\n"
          ],
          "name": "stdout"
        }
      ]
    },
    {
      "cell_type": "markdown",
      "metadata": {
        "id": "_y2ZD14f9EQt",
        "colab_type": "text"
      },
      "source": [
        "## Classification with KNN on MNIST\n",
        "We shall use classical MNIST dataset to practice one of the simplest machine learning algorithms - Nearest Neighbour algorithm and its extension - K-Nearest Neighbour algorithm. MNIST stands for Mixed National Institute of Standards and Technology and contains almost 60,000 small square 28×28 pixel grayscale images of digits from 0 to 9. Let's load it!"
      ]
    },
    {
      "cell_type": "markdown",
      "metadata": {
        "id": "NJIhqUhr40Ks",
        "colab_type": "text"
      },
      "source": [
        "### Setup: \n",
        "Here we will load necessary libraries (NumPy, Pandas and loading and visualising MNIST handwritten digits "
      ]
    },
    {
      "cell_type": "code",
      "metadata": {
        "id": "bqp9Kj1g4yFb",
        "colab_type": "code",
        "colab": {
          "base_uri": "https://localhost:8080/",
          "height": 63
        },
        "outputId": "91e3fc44-c0a5-483c-99a7-1352f6dbb804"
      },
      "source": [
        "import numpy as np \n",
        "import pandas as pd\n",
        "import matplotlib.pyplot as plt\n",
        "\n",
        "import warnings\n",
        "warnings.filterwarnings('ignore', category = RuntimeWarning)\n",
        "\n",
        "import os\n",
        "\n",
        "from tensorflow.examples.tutorials.mnist import input_data"
      ],
      "execution_count": 2,
      "outputs": [
        {
          "output_type": "display_data",
          "data": {
            "text/html": [
              "<p style=\"color: red;\">\n",
              "The default version of TensorFlow in Colab will soon switch to TensorFlow 2.x.<br>\n",
              "We recommend you <a href=\"https://www.tensorflow.org/guide/migrate\" target=\"_blank\">upgrade</a> now \n",
              "or ensure your notebook will continue to use TensorFlow 1.x via the <code>%tensorflow_version 1.x</code> magic:\n",
              "<a href=\"https://colab.research.google.com/notebooks/tensorflow_version.ipynb\" target=\"_blank\">more info</a>.</p>\n"
            ],
            "text/plain": [
              "<IPython.core.display.HTML object>"
            ]
          },
          "metadata": {
            "tags": []
          }
        }
      ]
    },
    {
      "cell_type": "code",
      "metadata": {
        "id": "KEmje5XZ5JBU",
        "colab_type": "code",
        "colab": {
          "base_uri": "https://localhost:8080/",
          "height": 479
        },
        "outputId": "352a0931-348a-4a6a-9264-8efc21a1676b"
      },
      "source": [
        "mnist = input_data.read_data_sets(\"MNIST_data/\", one_hot=False)"
      ],
      "execution_count": 3,
      "outputs": [
        {
          "output_type": "stream",
          "text": [
            "WARNING:tensorflow:From <ipython-input-3-f9584ef0ae80>:1: read_data_sets (from tensorflow.contrib.learn.python.learn.datasets.mnist) is deprecated and will be removed in a future version.\n",
            "Instructions for updating:\n",
            "Please use alternatives such as official/mnist/dataset.py from tensorflow/models.\n",
            "WARNING:tensorflow:From /usr/local/lib/python3.6/dist-packages/tensorflow_core/contrib/learn/python/learn/datasets/mnist.py:260: maybe_download (from tensorflow.contrib.learn.python.learn.datasets.base) is deprecated and will be removed in a future version.\n",
            "Instructions for updating:\n",
            "Please write your own downloading logic.\n",
            "WARNING:tensorflow:From /usr/local/lib/python3.6/dist-packages/tensorflow_core/contrib/learn/python/learn/datasets/base.py:252: _internal_retry.<locals>.wrap.<locals>.wrapped_fn (from tensorflow.contrib.learn.python.learn.datasets.base) is deprecated and will be removed in a future version.\n",
            "Instructions for updating:\n",
            "Please use urllib or similar directly.\n",
            "Successfully downloaded train-images-idx3-ubyte.gz 9912422 bytes.\n",
            "WARNING:tensorflow:From /usr/local/lib/python3.6/dist-packages/tensorflow_core/contrib/learn/python/learn/datasets/mnist.py:262: extract_images (from tensorflow.contrib.learn.python.learn.datasets.mnist) is deprecated and will be removed in a future version.\n",
            "Instructions for updating:\n",
            "Please use tf.data to implement this functionality.\n",
            "Extracting MNIST_data/train-images-idx3-ubyte.gz\n",
            "Successfully downloaded train-labels-idx1-ubyte.gz 28881 bytes.\n",
            "WARNING:tensorflow:From /usr/local/lib/python3.6/dist-packages/tensorflow_core/contrib/learn/python/learn/datasets/mnist.py:267: extract_labels (from tensorflow.contrib.learn.python.learn.datasets.mnist) is deprecated and will be removed in a future version.\n",
            "Instructions for updating:\n",
            "Please use tf.data to implement this functionality.\n",
            "Extracting MNIST_data/train-labels-idx1-ubyte.gz\n",
            "Successfully downloaded t10k-images-idx3-ubyte.gz 1648877 bytes.\n",
            "Extracting MNIST_data/t10k-images-idx3-ubyte.gz\n",
            "Successfully downloaded t10k-labels-idx1-ubyte.gz 4542 bytes.\n",
            "Extracting MNIST_data/t10k-labels-idx1-ubyte.gz\n",
            "WARNING:tensorflow:From /usr/local/lib/python3.6/dist-packages/tensorflow_core/contrib/learn/python/learn/datasets/mnist.py:290: DataSet.__init__ (from tensorflow.contrib.learn.python.learn.datasets.mnist) is deprecated and will be removed in a future version.\n",
            "Instructions for updating:\n",
            "Please use alternatives such as official/mnist/dataset.py from tensorflow/models.\n"
          ],
          "name": "stdout"
        }
      ]
    },
    {
      "cell_type": "code",
      "metadata": {
        "id": "cZzoTvgS6XQH",
        "colab_type": "code",
        "colab": {
          "base_uri": "https://localhost:8080/",
          "height": 34
        },
        "outputId": "c658b80f-ce05-4e71-de6a-5caea0403322"
      },
      "source": [
        "!ls"
      ],
      "execution_count": 4,
      "outputs": [
        {
          "output_type": "stream",
          "text": [
            "MNIST_data  sample_data\n"
          ],
          "name": "stdout"
        }
      ]
    },
    {
      "cell_type": "markdown",
      "metadata": {
        "id": "uuGg44WglSCR",
        "colab_type": "text"
      },
      "source": [
        "We reshape 28x28 images into vectors of size 784 to decrease the dimensionality of the training data matrix."
      ]
    },
    {
      "cell_type": "code",
      "metadata": {
        "id": "WtOd4fiY5K_R",
        "colab_type": "code",
        "colab": {
          "base_uri": "https://localhost:8080/",
          "height": 34
        },
        "outputId": "48e5f28a-ab47-4480-ac6a-6d223d1f00bb"
      },
      "source": [
        "images = np.vstack([img.reshape(-1,) for img in mnist.train.images])\n",
        "labels = mnist.train.labels\n",
        "print(f\"images are of shape: {images.shape} and labels: {labels.shape}\")"
      ],
      "execution_count": 5,
      "outputs": [
        {
          "output_type": "stream",
          "text": [
            "images are of shape: (55000, 784) and labels: (55000,)\n"
          ],
          "name": "stdout"
        }
      ]
    },
    {
      "cell_type": "markdown",
      "metadata": {
        "id": "6pjoMXl362uf",
        "colab_type": "text"
      },
      "source": [
        "### Visualising MNIST"
      ]
    },
    {
      "cell_type": "code",
      "metadata": {
        "id": "ukpUqfgl4S3j",
        "colab_type": "code",
        "colab": {
          "base_uri": "https://localhost:8080/",
          "height": 1000
        },
        "outputId": "f869e42d-d0eb-44e6-a4ba-afce18f6617a"
      },
      "source": [
        "images[0,:]"
      ],
      "execution_count": 6,
      "outputs": [
        {
          "output_type": "execute_result",
          "data": {
            "text/plain": [
              "array([0.        , 0.        , 0.        , 0.        , 0.        ,\n",
              "       0.        , 0.        , 0.        , 0.        , 0.        ,\n",
              "       0.        , 0.        , 0.        , 0.        , 0.        ,\n",
              "       0.        , 0.        , 0.        , 0.        , 0.        ,\n",
              "       0.        , 0.        , 0.        , 0.        , 0.        ,\n",
              "       0.        , 0.        , 0.        , 0.        , 0.        ,\n",
              "       0.        , 0.        , 0.        , 0.        , 0.        ,\n",
              "       0.        , 0.        , 0.        , 0.        , 0.        ,\n",
              "       0.        , 0.        , 0.        , 0.        , 0.        ,\n",
              "       0.        , 0.        , 0.        , 0.        , 0.        ,\n",
              "       0.        , 0.        , 0.        , 0.        , 0.        ,\n",
              "       0.        , 0.        , 0.        , 0.        , 0.        ,\n",
              "       0.        , 0.        , 0.        , 0.        , 0.        ,\n",
              "       0.        , 0.        , 0.        , 0.        , 0.        ,\n",
              "       0.        , 0.        , 0.        , 0.        , 0.        ,\n",
              "       0.        , 0.        , 0.        , 0.        , 0.        ,\n",
              "       0.        , 0.        , 0.        , 0.        , 0.        ,\n",
              "       0.        , 0.        , 0.        , 0.        , 0.        ,\n",
              "       0.        , 0.        , 0.        , 0.        , 0.        ,\n",
              "       0.        , 0.        , 0.        , 0.        , 0.        ,\n",
              "       0.        , 0.        , 0.        , 0.        , 0.        ,\n",
              "       0.        , 0.        , 0.        , 0.        , 0.        ,\n",
              "       0.        , 0.        , 0.        , 0.        , 0.        ,\n",
              "       0.        , 0.        , 0.        , 0.        , 0.        ,\n",
              "       0.        , 0.        , 0.        , 0.        , 0.        ,\n",
              "       0.        , 0.        , 0.        , 0.        , 0.        ,\n",
              "       0.        , 0.        , 0.        , 0.        , 0.        ,\n",
              "       0.        , 0.        , 0.        , 0.        , 0.        ,\n",
              "       0.        , 0.        , 0.        , 0.        , 0.        ,\n",
              "       0.        , 0.        , 0.        , 0.        , 0.        ,\n",
              "       0.        , 0.        , 0.        , 0.        , 0.        ,\n",
              "       0.        , 0.        , 0.        , 0.        , 0.        ,\n",
              "       0.        , 0.        , 0.        , 0.        , 0.        ,\n",
              "       0.        , 0.        , 0.        , 0.        , 0.        ,\n",
              "       0.        , 0.        , 0.        , 0.        , 0.        ,\n",
              "       0.        , 0.        , 0.        , 0.        , 0.        ,\n",
              "       0.        , 0.        , 0.        , 0.        , 0.        ,\n",
              "       0.        , 0.        , 0.        , 0.        , 0.        ,\n",
              "       0.        , 0.        , 0.        , 0.        , 0.        ,\n",
              "       0.        , 0.        , 0.        , 0.        , 0.        ,\n",
              "       0.        , 0.        , 0.        , 0.        , 0.        ,\n",
              "       0.        , 0.        , 0.3803922 , 0.37647063, 0.3019608 ,\n",
              "       0.46274513, 0.2392157 , 0.        , 0.        , 0.        ,\n",
              "       0.        , 0.        , 0.        , 0.        , 0.        ,\n",
              "       0.        , 0.        , 0.        , 0.        , 0.        ,\n",
              "       0.        , 0.        , 0.3529412 , 0.5411765 , 0.9215687 ,\n",
              "       0.9215687 , 0.9215687 , 0.9215687 , 0.9215687 , 0.9215687 ,\n",
              "       0.9843138 , 0.9843138 , 0.9725491 , 0.9960785 , 0.9607844 ,\n",
              "       0.9215687 , 0.74509805, 0.08235294, 0.        , 0.        ,\n",
              "       0.        , 0.        , 0.        , 0.        , 0.        ,\n",
              "       0.        , 0.        , 0.        , 0.        , 0.54901963,\n",
              "       0.9843138 , 0.9960785 , 0.9960785 , 0.9960785 , 0.9960785 ,\n",
              "       0.9960785 , 0.9960785 , 0.9960785 , 0.9960785 , 0.9960785 ,\n",
              "       0.9960785 , 0.9960785 , 0.9960785 , 0.9960785 , 0.9960785 ,\n",
              "       0.7411765 , 0.09019608, 0.        , 0.        , 0.        ,\n",
              "       0.        , 0.        , 0.        , 0.        , 0.        ,\n",
              "       0.        , 0.        , 0.8862746 , 0.9960785 , 0.81568635,\n",
              "       0.7803922 , 0.7803922 , 0.7803922 , 0.7803922 , 0.54509807,\n",
              "       0.2392157 , 0.2392157 , 0.2392157 , 0.2392157 , 0.2392157 ,\n",
              "       0.5019608 , 0.8705883 , 0.9960785 , 0.9960785 , 0.7411765 ,\n",
              "       0.08235294, 0.        , 0.        , 0.        , 0.        ,\n",
              "       0.        , 0.        , 0.        , 0.        , 0.        ,\n",
              "       0.14901961, 0.32156864, 0.0509804 , 0.        , 0.        ,\n",
              "       0.        , 0.        , 0.        , 0.        , 0.        ,\n",
              "       0.        , 0.        , 0.        , 0.        , 0.13333334,\n",
              "       0.8352942 , 0.9960785 , 0.9960785 , 0.45098042, 0.        ,\n",
              "       0.        , 0.        , 0.        , 0.        , 0.        ,\n",
              "       0.        , 0.        , 0.        , 0.        , 0.        ,\n",
              "       0.        , 0.        , 0.        , 0.        , 0.        ,\n",
              "       0.        , 0.        , 0.        , 0.        , 0.        ,\n",
              "       0.        , 0.        , 0.        , 0.32941177, 0.9960785 ,\n",
              "       0.9960785 , 0.9176471 , 0.        , 0.        , 0.        ,\n",
              "       0.        , 0.        , 0.        , 0.        , 0.        ,\n",
              "       0.        , 0.        , 0.        , 0.        , 0.        ,\n",
              "       0.        , 0.        , 0.        , 0.        , 0.        ,\n",
              "       0.        , 0.        , 0.        , 0.        , 0.        ,\n",
              "       0.        , 0.32941177, 0.9960785 , 0.9960785 , 0.9176471 ,\n",
              "       0.        , 0.        , 0.        , 0.        , 0.        ,\n",
              "       0.        , 0.        , 0.        , 0.        , 0.        ,\n",
              "       0.        , 0.        , 0.        , 0.        , 0.        ,\n",
              "       0.        , 0.        , 0.        , 0.        , 0.        ,\n",
              "       0.        , 0.        , 0.        , 0.4156863 , 0.6156863 ,\n",
              "       0.9960785 , 0.9960785 , 0.95294124, 0.20000002, 0.        ,\n",
              "       0.        , 0.        , 0.        , 0.        , 0.        ,\n",
              "       0.        , 0.        , 0.        , 0.        , 0.        ,\n",
              "       0.        , 0.        , 0.        , 0.        , 0.        ,\n",
              "       0.        , 0.09803922, 0.45882356, 0.8941177 , 0.8941177 ,\n",
              "       0.8941177 , 0.9921569 , 0.9960785 , 0.9960785 , 0.9960785 ,\n",
              "       0.9960785 , 0.94117653, 0.        , 0.        , 0.        ,\n",
              "       0.        , 0.        , 0.        , 0.        , 0.        ,\n",
              "       0.        , 0.        , 0.        , 0.        , 0.        ,\n",
              "       0.        , 0.        , 0.26666668, 0.4666667 , 0.86274517,\n",
              "       0.9960785 , 0.9960785 , 0.9960785 , 0.9960785 , 0.9960785 ,\n",
              "       0.9960785 , 0.9960785 , 0.9960785 , 0.9960785 , 0.5568628 ,\n",
              "       0.        , 0.        , 0.        , 0.        , 0.        ,\n",
              "       0.        , 0.        , 0.        , 0.        , 0.        ,\n",
              "       0.        , 0.        , 0.        , 0.14509805, 0.73333335,\n",
              "       0.9921569 , 0.9960785 , 0.9960785 , 0.9960785 , 0.8745099 ,\n",
              "       0.8078432 , 0.8078432 , 0.29411766, 0.26666668, 0.8431373 ,\n",
              "       0.9960785 , 0.9960785 , 0.45882356, 0.        , 0.        ,\n",
              "       0.        , 0.        , 0.        , 0.        , 0.        ,\n",
              "       0.        , 0.        , 0.        , 0.        , 0.        ,\n",
              "       0.4431373 , 0.8588236 , 0.9960785 , 0.9490197 , 0.89019614,\n",
              "       0.45098042, 0.34901962, 0.12156864, 0.        , 0.        ,\n",
              "       0.        , 0.        , 0.7843138 , 0.9960785 , 0.9450981 ,\n",
              "       0.16078432, 0.        , 0.        , 0.        , 0.        ,\n",
              "       0.        , 0.        , 0.        , 0.        , 0.        ,\n",
              "       0.        , 0.        , 0.        , 0.6627451 , 0.9960785 ,\n",
              "       0.6901961 , 0.24313727, 0.        , 0.        , 0.        ,\n",
              "       0.        , 0.        , 0.        , 0.        , 0.18823531,\n",
              "       0.9058824 , 0.9960785 , 0.9176471 , 0.        , 0.        ,\n",
              "       0.        , 0.        , 0.        , 0.        , 0.        ,\n",
              "       0.        , 0.        , 0.        , 0.        , 0.        ,\n",
              "       0.        , 0.07058824, 0.48627454, 0.        , 0.        ,\n",
              "       0.        , 0.        , 0.        , 0.        , 0.        ,\n",
              "       0.        , 0.        , 0.32941177, 0.9960785 , 0.9960785 ,\n",
              "       0.6509804 , 0.        , 0.        , 0.        , 0.        ,\n",
              "       0.        , 0.        , 0.        , 0.        , 0.        ,\n",
              "       0.        , 0.        , 0.        , 0.        , 0.        ,\n",
              "       0.        , 0.        , 0.        , 0.        , 0.        ,\n",
              "       0.        , 0.        , 0.        , 0.        , 0.        ,\n",
              "       0.54509807, 0.9960785 , 0.9333334 , 0.22352943, 0.        ,\n",
              "       0.        , 0.        , 0.        , 0.        , 0.        ,\n",
              "       0.        , 0.        , 0.        , 0.        , 0.        ,\n",
              "       0.        , 0.        , 0.        , 0.        , 0.        ,\n",
              "       0.        , 0.        , 0.        , 0.        , 0.        ,\n",
              "       0.        , 0.        , 0.8235295 , 0.9803922 , 0.9960785 ,\n",
              "       0.65882355, 0.        , 0.        , 0.        , 0.        ,\n",
              "       0.        , 0.        , 0.        , 0.        , 0.        ,\n",
              "       0.        , 0.        , 0.        , 0.        , 0.        ,\n",
              "       0.        , 0.        , 0.        , 0.        , 0.        ,\n",
              "       0.        , 0.        , 0.        , 0.        , 0.        ,\n",
              "       0.9490197 , 0.9960785 , 0.93725497, 0.22352943, 0.        ,\n",
              "       0.        , 0.        , 0.        , 0.        , 0.        ,\n",
              "       0.        , 0.        , 0.        , 0.        , 0.        ,\n",
              "       0.        , 0.        , 0.        , 0.        , 0.        ,\n",
              "       0.        , 0.        , 0.        , 0.        , 0.        ,\n",
              "       0.        , 0.        , 0.34901962, 0.9843138 , 0.9450981 ,\n",
              "       0.3372549 , 0.        , 0.        , 0.        , 0.        ,\n",
              "       0.        , 0.        , 0.        , 0.        , 0.        ,\n",
              "       0.        , 0.        , 0.        , 0.        , 0.        ,\n",
              "       0.        , 0.        , 0.        , 0.        , 0.        ,\n",
              "       0.        , 0.        , 0.        , 0.        , 0.01960784,\n",
              "       0.8078432 , 0.96470594, 0.6156863 , 0.        , 0.        ,\n",
              "       0.        , 0.        , 0.        , 0.        , 0.        ,\n",
              "       0.        , 0.        , 0.        , 0.        , 0.        ,\n",
              "       0.        , 0.        , 0.        , 0.        , 0.        ,\n",
              "       0.        , 0.        , 0.        , 0.        , 0.        ,\n",
              "       0.        , 0.        , 0.01568628, 0.45882356, 0.27058825,\n",
              "       0.        , 0.        , 0.        , 0.        , 0.        ,\n",
              "       0.        , 0.        , 0.        , 0.        , 0.        ,\n",
              "       0.        , 0.        , 0.        , 0.        , 0.        ,\n",
              "       0.        , 0.        , 0.        , 0.        , 0.        ,\n",
              "       0.        , 0.        , 0.        , 0.        , 0.        ,\n",
              "       0.        , 0.        , 0.        , 0.        , 0.        ,\n",
              "       0.        , 0.        , 0.        , 0.        , 0.        ,\n",
              "       0.        , 0.        , 0.        , 0.        ], dtype=float32)"
            ]
          },
          "metadata": {
            "tags": []
          },
          "execution_count": 6
        }
      ]
    },
    {
      "cell_type": "code",
      "metadata": {
        "id": "5Lz7Z0w164wa",
        "colab_type": "code",
        "colab": {
          "base_uri": "https://localhost:8080/",
          "height": 248
        },
        "outputId": "fe30cf7e-144d-45eb-9ca9-9df8cf209446"
      },
      "source": [
        "# Let's resize and plot the first image\n",
        "img_matrix = images[0,:].reshape((28, 28))\n",
        "plt.imshow(img_matrix, plt.get_cmap('gray'));\n",
        "plt.axis('off')\n",
        "plt.show()"
      ],
      "execution_count": 7,
      "outputs": [
        {
          "output_type": "display_data",
          "data": {
            "image/png": "[encoded data removed]",
            "text/plain": [
              "<Figure size 432x288 with 1 Axes>"
            ]
          },
          "metadata": {
            "tags": []
          }
        }
      ]
    },
    {
      "cell_type": "markdown",
      "metadata": {
        "id": "IhZI1zCV8MIB",
        "colab_type": "text"
      },
      "source": [
        "What is the label of this image?"
      ]
    },
    {
      "cell_type": "code",
      "metadata": {
        "id": "zyNG9jTt8Qyu",
        "colab_type": "code",
        "colab": {
          "base_uri": "https://localhost:8080/",
          "height": 34
        },
        "outputId": "c6456c8f-d396-49e6-839a-035d07f27353"
      },
      "source": [
        "print (f\"Correct label of the first image is: {labels[0]}\")"
      ],
      "execution_count": 9,
      "outputs": [
        {
          "output_type": "stream",
          "text": [
            "Correct label of the first image is: 7\n"
          ],
          "name": "stdout"
        }
      ]
    },
    {
      "cell_type": "markdown",
      "metadata": {
        "id": "X3bKSXt28y8T",
        "colab_type": "text"
      },
      "source": [
        "### Subsampling\n",
        "\n",
        "Although, in practice you typically want to use as much data as possible to train your models, large datasets are not very suitable for experimenting and visualization -- it is just too annoying to have to wait minutes for each step to continue. Thus, 60000 examples is a bit too much for our purposes, so why not to sample just 2000."
      ]
    },
    {
      "cell_type": "code",
      "metadata": {
        "id": "SDDMSi-29R72",
        "colab_type": "code",
        "colab": {}
      },
      "source": [
        "train_images = images[0:2000,:]\n",
        "train_labels = labels[0:2000]\n",
        "\n",
        "test_images = images[2000:3000,:]\n",
        "test_labels = labels[2000:3000]"
      ],
      "execution_count": 0,
      "outputs": []
    },
    {
      "cell_type": "code",
      "metadata": {
        "id": "U01rOKxi9S8K",
        "colab_type": "code",
        "colab": {
          "base_uri": "https://localhost:8080/",
          "height": 265
        },
        "outputId": "8e7e6a25-6e88-4de6-f416-de4b286ad738"
      },
      "source": [
        "# We should make sure that the distribution is more or less uniform across our samples\n",
        "plt.hist(train_labels);"
      ],
      "execution_count": 13,
      "outputs": [
        {
          "output_type": "display_data",
          "data": {
            "image/png": "[encoded data removed]",
            "text/plain": [
              "<Figure size 432x288 with 1 Axes>"
            ]
          },
          "metadata": {
            "tags": []
          }
        }
      ]
    },
    {
      "cell_type": "markdown",
      "metadata": {
        "id": "vqX3QBjzpOhl",
        "colab_type": "text"
      },
      "source": [
        "Let's see some more examples from all classes."
      ]
    },
    {
      "cell_type": "code",
      "metadata": {
        "id": "2quhKyr2pOhl",
        "colab_type": "code",
        "colab": {
          "base_uri": "https://localhost:8080/",
          "height": 476
        },
        "outputId": "9b04726b-48ec-45b8-d7d0-9ed921a5b8fd"
      },
      "source": [
        "plt.rcParams['figure.figsize'] = (10.0, 8.0) # set default size of plots\n",
        "# \"Names\" of classes:\n",
        "classes =  ['0', '1', '2', '3', '4', '5', '6', '7', '8', '9']\n",
        "\n",
        "num_classes = len(classes)\n",
        "samples_per_class = 7 # Number of images from each class we want to see\n",
        "for y, cls in enumerate(classes):\n",
        "    idxs = np.flatnonzero(train_labels == y)\n",
        "    idxs = np.random.choice(idxs, samples_per_class, replace=False)\n",
        "    for i, idx in enumerate(idxs):\n",
        "        plt_idx = i * num_classes + y + 1\n",
        "        plt.subplot(samples_per_class, num_classes, plt_idx)\n",
        "        plt.imshow(train_images[idx].reshape((28, 28)), plt.get_cmap('gray'))\n",
        "        plt.axis('off')\n",
        "        if i == 0:\n",
        "            plt.title(cls)\n",
        "plt.show()"
      ],
      "execution_count": 14,
      "outputs": [
        {
          "output_type": "display_data",
          "data": {
            "image/png": "[encoded data removed]",
            "text/plain": [
              "<Figure size 720x576 with 70 Axes>"
            ]
          },
          "metadata": {
            "tags": []
          }
        }
      ]
    },
    {
      "cell_type": "markdown",
      "metadata": {
        "id": "eQH4v-HBeqCX",
        "colab_type": "text"
      },
      "source": [
        "**Classroom exercise**: Let's define a distance function, let it be Eucledian distance (L2)"
      ]
    },
    {
      "cell_type": "code",
      "metadata": {
        "id": "SGcd0I9teqCY",
        "colab_type": "code",
        "colab": {}
      },
      "source": [
        "def dist(img1, img2):\n",
        "  ##### YOUR CODE STARTS #####\n",
        "  return np.linalg.norm(img1-img2, 2)\n",
        "  ##### YOUR CODE ENDS ##### (please do not delete this line)"
      ],
      "execution_count": 0,
      "outputs": []
    },
    {
      "cell_type": "markdown",
      "metadata": {
        "id": "3yZpyMGQ2vtJ",
        "colab_type": "text"
      },
      "source": [
        "Check the validity of the function here:"
      ]
    },
    {
      "cell_type": "code",
      "metadata": {
        "id": "DGzbw4iDy2q8",
        "colab_type": "code",
        "colab": {
          "base_uri": "https://localhost:8080/",
          "height": 34
        },
        "outputId": "3f538c30-2118-402b-da28-4a4997535eb9"
      },
      "source": [
        "print(f\"Distance between first two images is {dist(train_images[0], train_images[1])} and should be about 11.858\")"
      ],
      "execution_count": 28,
      "outputs": [
        {
          "output_type": "stream",
          "text": [
            "Distance between first two images is 11.85839557647705 and should be about 11.858\n"
          ],
          "name": "stdout"
        }
      ]
    },
    {
      "cell_type": "markdown",
      "metadata": {
        "id": "_2mAqlYAeqCc",
        "colab_type": "text"
      },
      "source": [
        "You can play with the defined function below. Check that the distance between images of the same digit is typically smaller than the distance between images of different digits."
      ]
    },
    {
      "cell_type": "code",
      "metadata": {
        "id": "yv5jbMDIeqCd",
        "colab_type": "code",
        "colab": {
          "base_uri": "https://localhost:8080/",
          "height": 51
        },
        "outputId": "1d57de80-8d0f-412c-e613-5bd163408cc4"
      },
      "source": [
        "print(f\"Distance between image with a class {train_labels[1]} and class {train_labels[3]} is {dist(train_images[1], train_images[3])}\")\n",
        "print(f\"Distance between image with a class {train_labels[1]} and class {train_labels[11]} is {dist(train_images[1], train_images[11])}\")"
      ],
      "execution_count": 29,
      "outputs": [
        {
          "output_type": "stream",
          "text": [
            "Distance between image with a class 3 and class 6 is 10.87264633178711\n",
            "Distance between image with a class 3 and class 3 is 8.07426929473877\n"
          ],
          "name": "stdout"
        }
      ]
    },
    {
      "cell_type": "markdown",
      "metadata": {
        "id": "Q1OhO80neqCg",
        "colab_type": "text"
      },
      "source": [
        "Now the actual algorithm. It consists of three steps.\n",
        "\n",
        "1. Compute distances to all points in the dataset\n",
        "2. Find the closest point, and \n",
        "3. Report the corresponding label.\n",
        "\n",
        "**Classroom exercise**: Implement the three steps.\n",
        "\n",
        "We shall do it gently. First we pick a sample image that we will be classifying. Let us say that the first image from the `test_images` is an unknown image sent by our friend:"
      ]
    },
    {
      "cell_type": "code",
      "metadata": {
        "id": "XZUcvMUkdizm",
        "colab_type": "code",
        "colab": {}
      },
      "source": [
        "test_image = test_images[0]\n",
        "test_label = test_labels[0]"
      ],
      "execution_count": 0,
      "outputs": []
    },
    {
      "cell_type": "code",
      "metadata": {
        "id": "XUREtv7yeqCh",
        "colab_type": "code",
        "colab": {
          "base_uri": "https://localhost:8080/",
          "height": 466
        },
        "outputId": "df2aeb17-2bfa-4240-8c11-40e56e1a975c"
      },
      "source": [
        "img_matrix = test_image.reshape((28, 28))\n",
        "plt.imshow(img_matrix, plt.get_cmap('gray'));\n",
        "plt.axis('off')\n",
        "plt.show()"
      ],
      "execution_count": 31,
      "outputs": [
        {
          "output_type": "display_data",
          "data": {
            "image/png": "[encoded data removed]",
            "text/plain": [
              "<Figure size 720x576 with 1 Axes>"
            ]
          },
          "metadata": {
            "tags": []
          }
        }
      ]
    },
    {
      "cell_type": "markdown",
      "metadata": {
        "id": "K5C5pdgYeqCk",
        "colab_type": "text"
      },
      "source": [
        "**Classroom exercise:** compute all distances from the `test_image` to the `train_images` in the dataset"
      ]
    },
    {
      "cell_type": "code",
      "metadata": {
        "id": "-wSVGX-ZeqCk",
        "colab_type": "code",
        "colab": {
          "base_uri": "https://localhost:8080/",
          "height": 34
        },
        "outputId": "7153c407-7250-4bbf-9b26-040a9fd85aeb"
      },
      "source": [
        "##### YOUR CODE STARTS #####\n",
        "all_distances = [dist(test_image, image) for image in train_images]\n",
        "##### YOUR CODE ENDS ##### (please do not delete this line)\n",
        "all_distances[0:5]"
      ],
      "execution_count": 35,
      "outputs": [
        {
          "output_type": "execute_result",
          "data": {
            "text/plain": [
              "[10.115574, 9.505396, 9.084774, 9.745117, 8.398525]"
            ]
          },
          "metadata": {
            "tags": []
          },
          "execution_count": 35
        }
      ]
    },
    {
      "cell_type": "markdown",
      "metadata": {
        "id": "NmGWAy6seqCm",
        "colab_type": "text"
      },
      "source": [
        "Now let's find out which image is closest to our `test_image`"
      ]
    },
    {
      "cell_type": "code",
      "metadata": {
        "id": "fF6B4I-beqCn",
        "colab_type": "code",
        "colab": {}
      },
      "source": [
        "i = np.argmin(all_distances)"
      ],
      "execution_count": 0,
      "outputs": []
    },
    {
      "cell_type": "markdown",
      "metadata": {
        "id": "tuM8j03ueqCq",
        "colab_type": "text"
      },
      "source": [
        "Almost done, now report a label with index `i` in `train_labels`"
      ]
    },
    {
      "cell_type": "code",
      "metadata": {
        "id": "x6CEvuHEeqCq",
        "colab_type": "code",
        "colab": {}
      },
      "source": [
        "predicted_label = train_labels[i]"
      ],
      "execution_count": 0,
      "outputs": []
    },
    {
      "cell_type": "markdown",
      "metadata": {
        "id": "gPqeP2-reqCt",
        "colab_type": "text"
      },
      "source": [
        "Compare it to the true label of the first image in the `train_labels`"
      ]
    },
    {
      "cell_type": "code",
      "metadata": {
        "id": "rCn1qwKoeqCz",
        "colab_type": "code",
        "colab": {
          "base_uri": "https://localhost:8080/",
          "height": 34
        },
        "outputId": "56cf2112-f1df-4172-a54c-250a3338986f"
      },
      "source": [
        "print(f\"Predicted class for the first image is {predicted_label} and the true label is {test_label}\")"
      ],
      "execution_count": 38,
      "outputs": [
        {
          "output_type": "stream",
          "text": [
            "Predicted class for the first image is 8 and the true label is 8\n"
          ],
          "name": "stdout"
        }
      ]
    },
    {
      "cell_type": "markdown",
      "metadata": {
        "id": "JmMSNVMqfgjk",
        "colab_type": "text"
      },
      "source": [
        "Here we can visualise the nearest in terms of the Eucledian distance image from the `train_images`"
      ]
    },
    {
      "cell_type": "code",
      "metadata": {
        "id": "Vhdry7k2eqC1",
        "colab_type": "code",
        "colab": {
          "base_uri": "https://localhost:8080/",
          "height": 466
        },
        "outputId": "e6f57de1-6325-4e2b-d546-9fd3dae544cd"
      },
      "source": [
        "img_matrix = train_images[i,:].reshape((28, 28))\n",
        "plt.imshow(img_matrix, plt.get_cmap('gray'));\n",
        "plt.axis('off')\n",
        "plt.show()"
      ],
      "execution_count": 39,
      "outputs": [
        {
          "output_type": "display_data",
          "data": {
            "image/png": "[encoded data removed]",
            "text/plain": [
              "<Figure size 720x576 with 1 Axes>"
            ]
          },
          "metadata": {
            "tags": []
          }
        }
      ]
    },
    {
      "cell_type": "markdown",
      "metadata": {
        "id": "mKBRz8GNeqC4",
        "colab_type": "text"
      },
      "source": [
        "**Classroom exercise:** Now we should make a function out of the code we have already written. "
      ]
    },
    {
      "cell_type": "code",
      "metadata": {
        "id": "V50nuLureqC5",
        "colab_type": "code",
        "colab": {}
      },
      "source": [
        "def classify(image):\n",
        "  ##### YOUR CODE STARTS #####\n",
        "  all_distances = [dist(test_image, x) for x in train_images]\n",
        "  prediction =  train_labels[np.argmin(all_distances)]\n",
        "  ##### YOUR CODE ENDS ##### (please do not delete this line)\n",
        "  return prediction"
      ],
      "execution_count": 0,
      "outputs": []
    },
    {
      "cell_type": "markdown",
      "metadata": {
        "id": "lf4oXlzteqC8",
        "colab_type": "text"
      },
      "source": [
        "Let's test this function to verify that it works"
      ]
    },
    {
      "cell_type": "code",
      "metadata": {
        "id": "T0_npOGYeqC-",
        "colab_type": "code",
        "colab": {
          "base_uri": "https://localhost:8080/",
          "height": 34
        },
        "outputId": "53e13d4a-74ca-4510-d4da-361e80ca3884"
      },
      "source": [
        "print(f\"Predicted class for the first image is {classify(test_image)} and the true label is {test_label}\")"
      ],
      "execution_count": 41,
      "outputs": [
        {
          "output_type": "stream",
          "text": [
            "Predicted class for the first image is 8 and the true label is 8\n"
          ],
          "name": "stdout"
        }
      ]
    },
    {
      "cell_type": "markdown",
      "metadata": {
        "id": "8s9g__SbqW30",
        "colab_type": "text"
      },
      "source": [
        "One very popular variation of Nearest Neighbour is K-nearest neighbour. In this algorithm a label for a new instance is chosen by majority vote by **`k`** of its nearest neighbors. \n",
        "\n",
        "The actual algorithm is not very different from vanila nearest neighbour:\n",
        "\n",
        "1. Compute distances to all points in the dataset\n",
        "2. Find the **`k`** closest points (you may consider using `np.argsort` function)\n",
        "3. Report the most popular label from these **`k`**. (maybe `np.bincount` can help)"
      ]
    },
    {
      "cell_type": "markdown",
      "metadata": {
        "id": "tz9XASPxeqDC",
        "colab_type": "text"
      },
      "source": [
        "## Homework exercise 1 (3 points): KNN\n",
        "\n",
        "<font color='red'>**(a)** Implement the aformentioned algorithm in the cell below (2 points)</font>"
      ]
    },
    {
      "cell_type": "code",
      "metadata": {
        "id": "J91vFM8yeqDC",
        "colab_type": "code",
        "colab": {}
      },
      "source": [
        "from collections import Counter\n",
        "\n",
        "def classify_knn(image, k):\n",
        "  ##### YOUR CODE STARTS #####\n",
        "  all_distances = [dist(image, x) for x in train_images]\n",
        "  indexies = np.argsort(all_distances)[:k]\n",
        "  labels = train_labels[indexies]\n",
        "  # print(labels)\n",
        "  counted = Counter(labels)\n",
        "  prediction = counted.most_common(1)[0][0]\n",
        "\n",
        "  ##### YOUR CODE ENDS ##### (please do not delete this line)\n",
        "  return prediction"
      ],
      "execution_count": 0,
      "outputs": []
    },
    {
      "cell_type": "markdown",
      "metadata": {
        "id": "lpP9LIhWeqDE",
        "colab_type": "text"
      },
      "source": [
        "Test the function on `test_image`:"
      ]
    },
    {
      "cell_type": "code",
      "metadata": {
        "id": "a1ZjNWxzeqDF",
        "colab_type": "code",
        "colab": {
          "base_uri": "https://localhost:8080/",
          "height": 34
        },
        "outputId": "ce50c137-3b1e-459f-bcea-006c9bb7d103"
      },
      "source": [
        "print(f\"Predicted class for the first image is {classify_knn(test_image, 10)} and the true label is {test_label}\")"
      ],
      "execution_count": 65,
      "outputs": [
        {
          "output_type": "stream",
          "text": [
            "Predicted class for the first image is 8 and the true label is 8\n"
          ],
          "name": "stdout"
        }
      ]
    },
    {
      "cell_type": "markdown",
      "metadata": {
        "id": "RkIbSADBjCpB",
        "colab_type": "text"
      },
      "source": [
        "<font color='red'>**(b)** Modify the function `classify_knn` adding a print statement that outputs labels of K nearest labels. Report 10 nearest neighbours  for the `test_image`. Explain its output in the cell below. (1 point) </font>"
      ]
    },
    {
      "cell_type": "markdown",
      "metadata": {
        "id": "TzlSQ4zPqj-J",
        "colab_type": "text"
      },
      "source": [
        "Answer to (b): `[8 8 8 8 5 4 8 8 8 5]`"
      ]
    },
    {
      "cell_type": "markdown",
      "metadata": {
        "id": "YKcSRNayg9r7",
        "colab_type": "text"
      },
      "source": [
        "Seems like Nearest Neighbor works, indeed! Apply it to all 1000 test images and then estimate it's effectivness.\n",
        "\n",
        "**Classroom exercise:** Classify all test images and store them into a separate variable `test_predicted`, choose `k` = 10. **NB, don't forget to uncomment all print statements inside the function!**"
      ]
    },
    {
      "cell_type": "code",
      "metadata": {
        "id": "8oIBNn6YgbK9",
        "colab_type": "code",
        "colab": {}
      },
      "source": [
        "test_predicted = [classify_knn(x, 10) for x in test_images]"
      ],
      "execution_count": 0,
      "outputs": []
    },
    {
      "cell_type": "markdown",
      "metadata": {
        "id": "pXLR_7dOkK7p",
        "colab_type": "text"
      },
      "source": [
        "How many instances from the test set the classifier has predicted correctly?"
      ]
    },
    {
      "cell_type": "code",
      "metadata": {
        "id": "7piY3yeZkNC_",
        "colab_type": "code",
        "colab": {
          "base_uri": "https://localhost:8080/",
          "height": 34
        },
        "outputId": "7e1ded2b-ec0a-4412-f9c3-a8e1bbb3da12"
      },
      "source": [
        "n_correct = np.sum(test_predicted == test_labels)\n",
        "print(f\"Number of correctly predicted images is {n_correct}\")"
      ],
      "execution_count": 67,
      "outputs": [
        {
          "output_type": "stream",
          "text": [
            "Number of correctly predicted images is 871\n"
          ],
          "name": "stdout"
        }
      ]
    },
    {
      "cell_type": "markdown",
      "metadata": {
        "id": "qPM7UHbHkXIb",
        "colab_type": "text"
      },
      "source": [
        "Now we will use **`accuracy`** (namely, proportion of correctly guessed classes) to estimate the performance of our nearest neighbor classifier. For that we need to divide number of correctly predicted images by total number of images."
      ]
    },
    {
      "cell_type": "code",
      "metadata": {
        "id": "_a9_1ZgKkRVf",
        "colab_type": "code",
        "colab": {
          "base_uri": "https://localhost:8080/",
          "height": 34
        },
        "outputId": "90a2d7e4-f66f-479b-8b10-9daad06dcac3"
      },
      "source": [
        "nn_accuracy = n_correct/len(test_labels)\n",
        "print(f\"Final accuracy of our nearest neighbor classifier is {nn_accuracy}. Not bad!\")"
      ],
      "execution_count": 68,
      "outputs": [
        {
          "output_type": "stream",
          "text": [
            "Final accuracy of our nearest neighbor classifier is 0.871. Not bad!\n"
          ],
          "name": "stdout"
        }
      ]
    },
    {
      "cell_type": "markdown",
      "metadata": {
        "id": "h12yXjMPk8Kz",
        "colab_type": "text"
      },
      "source": [
        "Let's examine some of the missclassified examples.\n"
      ]
    },
    {
      "cell_type": "code",
      "metadata": {
        "id": "pPAjmuQdki1Q",
        "colab_type": "code",
        "colab": {
          "base_uri": "https://localhost:8080/",
          "height": 483
        },
        "outputId": "f581285d-2306-4982-80e7-d45eab20f407"
      },
      "source": [
        "missclassified = np.where(test_predicted != test_labels)[0]\n",
        "\n",
        "# Set an index of missclassified instance you want to examine\n",
        "index = 1\n",
        "\n",
        "# Plot this instance as usual\n",
        "img_matrix = test_images[missclassified[index]].reshape((28, 28))\n",
        "plt.imshow(img_matrix, plt.get_cmap('gray'))\n",
        "plt.axis('off')\n",
        "print(f\"This image with {test_labels[missclassified[index]]} was incorrectly predicted as {test_predicted[missclassified[index]]}\")"
      ],
      "execution_count": 69,
      "outputs": [
        {
          "output_type": "stream",
          "text": [
            "This image with 4 was incorrectly predicted as 9\n"
          ],
          "name": "stdout"
        },
        {
          "output_type": "display_data",
          "data": {
            "image/png": "[encoded data removed]",
            "text/plain": [
              "<Figure size 720x576 with 1 Axes>"
            ]
          },
          "metadata": {
            "tags": []
          }
        }
      ]
    },
    {
      "cell_type": "markdown",
      "metadata": {
        "id": "X2xsOtQCuHla",
        "colab_type": "text"
      },
      "source": [
        "## Homework exercise 2 (3 points): exploring misclassified examples\n",
        "<font color='red'>**(a)** Modify the visualisation code that we used to visualise a grid of example images from different classes. Instead of random examples for each class, visualise misclassified examples from each class. For example, in the first column visualise images that had true label `0` but were classified as something else, in the second column, show examples of images that had label `1` but were misclassified into another class and so on. Add a title to each small image, in the following format `true_label, predicted_label`. (2 points)</font>"
      ]
    },
    {
      "cell_type": "code",
      "metadata": {
        "id": "XzVSFpyjlS2d",
        "colab_type": "code",
        "colab": {
          "base_uri": "https://localhost:8080/",
          "height": 476
        },
        "outputId": "83d70d0a-efb8-42fd-da51-04d2d93eea09"
      },
      "source": [
        "plt.rcParams['figure.figsize'] = (10.0, 8.0) # set default size of plots\n",
        "# \"Names\" of classes:\n",
        "classes =  ['0', '1', '2', '3', '4', '5', '6', '7', '8', '9']\n",
        "num_classes = len(classes)\n",
        "samples_per_class = 7 # Number of images from each class we want to see\n",
        "for y, cls in enumerate(classes):\n",
        "    ##### YOUR CODE STARTS #####\n",
        "    incorrect = np.argwhere(\n",
        "        (test_predicted != test_labels) & \n",
        "        (test_labels == int(cls))\n",
        "        )\n",
        "    idxs = incorrect[:7].flatten()\n",
        "\n",
        "    for i, idx in enumerate(idxs):\n",
        "      plt_idx = i * num_classes + y + 1\n",
        "      plt.subplot(samples_per_class, num_classes, plt_idx)\n",
        "      plt.title(f'{test_labels[idx]}, {test_predicted[idx]}')\n",
        "      plt.imshow(test_images[idx].reshape((28, 28)), plt.get_cmap('gray'))\n",
        "      plt.axis('off')\n",
        "    ##### YOUR CODE ENDS ##### (please do not delete this line)\n",
        "plt.show()"
      ],
      "execution_count": 101,
      "outputs": [
        {
          "output_type": "display_data",
          "data": {
            "image/png": "[encoded data removed]",
            "text/plain": [
              "<Figure size 720x576 with 52 Axes>"
            ]
          },
          "metadata": {
            "tags": []
          }
        }
      ]
    },
    {
      "cell_type": "markdown",
      "metadata": {
        "id": "73G5hFzrxrVc",
        "colab_type": "text"
      },
      "source": [
        "<font color='red'>**(b)** What is your take away from this figure? Are all classes equally missclassified? Why? Are there any classes that KNN confuses more often, why? (1 point) </font>"
      ]
    },
    {
      "cell_type": "markdown",
      "metadata": {
        "id": "rmNqSRNiysh-",
        "colab_type": "text"
      },
      "source": [
        "Answer to (b):  \n",
        "Some classes are misclassified more often than others. E.g., there are no instances of misclassified \"1\", and few instances of \"0\" and \"6\". On the other hand, errors in other examples are more frequent.  \n",
        "Since we use L2 norm as a metric for KNN some small change in the image doesn't introduce significant change in the metric thus for example \"4\" in many cases looks like \"9\" and an only small part of the image distinguish this difference. Contrariwise for \"1\", \"1\" is different from other digits and thereby is differentiated easily by KNN."
      ]
    },
    {
      "cell_type": "markdown",
      "metadata": {
        "id": "NZDsFKpngFK1",
        "colab_type": "text"
      },
      "source": [
        "### Scikit-learn"
      ]
    },
    {
      "cell_type": "markdown",
      "metadata": {
        "id": "8eNqmHxsgFK2",
        "colab_type": "text"
      },
      "source": [
        "Now let us use the Scikit-Learn package to train the Nearest Neigbor classifier.\n",
        "\n",
        "Most of the models that we are going to use are implemented in scikit-learn, for example KNN is available under the name `KNNeiborsClassifier`. All you need to do is to import it from `sklearn` (this a short name for scikit-learn)."
      ]
    },
    {
      "cell_type": "code",
      "metadata": {
        "id": "OV7PNg-wgFK3",
        "colab_type": "code",
        "colab": {}
      },
      "source": [
        "import sklearn\n",
        "from sklearn.neighbors import KNeighborsClassifier"
      ],
      "execution_count": 0,
      "outputs": []
    },
    {
      "cell_type": "markdown",
      "metadata": {
        "id": "h0Kwi4szgFK5",
        "colab_type": "text"
      },
      "source": [
        "Let's create an instance of the KNN classifier by calling a `KNeighborsClassifier()` function. As an input parameter you can specify `k`. For example 5 nearest neighbour classifier is created like this:"
      ]
    },
    {
      "cell_type": "code",
      "metadata": {
        "id": "k8yL3NTqgFK5",
        "colab_type": "code",
        "colab": {}
      },
      "source": [
        "model = KNeighborsClassifier(10)"
      ],
      "execution_count": 0,
      "outputs": []
    },
    {
      "cell_type": "markdown",
      "metadata": {
        "id": "wyXtNqpFgFK9",
        "colab_type": "text"
      },
      "source": [
        "Most of the scikit-learn models have method `fit` that let you train the classifier given training instances and correct labels:"
      ]
    },
    {
      "cell_type": "code",
      "metadata": {
        "id": "6bgzqOEYgFK-",
        "colab_type": "code",
        "colab": {
          "base_uri": "https://localhost:8080/",
          "height": 68
        },
        "outputId": "804c142f-0b7d-459c-fa42-97bae6bf1456"
      },
      "source": [
        "model.fit(train_images, train_labels)"
      ],
      "execution_count": 104,
      "outputs": [
        {
          "output_type": "execute_result",
          "data": {
            "text/plain": [
              "KNeighborsClassifier(algorithm='auto', leaf_size=30, metric='minkowski',\n",
              "                     metric_params=None, n_jobs=None, n_neighbors=10, p=2,\n",
              "                     weights='uniform')"
            ]
          },
          "metadata": {
            "tags": []
          },
          "execution_count": 104
        }
      ]
    },
    {
      "cell_type": "markdown",
      "metadata": {
        "id": "NAHwRm4igFLA",
        "colab_type": "text"
      },
      "source": [
        "**Classroom exercise:** Use trained nearest neighbor classifier (`model`) to predict `test_images` and then calculate the accuracy. How does it compare to the one we obtained in the class?"
      ]
    },
    {
      "cell_type": "code",
      "metadata": {
        "id": "1YfjlFlFgFLB",
        "colab_type": "code",
        "colab": {}
      },
      "source": [
        "##### YOUR CODE STARTS #####\n",
        "n_correct = ...\n",
        "##### YOUR CODE ENDS ##### (please do not delete this line)\n",
        "print(f\"Number of correctly predicted images is {n_correct}\")"
      ],
      "execution_count": 0,
      "outputs": []
    },
    {
      "cell_type": "markdown",
      "metadata": {
        "id": "mLDk2_c3P6_j",
        "colab_type": "text"
      },
      "source": [
        "# Regression\n",
        "\n",
        "## Small 2D example\n",
        "\n",
        "Here we will create a small toy dataset for playing around with some regression algorithms."
      ]
    },
    {
      "cell_type": "code",
      "metadata": {
        "id": "Q255sYHwP7SS",
        "colab_type": "code",
        "colab": {}
      },
      "source": [
        "import numpy as np \n",
        "import pandas as pd\n",
        "\n",
        "example_data = pd.DataFrame({'distance':[1,2,3,4,5], 'fare_amount':[2,4,5,4,5]})"
      ],
      "execution_count": 0,
      "outputs": []
    },
    {
      "cell_type": "markdown",
      "metadata": {
        "id": "narJIhxlpKTy",
        "colab_type": "text"
      },
      "source": [
        "You can access columns using `.` notation and name of the column, e.g.:"
      ]
    },
    {
      "cell_type": "code",
      "metadata": {
        "id": "4AcFY5iOpJsm",
        "colab_type": "code",
        "colab": {}
      },
      "source": [
        "example_data.fare_amount"
      ],
      "execution_count": 0,
      "outputs": []
    },
    {
      "cell_type": "markdown",
      "metadata": {
        "id": "JBK_tjSDzMeo",
        "colab_type": "text"
      },
      "source": [
        "The following is my attempt to reproduce figures exactly as in lecture slides. Never mind, you will be able to use regular `matplotlib` as before if you like."
      ]
    },
    {
      "cell_type": "code",
      "metadata": {
        "id": "_uZnwxr6RxyF",
        "colab_type": "code",
        "colab": {}
      },
      "source": [
        "# Plotting as in ggplot2\n",
        "!pip install plotnine\n",
        "from plotnine import *"
      ],
      "execution_count": 0,
      "outputs": []
    },
    {
      "cell_type": "code",
      "metadata": {
        "id": "6Gx5SkM9RsA0",
        "colab_type": "code",
        "colab": {}
      },
      "source": [
        "fig = (\n",
        "    ggplot(data = example_data,\n",
        "          mapping = aes(x = 'distance', y = 'fare_amount')) +\n",
        "    geom_point(fill = '#36B059', \n",
        "               size = 5.0,\n",
        "               stroke = 2.5,\n",
        "               colour = '#2BE062',\n",
        "               shape = 'o') +\n",
        "    labs(\n",
        "        title ='',\n",
        "        x = 'distance',\n",
        "        y = 'fare amount',\n",
        "    ) +\n",
        "    xlim(0, 6) +\n",
        "    ylim(0, 7) +\n",
        "    theme_bw() + \n",
        "    theme(figure_size = (5, 5),\n",
        "          axis_line = element_line(size = 0.5, colour = \"black\"),\n",
        "          panel_grid_major = element_line(size = 0.05, colour = \"black\"),\n",
        "          panel_grid_minor = element_line(size = 0.05, colour = \"black\"),\n",
        "          axis_text = element_text(colour ='black'))\n",
        ")\n",
        "fig"
      ],
      "execution_count": 0,
      "outputs": []
    },
    {
      "cell_type": "markdown",
      "metadata": {
        "id": "MBnG26L6SvV-",
        "colab_type": "text"
      },
      "source": [
        "### Linear regression on a toy example\n",
        "**Classroom exercise**: find value of **`intercept`**,  using precalculated **`slope`** (`w1`) and the equation of the line (`y = intercept + slope*x`). Remember that in this example `x` is `distance` and `y` is `fare_amount`."
      ]
    },
    {
      "cell_type": "code",
      "metadata": {
        "id": "q0wS730hP8p6",
        "colab_type": "code",
        "colab": {}
      },
      "source": [
        "##### YOUR CODE STARTS #####\n",
        "w1 = ...\n",
        "intercept = ...\n",
        "##### YOUR CODE ENDS ##### (please do not delete this line)\n",
        "print(f\"w1 = {w1}; intercept = {intercept}, while the correct values are w1 = 0.6 and intercept = 2.2\")"
      ],
      "execution_count": 0,
      "outputs": []
    },
    {
      "cell_type": "markdown",
      "metadata": {
        "id": "aFX1opwLVFu2",
        "colab_type": "text"
      },
      "source": [
        "We can now plug in these coefficients to visually examine regression line that we have computed"
      ]
    },
    {
      "cell_type": "code",
      "metadata": {
        "id": "VHWrTU2AEPqV",
        "colab_type": "code",
        "colab": {}
      },
      "source": [
        "fig + geom_abline(intercept = intercept, slope = w1, color=\"black\", linetype=\"dashed\", size=1.5)"
      ],
      "execution_count": 0,
      "outputs": []
    },
    {
      "cell_type": "markdown",
      "metadata": {
        "id": "y8RlGcKHUKLZ",
        "colab_type": "text"
      },
      "source": [
        "We can compare our regression line with a regression line computed by Python"
      ]
    },
    {
      "cell_type": "code",
      "metadata": {
        "id": "c5zVWrYsETu-",
        "colab_type": "code",
        "colab": {}
      },
      "source": [
        "fig + geom_abline(intercept = intercept, slope = w1, color=\"black\", linetype=\"dashed\", size=1.5) + geom_smooth(method = 'lm', se = False, colour = 'red')"
      ],
      "execution_count": 0,
      "outputs": []
    },
    {
      "cell_type": "markdown",
      "metadata": {
        "id": "2592NFjoX83f",
        "colab_type": "text"
      },
      "source": [
        "### Decision tree (DT) algorithm\n",
        "We will borrow DT algorithm from sklearn package as linear regression. Sklearn has both `DecisionTreeRegressor` and `DecisionTreeClassifier` at its disposal. For now, let's use regressor."
      ]
    },
    {
      "cell_type": "code",
      "metadata": {
        "id": "Kr2p9vu0QZ6O",
        "colab_type": "code",
        "colab": {}
      },
      "source": [
        "from sklearn.tree import DecisionTreeRegressor\n",
        "dtr=DecisionTreeRegressor(max_depth = 1)"
      ],
      "execution_count": 0,
      "outputs": []
    },
    {
      "cell_type": "markdown",
      "metadata": {
        "id": "vawPyvl1YGNk",
        "colab_type": "text"
      },
      "source": [
        "we use function `fit` to train newly created DT instance on our `example_data`"
      ]
    },
    {
      "cell_type": "code",
      "metadata": {
        "id": "ODKVb6OrXtDA",
        "colab_type": "code",
        "colab": {}
      },
      "source": [
        "dtr.fit(np.array(example_data.distance).reshape(-1, 1), example_data.fare_amount)"
      ],
      "execution_count": 0,
      "outputs": []
    },
    {
      "cell_type": "markdown",
      "metadata": {
        "id": "in9l7yuuTKxi",
        "colab_type": "text"
      },
      "source": [
        "### Creating a synthetic test set that would cover up the whole space"
      ]
    },
    {
      "cell_type": "code",
      "metadata": {
        "id": "lm72D7nAQBKs",
        "colab_type": "code",
        "colab": {}
      },
      "source": [
        "test_data = pd.concat([pd.DataFrame({'distance': np.repeat(x, 71), 'fare_amount': np.linspace(start=0, stop=7, num=71)}) for x in np.linspace(start=0, stop=6, num=61)])\n",
        "test_data.head()"
      ],
      "execution_count": 0,
      "outputs": []
    },
    {
      "cell_type": "code",
      "metadata": {
        "colab_type": "code",
        "id": "dcW4UyT_859T",
        "colab": {}
      },
      "source": [
        "test_data['predicted_amount'] = dtr.predict(np.array(test_data.distance).reshape(-1, 1))"
      ],
      "execution_count": 0,
      "outputs": []
    },
    {
      "cell_type": "code",
      "metadata": {
        "id": "fyQWG0OyQmxz",
        "colab_type": "code",
        "colab": {}
      },
      "source": [
        "fig = (\n",
        "    ggplot(data = example_data,\n",
        "          mapping = aes(x = 'distance', y = 'fare_amount')) +\n",
        "    geom_point(data = test_data, mapping = aes(x = 'distance', y = 'fare_amount', size = 5.0, colour = 'predicted_amount'), shape = 's') +\n",
        "    geom_point(fill = '#36B059', \n",
        "               size = 5.0,\n",
        "               stroke = 2.5,\n",
        "               colour = '#2BE062',\n",
        "               shape = 'o') +\n",
        "    labs(\n",
        "        title ='',\n",
        "        x = 'distance',\n",
        "        y = 'fare amount',\n",
        "    ) +\n",
        "    xlim(0, 6) +\n",
        "    ylim(0, 7) +\n",
        "    theme_bw() + \n",
        "    theme(figure_size = (5, 5),\n",
        "          axis_line = element_line(size = 0.5, colour = \"black\"),\n",
        "          panel_grid_major = element_line(size = 0.05, colour = \"black\"),\n",
        "          panel_grid_minor = element_line(size = 0.05, colour = \"black\"),\n",
        "          axis_text = element_text(colour ='black')) + \n",
        "    guides(size = False)\n",
        ")\n",
        "fig"
      ],
      "execution_count": 0,
      "outputs": []
    },
    {
      "cell_type": "markdown",
      "metadata": {
        "id": "1YXt-Gxw9UY7",
        "colab_type": "text"
      },
      "source": [
        "## Homework exercise 3 (3 points): visualising linear regression\n",
        "\n",
        "<font color='red'>**(a)** use previously computed coefficients `w1` and `intercept` of the linear regression model to predict the fare amount in the `test_data` (1 point)"
      ]
    },
    {
      "cell_type": "code",
      "metadata": {
        "id": "BPzCHrC-9kuW",
        "colab_type": "code",
        "colab": {}
      },
      "source": [
        "##### YOUR CODE STARTS #####\n",
        "test_data['predicted_amount'] = ...\n",
        "##### YOUR CODE ENDS ##### (please do not delete this line)"
      ],
      "execution_count": 0,
      "outputs": []
    },
    {
      "cell_type": "markdown",
      "metadata": {
        "id": "1jsc7JbcphX5",
        "colab_type": "text"
      },
      "source": [
        "<font color='red'>**(b)** visualise these predictions as well as linear regression line the way we have done it for Decision Tree. Explain the results. (1 point)\n",
        "</font>"
      ]
    },
    {
      "cell_type": "code",
      "metadata": {
        "id": "utfQ_3GDplfx",
        "colab_type": "code",
        "colab": {}
      },
      "source": [
        "##### YOUR CODE STARTS #####\n",
        "fig = \n",
        "##### YOUR CODE ENDS ##### (please do not delete this line)"
      ],
      "execution_count": 0,
      "outputs": []
    },
    {
      "cell_type": "markdown",
      "metadata": {
        "id": "BY97fEcmqAW9",
        "colab_type": "text"
      },
      "source": [
        "<font color='red'>**(c)** Interpret the resulting figure. (1 point)\n",
        "</font>"
      ]
    },
    {
      "cell_type": "markdown",
      "metadata": {
        "id": "yiyv1wdqImo-",
        "colab_type": "text"
      },
      "source": [
        "## NYC Taxi dataset\n",
        "Next we will work with real-world dataset collected from taxis operating in New York City"
      ]
    },
    {
      "cell_type": "code",
      "metadata": {
        "id": "vVU6bxgsNzEh",
        "colab_type": "code",
        "colab": {}
      },
      "source": [
        "# Code to read csv file into Colaboratory:\n",
        "!pip install -U -q PyDrive\n",
        "from pydrive.auth import GoogleAuth\n",
        "from pydrive.drive import GoogleDrive\n",
        "from google.colab import auth\n",
        "from oauth2client.client import GoogleCredentials"
      ],
      "execution_count": 0,
      "outputs": []
    },
    {
      "cell_type": "code",
      "metadata": {
        "id": "3QNY3__uCWRY",
        "colab_type": "code",
        "colab": {}
      },
      "source": [
        "# Authenticate and create the PyDrive client.\n",
        "auth.authenticate_user()\n",
        "gauth = GoogleAuth()\n",
        "gauth.credentials = GoogleCredentials.get_application_default()\n",
        "drive = GoogleDrive(gauth)\n",
        "\n",
        "link = 'https://drive.google.com/file/d/1XBBNQ6wnaz5W-h8qbL-2_4MNchGR8YCI' # The shareable link"
      ],
      "execution_count": 0,
      "outputs": []
    },
    {
      "cell_type": "code",
      "metadata": {
        "id": "RmMEiS7ICgRB",
        "colab_type": "code",
        "colab": {}
      },
      "source": [
        "downloaded = drive.CreateFile({'id':'1XBBNQ6wnaz5W-h8qbL-2_4MNchGR8YCI'}) \n",
        "downloaded.GetContentFile('nyc_data.zip')"
      ],
      "execution_count": 0,
      "outputs": []
    },
    {
      "cell_type": "code",
      "metadata": {
        "id": "DvH1jMyPOHmy",
        "colab_type": "code",
        "colab": {}
      },
      "source": [
        "# check that nyc_data.zip exists\n",
        "!ls"
      ],
      "execution_count": 0,
      "outputs": []
    },
    {
      "cell_type": "code",
      "metadata": {
        "id": "q0zYwWsoC-sW",
        "colab_type": "code",
        "colab": {}
      },
      "source": [
        "# After archive has been downloaded\n",
        "# unzip it\n",
        "!unzip nyc_data.zip\n",
        "\n",
        "# check that train_2M.csv, test.csv, model.pickle and sample_submission.csv exist\n",
        "!ls"
      ],
      "execution_count": 0,
      "outputs": []
    },
    {
      "cell_type": "markdown",
      "metadata": {
        "id": "GkSYWHwZEG9j",
        "colab_type": "text"
      },
      "source": [
        "* `train_2M.csv` contains 2 million observations from NYC dataset (6 independent variables and fare_amount that we need to predict).\n",
        "* `test.csv` contains new observations, for which we have to estimate `fare_amount` based on train data.\n",
        "* `sample_submission.csv` - a sample submission file in the correct format (columns `key` and `fare_amount`). Every row in this file matches every row in `test.csv`.\n",
        "* `model.pickel` - file that contains trained model saved as a pickle (we are going to deal with it later)"
      ]
    },
    {
      "cell_type": "markdown",
      "metadata": {
        "id": "d9MiatCvf_Qz",
        "colab_type": "text"
      },
      "source": [
        "### Setting up Kaggle"
      ]
    },
    {
      "cell_type": "markdown",
      "metadata": {
        "id": "8wEnpDansSd2",
        "colab_type": "text"
      },
      "source": [
        "You need to have an account on Kaggle.com"
      ]
    },
    {
      "cell_type": "code",
      "metadata": {
        "id": "el8MSVqmEPWo",
        "colab_type": "code",
        "colab": {}
      },
      "source": [
        "!mkdir .kaggle"
      ],
      "execution_count": 0,
      "outputs": []
    },
    {
      "cell_type": "code",
      "metadata": {
        "id": "pqAUm2XZEz7D",
        "colab_type": "code",
        "colab": {}
      },
      "source": [
        "import json\n",
        "token = {\"username\": \"skyfallen\", \"key\": \"4f1e6c128a654675f9abb467ade8ca4d\"}\n",
        "with open('/content/.kaggle/kaggle.json', 'w') as file:\n",
        "    json.dump(token, file)"
      ],
      "execution_count": 0,
      "outputs": []
    },
    {
      "cell_type": "code",
      "metadata": {
        "id": "VOMVGwfHGQbk",
        "colab_type": "code",
        "colab": {}
      },
      "source": [
        "!cp /content/.kaggle/kaggle.json ~/.kaggle/kaggle.json"
      ],
      "execution_count": 0,
      "outputs": []
    },
    {
      "cell_type": "code",
      "metadata": {
        "id": "mW_YpRtHGTsl",
        "colab_type": "code",
        "colab": {}
      },
      "source": [
        "!kaggle config set -n path -v{/content}"
      ],
      "execution_count": 0,
      "outputs": []
    },
    {
      "cell_type": "code",
      "metadata": {
        "id": "QLdLWX2nGWyM",
        "colab_type": "code",
        "colab": {}
      },
      "source": [
        "!chmod 600 ~/.kaggle/kaggle.json"
      ],
      "execution_count": 0,
      "outputs": []
    },
    {
      "cell_type": "markdown",
      "metadata": {
        "id": "2fDy-ghRhlvv",
        "colab_type": "text"
      },
      "source": [
        "In order to sign up for a NYC Taxi competition you need to accept the rules by cliking on \"Late submission\" button in the upper right corner: https://www.kaggle.com/c/new-york-city-taxi-fare-prediction"
      ]
    },
    {
      "cell_type": "markdown",
      "metadata": {
        "id": "h2FromHiSLB4",
        "colab_type": "text"
      },
      "source": [
        "Make a test submission to ensure that the submission mechanism works"
      ]
    },
    {
      "cell_type": "code",
      "metadata": {
        "id": "ULF0BN3LCtSE",
        "colab_type": "code",
        "colab": {}
      },
      "source": [
        "!kaggle competitions submit -c new-york-city-taxi-fare-prediction -f sample_submission.csv -m \"Sample submission test\""
      ],
      "execution_count": 0,
      "outputs": []
    },
    {
      "cell_type": "markdown",
      "metadata": {
        "id": "d4HijXgyspzs",
        "colab_type": "text"
      },
      "source": [
        "Now you can check `My submissions` tab on the website: https://www.kaggle.com/c/new-york-city-taxi-fare-prediction/submissions"
      ]
    },
    {
      "cell_type": "markdown",
      "metadata": {
        "id": "rXvcLJyNSRzH",
        "colab_type": "text"
      },
      "source": [
        "## Read in the NYC data"
      ]
    },
    {
      "cell_type": "code",
      "metadata": {
        "id": "JQXdJrPvDMrZ",
        "colab_type": "code",
        "colab": {}
      },
      "source": [
        "%%time \n",
        "\n",
        "# note that we use only 1M out of 2M records\n",
        "train =  pd.read_csv('train_2M.csv', parse_dates=[\"pickup_datetime\"], nrows = 1_000_000) # the first row will automatically be interpreted as a header"
      ],
      "execution_count": 0,
      "outputs": []
    },
    {
      "cell_type": "markdown",
      "metadata": {
        "id": "s2BdqFzRHFig",
        "colab_type": "text"
      },
      "source": [
        "## Brief Exploratory Data Analysis (EDA)"
      ]
    },
    {
      "cell_type": "code",
      "metadata": {
        "id": "BQTDba2DKDFX",
        "colab_type": "code",
        "colab": {}
      },
      "source": [
        "train.head()"
      ],
      "execution_count": 0,
      "outputs": []
    },
    {
      "cell_type": "code",
      "metadata": {
        "id": "UiuOS0pBKL-E",
        "colab_type": "code",
        "colab": {}
      },
      "source": [
        "train.dtypes"
      ],
      "execution_count": 0,
      "outputs": []
    },
    {
      "cell_type": "code",
      "metadata": {
        "id": "z5658q2zOcJZ",
        "colab_type": "code",
        "colab": {}
      },
      "source": [
        "train.describe()"
      ],
      "execution_count": 0,
      "outputs": []
    },
    {
      "cell_type": "code",
      "metadata": {
        "id": "nYJkes3jOdaJ",
        "colab_type": "code",
        "colab": {}
      },
      "source": [
        "def add_travel_vector_features(df):\n",
        "    df['abs_diff_longitude'] = (df.dropoff_longitude - df.pickup_longitude).abs()\n",
        "    df['abs_diff_latitude'] = (df.dropoff_latitude - df.pickup_latitude).abs()\n",
        "\n",
        "add_travel_vector_features(train)"
      ],
      "execution_count": 0,
      "outputs": []
    },
    {
      "cell_type": "code",
      "metadata": {
        "id": "rvX84Hoxk1Zj",
        "colab_type": "code",
        "colab": {}
      },
      "source": [
        "train.head()"
      ],
      "execution_count": 0,
      "outputs": []
    },
    {
      "cell_type": "markdown",
      "metadata": {
        "id": "ETMJ8EI4lHrh",
        "colab_type": "text"
      },
      "source": [
        "Read in test set"
      ]
    },
    {
      "cell_type": "code",
      "metadata": {
        "id": "17Lkf_YsOguo",
        "colab_type": "code",
        "colab": {}
      },
      "source": [
        "test_df = pd.read_csv('test.csv')\n",
        "test_df.dtypes"
      ],
      "execution_count": 0,
      "outputs": []
    },
    {
      "cell_type": "code",
      "metadata": {
        "id": "nLM0rXFtOiNI",
        "colab_type": "code",
        "colab": {}
      },
      "source": [
        "add_travel_vector_features(test_df)"
      ],
      "execution_count": 0,
      "outputs": []
    },
    {
      "cell_type": "code",
      "metadata": {
        "id": "nHR870EOOj4g",
        "colab_type": "code",
        "colab": {}
      },
      "source": [
        "print(train.isnull().sum())"
      ],
      "execution_count": 0,
      "outputs": []
    },
    {
      "cell_type": "code",
      "metadata": {
        "id": "ygKyHcPJOlJw",
        "colab_type": "code",
        "colab": {}
      },
      "source": [
        "print(f'Old size: {len(train)}')\n",
        "train = train.dropna(how = 'any', axis = 'rows')\n",
        "print(f'New size: {len(train)}')"
      ],
      "execution_count": 0,
      "outputs": []
    },
    {
      "cell_type": "code",
      "metadata": {
        "id": "5ngFKLETOm_4",
        "colab_type": "code",
        "colab": {}
      },
      "source": [
        "plot = train.iloc[:2000].plot.scatter('abs_diff_longitude', 'abs_diff_latitude')"
      ],
      "execution_count": 0,
      "outputs": []
    },
    {
      "cell_type": "code",
      "metadata": {
        "id": "Z5WHdOKjOoi_",
        "colab_type": "code",
        "colab": {}
      },
      "source": [
        "print(f'Old size: {len(train)}')\n",
        "train = train[(train.abs_diff_longitude < 5.0) & (train.abs_diff_latitude < 5.0)]\n",
        "print(f'New size: {len(train)}')"
      ],
      "execution_count": 0,
      "outputs": []
    },
    {
      "cell_type": "code",
      "metadata": {
        "id": "zinnh2oEP2Fj",
        "colab_type": "code",
        "colab": {}
      },
      "source": [
        "plot = train.iloc[:2000].plot.scatter('abs_diff_longitude', 'abs_diff_latitude')"
      ],
      "execution_count": 0,
      "outputs": []
    },
    {
      "cell_type": "markdown",
      "metadata": {
        "id": "lr1Xa6-LHq52",
        "colab_type": "text"
      },
      "source": [
        "### Naive baseline\n",
        "**Classroom exercise**: what is a reasonable baseline for predicting fare amount (`fare_amount` column in NYC taxi dataset) without knowing anything else?"
      ]
    },
    {
      "cell_type": "code",
      "metadata": {
        "id": "U9ZpHS5mQupp",
        "colab_type": "code",
        "colab": {}
      },
      "source": [
        "##### YOUR CODE STARTS #####\n",
        "baseline_predictions = ...\n",
        "##### YOUR CODE ENDS ##### (please do not delete this line)"
      ],
      "execution_count": 0,
      "outputs": []
    },
    {
      "cell_type": "code",
      "metadata": {
        "id": "HtPZhyzMUBOQ",
        "colab_type": "code",
        "colab": {}
      },
      "source": [
        "# Write the predictions to a CSV file which we can submit to the competition.\n",
        "submission = pd.DataFrame(\n",
        "    {'key': test_df.key, 'fare_amount': baseline_predictions},\n",
        "    columns = ['key', 'fare_amount'])\n",
        "submission.to_csv('submission_baseline.csv', index = False)\n",
        "\n",
        "!ls"
      ],
      "execution_count": 0,
      "outputs": []
    },
    {
      "cell_type": "markdown",
      "metadata": {
        "id": "pMTcwEVKZfrP",
        "colab_type": "text"
      },
      "source": [
        "**Classroom exercise**: submit `submission_baseline.csv` to kaggle using earlier example, report RMSE that you get"
      ]
    },
    {
      "cell_type": "code",
      "metadata": {
        "id": "ghUXJjZtWNhR",
        "colab_type": "code",
        "colab": {}
      },
      "source": [
        "##### YOUR CODE STARTS #####\n",
        "!kaggle ...\n",
        "##### YOUR CODE ENDS ##### (please do not delete this line)"
      ],
      "execution_count": 0,
      "outputs": []
    },
    {
      "cell_type": "markdown",
      "metadata": {
        "id": "ba5yhMc2XBxz",
        "colab_type": "text"
      },
      "source": [
        "### Linear regression on NYC taxi dataset based on one feature (abs_diff_longitude)"
      ]
    },
    {
      "cell_type": "markdown",
      "metadata": {
        "id": "QHgq2oyYXzU_",
        "colab_type": "text"
      },
      "source": [
        "**Classroom exercise**: Use earlier example on 2D data to calculate **`slope`** (`w1`) and **`intercept`** based on **`abs_diff_longitude`**\n"
      ]
    },
    {
      "cell_type": "code",
      "metadata": {
        "id": "21P48rhuXE3h",
        "colab_type": "code",
        "colab": {}
      },
      "source": [
        "##### YOUR CODE STARTS #####\n",
        "w1 = ...\n",
        "intercept = ...\n",
        "##### YOUR CODE ENDS ##### (please do not delete this line)\n",
        "print(f\"w1 = {round(w1, 8)}; intercept = {round(intercept, 8)}\")"
      ],
      "execution_count": 0,
      "outputs": []
    },
    {
      "cell_type": "markdown",
      "metadata": {
        "id": "VoCEE4HkaPTB",
        "colab_type": "text"
      },
      "source": [
        "Instead of calculating coefficients ourselves, we can use sklearn"
      ]
    },
    {
      "cell_type": "code",
      "metadata": {
        "id": "ZCA4fNQO0P6J",
        "colab_type": "code",
        "colab": {}
      },
      "source": [
        "from sklearn.linear_model import LinearRegression\n",
        "\n",
        "lr = LinearRegression()\n",
        "lr.fit(train[['abs_diff_longitude']], train[['fare_amount']])"
      ],
      "execution_count": 0,
      "outputs": []
    },
    {
      "cell_type": "markdown",
      "metadata": {
        "id": "pC06Xp1w9A-c",
        "colab_type": "text"
      },
      "source": [
        "#### Inspecting model object"
      ]
    },
    {
      "cell_type": "code",
      "metadata": {
        "id": "V14--yD080QR",
        "colab_type": "code",
        "colab": {}
      },
      "source": [
        "dir(lr)"
      ],
      "execution_count": 0,
      "outputs": []
    },
    {
      "cell_type": "code",
      "metadata": {
        "id": "vnGHTN__AOtp",
        "colab_type": "code",
        "colab": {}
      },
      "source": [
        "# Print learnt weights\n",
        "print(f'[{round(lr.coef_[0][0], 8)}, {round(lr.intercept_[0], 8)}]')"
      ],
      "execution_count": 0,
      "outputs": []
    },
    {
      "cell_type": "markdown",
      "metadata": {
        "id": "GDfEG31gXvKZ",
        "colab_type": "text"
      },
      "source": [
        "Using earlier example, let's predict `fare_amount` based on calculated coefficients **`intercept`** and **`w1`** and **`test_df.abs_diff_longitude`**."
      ]
    },
    {
      "cell_type": "code",
      "metadata": {
        "id": "IdbmbIpzXTI9",
        "colab_type": "code",
        "colab": {}
      },
      "source": [
        "predictions_manual = w1*test_df.abs_diff_longitude + intercept"
      ],
      "execution_count": 0,
      "outputs": []
    },
    {
      "cell_type": "markdown",
      "metadata": {
        "id": "kBCmETriTz-Y",
        "colab_type": "text"
      },
      "source": [
        "Here is how you can predict `fare_amount` for `test_df` using sklearn object `lr`:"
      ]
    },
    {
      "cell_type": "code",
      "metadata": {
        "id": "3OJ83PbMGGnc",
        "colab_type": "code",
        "colab": {}
      },
      "source": [
        "predictions_sklearn = lr.predict(test_df[['abs_diff_longitude']])"
      ],
      "execution_count": 0,
      "outputs": []
    },
    {
      "cell_type": "code",
      "metadata": {
        "id": "yZ7zhICFX8Y6",
        "colab_type": "code",
        "colab": {}
      },
      "source": [
        "submission = pd.DataFrame(\n",
        "    {'key': test_df.key, 'fare_amount': np.squeeze(predictions_sklearn)},\n",
        "    columns = ['key', 'fare_amount'])\n",
        "submission.to_csv('submission_lr_2d.csv', index = False)\n",
        "\n",
        "!ls "
      ],
      "execution_count": 0,
      "outputs": []
    },
    {
      "cell_type": "code",
      "metadata": {
        "id": "hlwRf3w0YCxM",
        "colab_type": "code",
        "colab": {}
      },
      "source": [
        "!kaggle competitions submit -c new-york-city-taxi-fare-prediction -f submission_lr_2d.csv -m \"Linear Regression with only abs_diff_longitude as an independent variable\""
      ],
      "execution_count": 0,
      "outputs": []
    },
    {
      "cell_type": "markdown",
      "metadata": {
        "id": "fLpkthynagGi",
        "colab_type": "text"
      },
      "source": [
        "What RMSE you obtained with this model?"
      ]
    },
    {
      "cell_type": "markdown",
      "metadata": {
        "id": "4ND-fEPFgEuc",
        "colab_type": "text"
      },
      "source": [
        "## Save/load model using pickle."
      ]
    },
    {
      "cell_type": "code",
      "metadata": {
        "id": "lamRzy5RgHY8",
        "colab_type": "code",
        "colab": {}
      },
      "source": [
        "import pickle\n",
        "import os\n",
        "\n",
        "pickle_out = open('linear_regression.pickle', 'wb')\n",
        "pickle.dump(lr, pickle_out)\n",
        "\n",
        "if os.path.getsize('linear_regression.pickle') > 0:  \n",
        "    print(\"file is not empty\")"
      ],
      "execution_count": 0,
      "outputs": []
    },
    {
      "cell_type": "code",
      "metadata": {
        "id": "sFPxRBn3gQ7D",
        "colab_type": "code",
        "colab": {}
      },
      "source": [
        "!ls"
      ],
      "execution_count": 0,
      "outputs": []
    },
    {
      "cell_type": "code",
      "metadata": {
        "id": "Eq_TNYCAgRb8",
        "colab_type": "code",
        "colab": {}
      },
      "source": [
        "del lr"
      ],
      "execution_count": 0,
      "outputs": []
    },
    {
      "cell_type": "markdown",
      "metadata": {
        "id": "32ALANZBgZGH",
        "colab_type": "text"
      },
      "source": [
        "Now, if you call `lr` you should get an error:"
      ]
    },
    {
      "cell_type": "code",
      "metadata": {
        "id": "rX6F7DUagZ8o",
        "colab_type": "code",
        "colab": {}
      },
      "source": [
        "lr"
      ],
      "execution_count": 0,
      "outputs": []
    },
    {
      "cell_type": "code",
      "metadata": {
        "id": "Bulbskr2gbAD",
        "colab_type": "code",
        "colab": {}
      },
      "source": [
        "filename = 'linear_regression.pickle'\n",
        "with open(filename, 'rb') as file:\n",
        "  lr = pickle.load(file)"
      ],
      "execution_count": 0,
      "outputs": []
    },
    {
      "cell_type": "markdown",
      "metadata": {
        "id": "tRgHrImTgfIL",
        "colab_type": "text"
      },
      "source": [
        "Check that `lr` object has been loaded successfully\n"
      ]
    },
    {
      "cell_type": "code",
      "metadata": {
        "id": "MXrnjgrsghWz",
        "colab_type": "code",
        "colab": {}
      },
      "source": [
        "lr.get_params"
      ],
      "execution_count": 0,
      "outputs": []
    },
    {
      "cell_type": "markdown",
      "metadata": {
        "id": "7p4GMeGK-QGL",
        "colab_type": "text"
      },
      "source": [
        "## Homework exercise 4 (2 points): read and explore `model.pickel`"
      ]
    },
    {
      "cell_type": "markdown",
      "metadata": {
        "id": "Rsa9ojOlgmmk",
        "colab_type": "text"
      },
      "source": [
        "<font color='red'> **(a)** read in `model.pickel` file that you have downloaded from `nyc_data.zip` using `pickle.load()` function. (1 point)"
      ]
    },
    {
      "cell_type": "code",
      "metadata": {
        "id": "iezeRiy9gl_-",
        "colab_type": "code",
        "colab": {}
      },
      "source": [
        "##### YOUR CODE STARTS #####\n",
        "filename = \n",
        "##### YOUR CODE ENDS ##### (please do not delete this line)"
      ],
      "execution_count": 0,
      "outputs": []
    },
    {
      "cell_type": "markdown",
      "metadata": {
        "id": "mJQbGVDs-1vS",
        "colab_type": "text"
      },
      "source": [
        "<font color='red'> **(b)** next, explore the object using function `dir` and answer the following questions:\n",
        "* <font color='red'> Which model was saved into this object?  \n",
        "* <font color='red'> How many coefficients it has and what are their values?\n",
        "* <font color='red'>Can you find out which features have been used for training?\n",
        "\n",
        "<font color='red'>(1 point)\n"
      ]
    },
    {
      "cell_type": "markdown",
      "metadata": {
        "id": "-PoebBH_ii4H",
        "colab_type": "text"
      },
      "source": [
        "Answers: "
      ]
    },
    {
      "cell_type": "markdown",
      "metadata": {
        "id": "QXiM7T9qYWfG",
        "colab_type": "text"
      },
      "source": [
        "### Linear regression based on more than one feature"
      ]
    },
    {
      "cell_type": "code",
      "metadata": {
        "id": "TJKT5S2pYbwK",
        "colab_type": "code",
        "colab": {}
      },
      "source": [
        "lr = LinearRegression()\n",
        "lr.fit(train[['abs_diff_longitude', 'abs_diff_latitude']], train[['fare_amount']])\n",
        "\n",
        "# Print learnt weights\n",
        "print(f'[{round(lr.coef_[0][0], 8)}, {round(lr.coef_[0][1], 8)} , {round(lr.intercept_[0], 8)}]')"
      ],
      "execution_count": 0,
      "outputs": []
    },
    {
      "cell_type": "markdown",
      "metadata": {
        "id": "8dDBCIlujFWp",
        "colab_type": "text"
      },
      "source": [
        "Predict `fare_amount` for test set and submit predictions to kaggle"
      ]
    },
    {
      "cell_type": "code",
      "metadata": {
        "id": "mVpFOfPWUJMT",
        "colab_type": "code",
        "colab": {}
      },
      "source": [
        "# Predict fare_amount on the test set using our model (w) trained on the training set.\n",
        "test_y_predictions = lr.predict(test_df[['abs_diff_longitude', 'abs_diff_latitude']])\n",
        "\n",
        "# Write the predictions to a CSV file which we can submit to the competition.\n",
        "submission = pd.DataFrame(\n",
        "    {'key': test_df.key, 'fare_amount': np.squeeze(test_y_predictions)},\n",
        "    columns = ['key', 'fare_amount'])\n",
        "submission.to_csv('submission_lr_3d.csv', index = False)\n",
        "\n",
        "!ls "
      ],
      "execution_count": 0,
      "outputs": []
    },
    {
      "cell_type": "code",
      "metadata": {
        "id": "EHNFNX9YUo1n",
        "colab_type": "code",
        "colab": {}
      },
      "source": [
        "!kaggle competitions submit -c new-york-city-taxi-fare-prediction -f submission_lr_3d.csv -m \"Linear Regression with two predictors on 1M records\""
      ],
      "execution_count": 0,
      "outputs": []
    },
    {
      "cell_type": "markdown",
      "metadata": {
        "id": "tRoXaw0ET_GG",
        "colab_type": "text"
      },
      "source": [
        "### Decision Tree (DT)"
      ]
    },
    {
      "cell_type": "code",
      "metadata": {
        "id": "b3fz57D3Tuqy",
        "colab_type": "code",
        "colab": {}
      },
      "source": [
        "from sklearn.tree import DecisionTreeRegressor\n",
        "dtr= DecisionTreeRegressor(max_depth = 100)\n",
        "dtr.fit(train[['abs_diff_longitude', 'abs_diff_latitude']], train[['fare_amount']])"
      ],
      "execution_count": 0,
      "outputs": []
    },
    {
      "cell_type": "markdown",
      "metadata": {
        "id": "SCwxaKI4VhVM",
        "colab_type": "text"
      },
      "source": [
        "How can we predict the goodness of this model without sending it to the server? (Hint: remember RMSE?)"
      ]
    },
    {
      "cell_type": "code",
      "metadata": {
        "id": "pXQEDEwOY6N-",
        "colab_type": "code",
        "colab": {}
      },
      "source": [
        "np.sqrt(np.mean(( train.fare_amount - dtr.predict(train[['abs_diff_longitude', 'abs_diff_latitude']]))**2))"
      ],
      "execution_count": 0,
      "outputs": []
    },
    {
      "cell_type": "markdown",
      "metadata": {
        "id": "3_NmcC6gb5-n",
        "colab_type": "text"
      },
      "source": [
        "or using built-in function:"
      ]
    },
    {
      "cell_type": "code",
      "metadata": {
        "id": "aSTwJPc3Vgru",
        "colab_type": "code",
        "colab": {}
      },
      "source": [
        "from sklearn.metrics import mean_squared_error\n",
        "np.sqrt(mean_squared_error( train.fare_amount, dtr.predict(train[['abs_diff_longitude', 'abs_diff_latitude']])))"
      ],
      "execution_count": 0,
      "outputs": []
    },
    {
      "cell_type": "markdown",
      "metadata": {
        "id": "3Utsm_1rnksz",
        "colab_type": "text"
      },
      "source": [
        "Very good! What would be our standing in the leaderboard if this RMSE was true?"
      ]
    },
    {
      "cell_type": "markdown",
      "metadata": {
        "id": "O5FTDyNGnXVk",
        "colab_type": "text"
      },
      "source": [
        "Let's now submit this mode's predictions to kaggle and compare RMSE scores"
      ]
    },
    {
      "cell_type": "code",
      "metadata": {
        "id": "1eqN62e_VVje",
        "colab_type": "code",
        "colab": {}
      },
      "source": [
        "test_y_predictions = dtr.predict(test_df[['abs_diff_longitude', 'abs_diff_latitude']])"
      ],
      "execution_count": 0,
      "outputs": []
    },
    {
      "cell_type": "code",
      "metadata": {
        "id": "W8eZnKmeV3UC",
        "colab_type": "code",
        "colab": {}
      },
      "source": [
        "# Write the predictions to a CSV file which we can submit to the competition.\n",
        "submission = pd.DataFrame(\n",
        "    {'key': test_df.key, 'fare_amount': test_y_predictions},\n",
        "    columns = ['key', 'fare_amount'])\n",
        "submission.to_csv('submission_dt.csv', index = False)\n",
        "\n",
        "!kaggle competitions submit -c new-york-city-taxi-fare-prediction -f submission_dt.csv -m \"Decision Tree Regressor using 1M records and max_depth = 100\""
      ],
      "execution_count": 0,
      "outputs": []
    },
    {
      "cell_type": "markdown",
      "metadata": {
        "id": "1eUl_nwXQhQt",
        "colab_type": "text"
      },
      "source": [
        "Let's go back to our **slides**!"
      ]
    },
    {
      "cell_type": "markdown",
      "metadata": {
        "id": "W61EbSaLclDT",
        "colab_type": "text"
      },
      "source": [
        "### Train, val split for more accurate estimate of our model performance\n",
        "We will divide our initial `train` into `train_X` (80%) and `val_X`(20%). We shall create separate variables `train_y` and `val_y` that will hold fare_amount for corresponding rows for convenience."
      ]
    },
    {
      "cell_type": "code",
      "metadata": {
        "id": "sCEE6oS5cPK3",
        "colab_type": "code",
        "colab": {}
      },
      "source": [
        "train_X = train[0:int(len(train)*0.8)]\n",
        "train_y = train.fare_amount[0:int(len(train)*0.8)]"
      ],
      "execution_count": 0,
      "outputs": []
    },
    {
      "cell_type": "markdown",
      "metadata": {
        "id": "dmOuThjiokAQ",
        "colab_type": "text"
      },
      "source": [
        "**Classroom exercise**: assign remaining 20% of the data to val_X, val_y"
      ]
    },
    {
      "cell_type": "code",
      "metadata": {
        "id": "KH6T3ry6okUp",
        "colab_type": "code",
        "colab": {}
      },
      "source": [
        "##### YOUR CODE STARTS #####\n",
        "val_X = ...\n",
        "val_y = ...\n",
        "##### YOUR CODE ENDS ##### (please do not delete this line)"
      ],
      "execution_count": 0,
      "outputs": []
    },
    {
      "cell_type": "code",
      "metadata": {
        "id": "-ozmdmqJfSJ0",
        "colab_type": "code",
        "colab": {}
      },
      "source": [
        "print(train_X.shape)\n",
        "print(train_y.shape)\n",
        "print(val_X.shape)\n",
        "print(val_y.shape)"
      ],
      "execution_count": 0,
      "outputs": []
    },
    {
      "cell_type": "code",
      "metadata": {
        "id": "MZvC3DoRg4IX",
        "colab_type": "code",
        "colab": {}
      },
      "source": [
        "train_X[0:5]"
      ],
      "execution_count": 0,
      "outputs": []
    },
    {
      "cell_type": "markdown",
      "metadata": {
        "id": "pCV5mUM_f6l7",
        "colab_type": "text"
      },
      "source": [
        "What if your first samples were easier to predict than the later ones?"
      ]
    },
    {
      "cell_type": "code",
      "metadata": {
        "id": "MoBaWmKTfSg3",
        "colab_type": "code",
        "colab": {}
      },
      "source": [
        "from sklearn.model_selection import train_test_split\n",
        "train_X, val_X, train_y, val_y = train_test_split(train, np.array(train['fare_amount']), \n",
        "                                                      random_state = 111, \n",
        "                                                      test_size = 0.20) # you can also explicitely say how many observations will be in the validation set"
      ],
      "execution_count": 0,
      "outputs": []
    },
    {
      "cell_type": "code",
      "metadata": {
        "id": "w-easQJ0g1p-",
        "colab_type": "code",
        "colab": {}
      },
      "source": [
        "print(train_X.shape)\n",
        "print(train_y.shape)\n",
        "print(val_X.shape)\n",
        "print(val_y.shape)"
      ],
      "execution_count": 0,
      "outputs": []
    },
    {
      "cell_type": "code",
      "metadata": {
        "id": "nXd6FZq5g2wd",
        "colab_type": "code",
        "colab": {}
      },
      "source": [
        "train_X[0:5]"
      ],
      "execution_count": 0,
      "outputs": []
    },
    {
      "cell_type": "markdown",
      "metadata": {
        "id": "iPF-eOJRq4Ll",
        "colab_type": "text"
      },
      "source": [
        "We can train our models on training data and evaluating them on validation set to obtain more realistic estimates of RMSE. Let's see if this works with our decision tree model."
      ]
    },
    {
      "cell_type": "code",
      "metadata": {
        "id": "BRLXYm4JqM90",
        "colab_type": "code",
        "colab": {}
      },
      "source": [
        "dtr=DecisionTreeRegressor(max_depth = 10) \n",
        "dtr.fit(train_X[['abs_diff_longitude', 'abs_diff_latitude']], train_y)"
      ],
      "execution_count": 0,
      "outputs": []
    },
    {
      "cell_type": "code",
      "metadata": {
        "id": "XVBrU3RbsGNG",
        "colab_type": "code",
        "colab": {}
      },
      "source": [
        "np.sqrt(mean_squared_error(train_y, dtr.predict(train_X[['abs_diff_longitude', 'abs_diff_latitude']])))"
      ],
      "execution_count": 0,
      "outputs": []
    },
    {
      "cell_type": "code",
      "metadata": {
        "id": "Z6CMmIW-g-hh",
        "colab_type": "code",
        "colab": {}
      },
      "source": [
        "np.sqrt(mean_squared_error(val_y, dtr.predict(val_X[['abs_diff_longitude', 'abs_diff_latitude']])))"
      ],
      "execution_count": 0,
      "outputs": []
    },
    {
      "cell_type": "markdown",
      "metadata": {
        "id": "ZPy_G_6MoShz",
        "colab_type": "text"
      },
      "source": [
        "if you increase the depth of the decision tree (e.g. to 100), you will see that the gap between validation and train RMSE also grows. **What could be the reason?**"
      ]
    },
    {
      "cell_type": "markdown",
      "metadata": {
        "id": "iSVKmeImszQP",
        "colab_type": "text"
      },
      "source": [
        "Now train a new decision tree instance on the whole dataset (train + validation sets combined) with a reasonable `max_depth`."
      ]
    },
    {
      "cell_type": "code",
      "metadata": {
        "id": "UQ-CkMZ3kAOV",
        "colab_type": "code",
        "colab": {}
      },
      "source": [
        "dtr=DecisionTreeRegressor(max_depth = 10) \n",
        "dtr.fit(train[['abs_diff_longitude', 'abs_diff_latitude']], train[['fare_amount']])"
      ],
      "execution_count": 0,
      "outputs": []
    },
    {
      "cell_type": "code",
      "metadata": {
        "id": "vF-QZAv6s5-z",
        "colab_type": "code",
        "colab": {}
      },
      "source": [
        "test_y_predictions = dtr.predict(test_df[['abs_diff_longitude', 'abs_diff_latitude']])\n",
        "\n",
        "# Write the predictions to a CSV file which we can submit to the competition.\n",
        "submission = pd.DataFrame(\n",
        "    {'key': test_df.key, 'fare_amount': test_y_predictions},\n",
        "    columns = ['key', 'fare_amount'])\n",
        "submission.to_csv('submission_dt.csv', index = False)\n",
        "\n",
        "!ls"
      ],
      "execution_count": 0,
      "outputs": []
    },
    {
      "cell_type": "code",
      "metadata": {
        "id": "pihqbIH3s9QK",
        "colab_type": "code",
        "colab": {}
      },
      "source": [
        "!kaggle competitions submit -c new-york-city-taxi-fare-prediction -f submission_dt.csv -m \"Decision Tree Regressor using 1M records and max_depth = 10\""
      ],
      "execution_count": 0,
      "outputs": []
    },
    {
      "cell_type": "markdown",
      "metadata": {
        "id": "nqV2c5sDc_f2",
        "colab_type": "text"
      },
      "source": [
        "## Homework exercise 5 (4 points): cross-validation algorithm\n",
        "<font color='red'> We were cheating on our validation data when we hand-picked the number of decision trees in the previous example (as we used validation data multiple times). The honest and better way of finding a good hyperparameter (number of trees) is a **cross-validation algorithm**.\n",
        "\n",
        "**(a)** Implement the cross-validation algorithm using lecture slides and hints in comments. (3 points) </font>"
      ]
    },
    {
      "cell_type": "code",
      "metadata": {
        "id": "G96lG0IbfG87",
        "colab_type": "code",
        "colab": {}
      },
      "source": [
        "max_depths = [1, 2, 5, 8, 9, 10, 11, 12, 13, 15, 20]\n",
        "\n",
        "for param in max_depths:\n",
        "  print(f'Calculating RMSE for {param} tree(s)...')\n",
        "  ##### YOUR CODE STARTS #####\n",
        "  # 4-fold cross validation\n",
        "  # break training data into 4 equal chunks using np.concatenate and np.repeate functions\n",
        "  folds_indx =  ...\n",
        "\n",
        "  # randomly shuffle the indeces\n",
        "  np.random.shuffle(folds_indx)\n",
        "  \n",
        "  # number of folds\n",
        "  n_folds = 4\n",
        "\n",
        "  # initialise variable that will hold RMSEs for each fold\n",
        "  fold_RMSEs = np.zeros(n_folds)\n",
        "  for fold_indx in np.arange(n_folds):\n",
        "\n",
        "    # split data into train_X, train_y and val_X, val_y depending on the fold:\n",
        "    train_X = ...\n",
        "    train_y = ...\n",
        "    val_X = ...\n",
        "    val_y = ...\n",
        "\n",
        "    # train the decision tree with max_depth = param\n",
        "    dtr = ...\n",
        "\n",
        "    # fit the decision tree on training data\n",
        "    dtr.fit(...)\n",
        "\n",
        "    # predict validation data\n",
        "    val_predictions = ...\n",
        "\n",
        "    # calculate RMSE for this fold\n",
        "    fold_RMSEs[fold_indx] = ...\n",
        "    ##### YOUR CODE ENDS ##### (please do not delete this line)\n",
        "\n",
        "  print(f'Average validation RMSE for {param} of trees is {np.mean(fold_RMSEs)}')"
      ],
      "execution_count": 0,
      "outputs": []
    },
    {
      "cell_type": "markdown",
      "metadata": {
        "id": "urDuREWxK_ro",
        "colab_type": "text"
      },
      "source": [
        "<font color='red'> **(b)** Based on above results train the `DecisionTreeRegressor` on the entire training data with new, more optimal number of trees. Predict the test set and submit the results to Kaggle. Your leaderboard score should be smaller than 4.02083 (1 point) </font>"
      ]
    },
    {
      "cell_type": "code",
      "metadata": {
        "id": "3OfvpyJKIN_j",
        "colab_type": "code",
        "colab": {}
      },
      "source": [
        "##### YOUR CODE STARTS #####\n",
        "...\n",
        "\n",
        "!kaggle ...\n",
        "##### YOUR CODE ENDS ##### (please do not delete this line)"
      ],
      "execution_count": 0,
      "outputs": []
    },
    {
      "cell_type": "markdown",
      "metadata": {
        "id": "sMmhuxN4iw2L",
        "colab_type": "text"
      },
      "source": [
        "# Bonus exercises\n",
        "*(NB, these are optional exercises!)*\n",
        "\n",
        "## Bonus exercise 1 (2 bonus points):\n",
        "\n",
        "<font color='red'> Visualising misclassified examples can help to debug the classification algorithm. But misclassified examples may have different probabilities. In this bonus exercise (optional) try modifying code we have written for the homework exercise 2 so that title now would include probability of a true class and of a wrong class. You would probably need to change the code of `classify_knn` function. </font> "
      ]
    },
    {
      "cell_type": "markdown",
      "metadata": {
        "id": "UkOtofaRjH8P",
        "colab_type": "text"
      },
      "source": [
        "## Bonus exercise 2 (up to 3 bonus points): the grand challenge\n",
        "<font color='red'> Try to get into top 300 places on public leaderboard (RMSE < 3.04) using different ML algorithms with different parameters, more features, more data, better preprocessing. Here are some ideas for improvement:\n",
        "* Use more data (we only took 1M out of 2M, there are 53M more on the website)\n",
        "* Do more preprocessing (remember negative prices or unrealistic numbers of passengers?)\n",
        "* Use more/better features (e.g. euclidean distance, or google what is haversine distance)\n",
        "* Use some other regression algorithm (e.g. look into RandomForestRegressor from sklearn.ensemble)\n",
        "* Tune parameters of these algorithms\n",
        "* Try something else!\n",
        "</font> \n",
        "\n",
        "<font color='red'>You should make a small post here with code and elaborate explanations of what you have tried (do it even you did not manage to break into top 300). Number of points would depend on quality of your explanations and the resulting rank.</font> \n"
      ]
    },
    {
      "cell_type": "code",
      "metadata": {
        "id": "d2T2eINijEhg",
        "colab_type": "code",
        "colab": {}
      },
      "source": [
        "# Hint:\n",
        "R = 6378\n",
        "\n",
        "def haversine_distance(lon1, lon2, lat1, lat2):\n",
        "    \"\"\"\n",
        "    Calculate the great circle distance between two points\n",
        "    on the earth (specified in decimal degrees)\n",
        "\n",
        "    All args must be of equal length.    \n",
        "    \n",
        "    source: https://stackoverflow.com/a/29546836\n",
        "\n",
        "    \"\"\"\n",
        "    # Convert latitude and longitude to radians\n",
        "    lon1, lat1, lon2, lat2 = map(np.radians, [lon1, lat1, lon2, lat2])\n",
        "\n",
        "    # Find the differences\n",
        "    dlon = lon2 - lon1\n",
        "    dlat = lat2 - lat1\n",
        "\n",
        "    # Apply the formula \n",
        "    a = np.sin(dlat/2.0)**2 + np.cos(lat1) * np.cos(lat2) * np.sin(dlon/2.0)**2\n",
        "    # Calculate the angle (in radians)\n",
        "    c = 2 * np.arcsin(np.sqrt(a))\n",
        "    # Convert to kilometers\n",
        "    km = R * c\n",
        "    \n",
        "    return km"
      ],
      "execution_count": 0,
      "outputs": []
    }
  ]
}