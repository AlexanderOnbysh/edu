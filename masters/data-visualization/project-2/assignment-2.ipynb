{
 "cells": [
  {
   "cell_type": "code",
   "execution_count": 162,
   "metadata": {},
   "outputs": [
    {
     "data": {
      "application/javascript": [
       "\n",
       "            setTimeout(function() {\n",
       "                var nbb_cell_id = 162;\n",
       "                var nbb_formatted_code = \"!pip install pandas nb_black plotly > /dev/null 2>&1\";\n",
       "                var nbb_cells = Jupyter.notebook.get_cells();\n",
       "                for (var i = 0; i < nbb_cells.length; ++i) {\n",
       "                    if (nbb_cells[i].input_prompt_number == nbb_cell_id) {\n",
       "                        nbb_cells[i].set_text(nbb_formatted_code);\n",
       "                        break;\n",
       "                    }\n",
       "                }\n",
       "            }, 500);\n",
       "            "
      ],
      "text/plain": [
       "<IPython.core.display.Javascript object>"
      ]
     },
     "metadata": {},
     "output_type": "display_data"
    }
   ],
   "source": [
    "!pip install pandas nb_black plotly > /dev/null 2>&1"
   ]
  },
  {
   "cell_type": "code",
   "execution_count": 163,
   "metadata": {},
   "outputs": [
    {
     "name": "stdout",
     "output_type": "stream",
     "text": [
      "The nb_black extension is already loaded. To reload it, use:\n",
      "  %reload_ext nb_black\n"
     ]
    },
    {
     "data": {
      "application/javascript": [
       "\n",
       "            setTimeout(function() {\n",
       "                var nbb_cell_id = 163;\n",
       "                var nbb_formatted_code = \"%load_ext nb_black\";\n",
       "                var nbb_cells = Jupyter.notebook.get_cells();\n",
       "                for (var i = 0; i < nbb_cells.length; ++i) {\n",
       "                    if (nbb_cells[i].input_prompt_number == nbb_cell_id) {\n",
       "                        nbb_cells[i].set_text(nbb_formatted_code);\n",
       "                        break;\n",
       "                    }\n",
       "                }\n",
       "            }, 500);\n",
       "            "
      ],
      "text/plain": [
       "<IPython.core.display.Javascript object>"
      ]
     },
     "metadata": {},
     "output_type": "display_data"
    }
   ],
   "source": [
    "%load_ext nb_black"
   ]
  },
  {
   "cell_type": "code",
   "execution_count": 164,
   "metadata": {},
   "outputs": [
    {
     "data": {
      "application/javascript": [
       "\n",
       "            setTimeout(function() {\n",
       "                var nbb_cell_id = 164;\n",
       "                var nbb_formatted_code = \"import pandas as pd\\nimport plotly.graph_objects as go\\nimport numpy as np\\nfrom pprint import pprint\";\n",
       "                var nbb_cells = Jupyter.notebook.get_cells();\n",
       "                for (var i = 0; i < nbb_cells.length; ++i) {\n",
       "                    if (nbb_cells[i].input_prompt_number == nbb_cell_id) {\n",
       "                        nbb_cells[i].set_text(nbb_formatted_code);\n",
       "                        break;\n",
       "                    }\n",
       "                }\n",
       "            }, 500);\n",
       "            "
      ],
      "text/plain": [
       "<IPython.core.display.Javascript object>"
      ]
     },
     "metadata": {},
     "output_type": "display_data"
    }
   ],
   "source": [
    "import pandas as pd\n",
    "import plotly.graph_objects as go\n",
    "import numpy as np\n",
    "from pprint import pprint"
   ]
  },
  {
   "cell_type": "markdown",
   "metadata": {},
   "source": [
    "## Reference\n",
    "![](rate.png)\n",
    "\n",
    "Styles used:\n",
    "\n",
    "```\n",
    "Background - #F3F7F7  \n",
    "Title - #3A3F4A, 36px  \n",
    "Caption - #5D646F, 12px  \n",
    "Axis text - #5D646F, 12 px  \n",
    "Legend title & text - #5D646F, 12 px  \n",
    "Font Family - Ubuntu Mono  \n",
    "Color scale #67001f, #f7f7f7, #053061  \n",
    "```"
   ]
  },
  {
   "cell_type": "markdown",
   "metadata": {},
   "source": [
    "## Reproduction"
   ]
  },
  {
   "cell_type": "code",
   "execution_count": 165,
   "metadata": {},
   "outputs": [
    {
     "data": {
      "text/html": [
       "<div>\n",
       "<style scoped>\n",
       "    .dataframe tbody tr th:only-of-type {\n",
       "        vertical-align: middle;\n",
       "    }\n",
       "\n",
       "    .dataframe tbody tr th {\n",
       "        vertical-align: top;\n",
       "    }\n",
       "\n",
       "    .dataframe thead th {\n",
       "        text-align: right;\n",
       "    }\n",
       "</style>\n",
       "<table border=\"1\" class=\"dataframe\">\n",
       "  <thead>\n",
       "    <tr style=\"text-align: right;\">\n",
       "      <th></th>\n",
       "      <th>year</th>\n",
       "      <th>rate</th>\n",
       "    </tr>\n",
       "    <tr>\n",
       "      <th>region</th>\n",
       "      <th></th>\n",
       "      <th></th>\n",
       "    </tr>\n",
       "  </thead>\n",
       "  <tbody>\n",
       "    <tr>\n",
       "      <th>Crimea</th>\n",
       "      <td>1990</td>\n",
       "      <td>2.5</td>\n",
       "    </tr>\n",
       "    <tr>\n",
       "      <th>Vinnytsia</th>\n",
       "      <td>1990</td>\n",
       "      <td>-2.1</td>\n",
       "    </tr>\n",
       "    <tr>\n",
       "      <th>Volyn</th>\n",
       "      <td>1990</td>\n",
       "      <td>4.0</td>\n",
       "    </tr>\n",
       "    <tr>\n",
       "      <th>Dnipropetrovsk</th>\n",
       "      <td>1990</td>\n",
       "      <td>0.5</td>\n",
       "    </tr>\n",
       "    <tr>\n",
       "      <th>Donetsk</th>\n",
       "      <td>1990</td>\n",
       "      <td>-1.2</td>\n",
       "    </tr>\n",
       "  </tbody>\n",
       "</table>\n",
       "</div>"
      ],
      "text/plain": [
       "                year  rate\n",
       "region                    \n",
       "Crimea          1990   2.5\n",
       "Vinnytsia       1990  -2.1\n",
       "Volyn           1990   4.0\n",
       "Dnipropetrovsk  1990   0.5\n",
       "Donetsk         1990  -1.2"
      ]
     },
     "execution_count": 165,
     "metadata": {},
     "output_type": "execute_result"
    },
    {
     "data": {
      "application/javascript": [
       "\n",
       "            setTimeout(function() {\n",
       "                var nbb_cell_id = 165;\n",
       "                var nbb_formatted_code = \"df = pd.read_csv(\\\"rate.csv\\\")\\ndf = df.set_index([\\\"region\\\"])\\n\\nregions = df.index.unique().tolist()\\nregions_by_rate = sorted(regions, key=lambda x: df.xs(x)[\\\"rate\\\"].mean())\\ndf.head()\";\n",
       "                var nbb_cells = Jupyter.notebook.get_cells();\n",
       "                for (var i = 0; i < nbb_cells.length; ++i) {\n",
       "                    if (nbb_cells[i].input_prompt_number == nbb_cell_id) {\n",
       "                        nbb_cells[i].set_text(nbb_formatted_code);\n",
       "                        break;\n",
       "                    }\n",
       "                }\n",
       "            }, 500);\n",
       "            "
      ],
      "text/plain": [
       "<IPython.core.display.Javascript object>"
      ]
     },
     "metadata": {},
     "output_type": "display_data"
    }
   ],
   "source": [
    "df = pd.read_csv(\"rate.csv\")\n",
    "df = df.set_index([\"region\"])\n",
    "\n",
    "regions = df.index.unique().tolist()\n",
    "regions_by_rate = sorted(regions, key=lambda x: df.xs(x)[\"rate\"].mean())\n",
    "df.head()"
   ]
  },
  {
   "cell_type": "code",
   "execution_count": 166,
   "metadata": {},
   "outputs": [
    {
     "data": {
      "application/javascript": [
       "\n",
       "            setTimeout(function() {\n",
       "                var nbb_cell_id = 166;\n",
       "                var nbb_formatted_code = \"def hex_to_RGB(hex_value):\\n    \\\"\\\"\\\" \\\"#FFFFFF\\\" -> [255,255,255] \\\"\\\"\\\"\\n    # Pass 16 to the integer function for change of base\\n    return [int(hex_value[i : i + 2], 16) for i in range(1, 6, 2)]\\n\\n\\ndef RGB_to_hex(RGB):\\n    \\\"\\\"\\\" [255,255,255] -> \\\"#FFFFFF\\\" \\\"\\\"\\\"\\n    # Components need to be integers for hex to make sense\\n    RGB = [int(x) for x in RGB]\\n    return \\\"#\\\" + \\\"\\\".join(\\n        [\\\"0{0:x}\\\".format(v) if v < 16 else \\\"{0:x}\\\".format(v) for v in RGB]\\n    )\\n\\n\\ndef linear_gradient(start_hex, finish_hex=\\\"#FFFFFF\\\", n=10):\\n    \\\"\\\"\\\" returns a gradient list of (n) colors between\\n    two hex colors. start_hex and finish_hex\\n    should be the full six-digit color string,\\n    inlcuding the number sign (\\\"#FFFFFF\\\") \\\"\\\"\\\"\\n    # Starting and ending colors in RGB form\\n    s = hex_to_RGB(start_hex)\\n    f = hex_to_RGB(finish_hex)\\n    # Initilize a list of the output colors with the starting color\\n    RGB_list = [s]\\n    # Calcuate a color at each evenly spaced value of t from 1 to n\\n    for t in range(1, n):\\n        # Interpolate RGB vector for color at the current value of t\\n        curr_vector = [\\n            int(s[j] + (float(t) / (n - 1)) * (f[j] - s[j])) for j in range(3)\\n        ]\\n        # Add it to our list of output colors\\n        RGB_list.append(curr_vector)\\n    return [RGB_to_hex(RGB) for RGB in RGB_list]\\n\\n\\ndef discrete_colorscale(bvals, colors):\\n    \\\"\\\"\\\"\\n    bvals - list of values bounding intervals/ranges of interest\\n    colors - list of rgb or hex colorcodes for values in [bvals[k], bvals[k+1]],0<=k < len(bvals)-1\\n    returns the plotly  discrete colorscale\\n    \\\"\\\"\\\"\\n    if len(bvals) != len(colors) + 1:\\n        raise ValueError(\\\"len(boundary values) should be equal to  len(colors)+1\\\")\\n    bvals = sorted(bvals)\\n    nvals = [\\n        (v - bvals[0]) / (bvals[-1] - bvals[0]) for v in bvals\\n    ]  # normalized values\\n\\n    dcolorscale = []  # discrete colorscale\\n    for k in range(len(colors)):\\n        dcolorscale.extend([[nvals[k], colors[k]], [nvals[k + 1], colors[k]]])\\n    return dcolorscale\";\n",
       "                var nbb_cells = Jupyter.notebook.get_cells();\n",
       "                for (var i = 0; i < nbb_cells.length; ++i) {\n",
       "                    if (nbb_cells[i].input_prompt_number == nbb_cell_id) {\n",
       "                        nbb_cells[i].set_text(nbb_formatted_code);\n",
       "                        break;\n",
       "                    }\n",
       "                }\n",
       "            }, 500);\n",
       "            "
      ],
      "text/plain": [
       "<IPython.core.display.Javascript object>"
      ]
     },
     "metadata": {},
     "output_type": "display_data"
    }
   ],
   "source": [
    "def hex_to_RGB(hex_value):\n",
    "    \"\"\" \"#FFFFFF\" -> [255,255,255] \"\"\"\n",
    "    # Pass 16 to the integer function for change of base\n",
    "    return [int(hex_value[i : i + 2], 16) for i in range(1, 6, 2)]\n",
    "\n",
    "\n",
    "def RGB_to_hex(RGB):\n",
    "    \"\"\" [255,255,255] -> \"#FFFFFF\" \"\"\"\n",
    "    # Components need to be integers for hex to make sense\n",
    "    RGB = [int(x) for x in RGB]\n",
    "    return \"#\" + \"\".join(\n",
    "        [\"0{0:x}\".format(v) if v < 16 else \"{0:x}\".format(v) for v in RGB]\n",
    "    )\n",
    "\n",
    "\n",
    "def linear_gradient(start_hex, finish_hex=\"#FFFFFF\", n=10):\n",
    "    \"\"\" returns a gradient list of (n) colors between\n",
    "    two hex colors. start_hex and finish_hex\n",
    "    should be the full six-digit color string,\n",
    "    inlcuding the number sign (\"#FFFFFF\") \"\"\"\n",
    "    # Starting and ending colors in RGB form\n",
    "    s = hex_to_RGB(start_hex)\n",
    "    f = hex_to_RGB(finish_hex)\n",
    "    # Initilize a list of the output colors with the starting color\n",
    "    RGB_list = [s]\n",
    "    # Calcuate a color at each evenly spaced value of t from 1 to n\n",
    "    for t in range(1, n):\n",
    "        # Interpolate RGB vector for color at the current value of t\n",
    "        curr_vector = [\n",
    "            int(s[j] + (float(t) / (n - 1)) * (f[j] - s[j])) for j in range(3)\n",
    "        ]\n",
    "        # Add it to our list of output colors\n",
    "        RGB_list.append(curr_vector)\n",
    "    return [RGB_to_hex(RGB) for RGB in RGB_list]\n",
    "\n",
    "\n",
    "def discrete_colorscale(bvals, colors):\n",
    "    \"\"\"\n",
    "    bvals - list of values bounding intervals/ranges of interest\n",
    "    colors - list of rgb or hex colorcodes for values in [bvals[k], bvals[k+1]],0<=k < len(bvals)-1\n",
    "    returns the plotly  discrete colorscale\n",
    "    \"\"\"\n",
    "    if len(bvals) != len(colors) + 1:\n",
    "        raise ValueError(\"len(boundary values) should be equal to  len(colors)+1\")\n",
    "    bvals = sorted(bvals)\n",
    "    nvals = [\n",
    "        (v - bvals[0]) / (bvals[-1] - bvals[0]) for v in bvals\n",
    "    ]  # normalized values\n",
    "\n",
    "    dcolorscale = []  # discrete colorscale\n",
    "    for k in range(len(colors)):\n",
    "        dcolorscale.extend([[nvals[k], colors[k]], [nvals[k + 1], colors[k]]])\n",
    "    return dcolorscale"
   ]
  },
  {
   "cell_type": "code",
   "execution_count": 157,
   "metadata": {},
   "outputs": [
    {
     "data": {
      "application/javascript": [
       "\n",
       "            setTimeout(function() {\n",
       "                var nbb_cell_id = 157;\n",
       "                var nbb_formatted_code = \"heatmap_granularity = 250\\ncolor_scale_steps = np.linspace(0, 1, num=heatmap_granularity)\\nheatmap_red_ratio = int(15 / 24 * granularity)\\n\\nheatmap_colors = (\\n    linear_gradient(\\\"#67001f\\\", \\\"#f7f7f7\\\", heatmap_red_ratio)[:-1]\\n    + [\\\"#f7f7f7\\\"]\\n    + linear_gradient(\\\"#f7f7f7\\\", \\\"#7F87A3\\\", heatmap_granularity - heatmap_red_ratio)[1:]\\n)\\ncolorspace = discrete_colorscale(color_scale_steps, heatmap_colors)\";\n",
       "                var nbb_cells = Jupyter.notebook.get_cells();\n",
       "                for (var i = 0; i < nbb_cells.length; ++i) {\n",
       "                    if (nbb_cells[i].input_prompt_number == nbb_cell_id) {\n",
       "                        nbb_cells[i].set_text(nbb_formatted_code);\n",
       "                        break;\n",
       "                    }\n",
       "                }\n",
       "            }, 500);\n",
       "            "
      ],
      "text/plain": [
       "<IPython.core.display.Javascript object>"
      ]
     },
     "metadata": {},
     "output_type": "display_data"
    }
   ],
   "source": [
    "heatmap_granularity = 250\n",
    "color_scale_steps = np.linspace(0, 1, num=heatmap_granularity)\n",
    "heatmap_red_ratio = int(15 / 24 * granularity)\n",
    "\n",
    "heatmap_colors = (\n",
    "    linear_gradient(\"#67001f\", \"#f7f7f7\", heatmap_red_ratio)[:-1]\n",
    "    + [\"#f7f7f7\"]\n",
    "    + linear_gradient(\"#f7f7f7\", \"#7F87A3\", heatmap_granularity - heatmap_red_ratio)[1:]\n",
    ")\n",
    "colorspace = discrete_colorscale(color_scale_steps, heatmap_colors)"
   ]
  },
  {
   "cell_type": "code",
   "execution_count": 158,
   "metadata": {
    "scrolled": false
   },
   "outputs": [
    {
     "data": {
      "application/javascript": [
       "\n",
       "            setTimeout(function() {\n",
       "                var nbb_cell_id = 158;\n",
       "                var nbb_formatted_code = \"\\\"\\\"\\\"\\nPlotly doesn't support horizontal colorbar,\\nso I was forced to use Bar chart to emulate color bar \\ud83d\\ude1e\\n\\\"\\\"\\\"\\n\\n\\ndef create_bar(names: list, colors: list):\\n    fig = go.Figure()\\n\\n    traces = []\\n    for i, color in zip(names, colors):\\n        traces.append(\\n            go.Bar(\\n                y=[\\\"\\\"],\\n                x=[1],\\n                text=[i],\\n                width=0.1,\\n                orientation=\\\"h\\\",\\n                marker_color=color,\\n                hovertemplate=\\\"%{text}\\\",\\n                marker=dict(color=color, line=dict(color=color, width=0,),),\\n                xaxis=\\\"x2\\\",\\n                yaxis=\\\"y2\\\",\\n            )\\n        )\\n    return traces\\n\\n\\ncolorbar_colors = (\\n    linear_gradient(\\\"#67001f\\\", \\\"#f7f7f7\\\", 16)[:-1]\\n    + [\\\"#f7f7f7\\\"]\\n    + linear_gradient(\\\"#f7f7f7\\\", \\\"#7F87A3\\\", 9)[1:]\\n)\\n\\nnames = list(range(-15, 1)) + list(range(1, 9))\\nbar = create_bar(names, colorbar_colors)\";\n",
       "                var nbb_cells = Jupyter.notebook.get_cells();\n",
       "                for (var i = 0; i < nbb_cells.length; ++i) {\n",
       "                    if (nbb_cells[i].input_prompt_number == nbb_cell_id) {\n",
       "                        nbb_cells[i].set_text(nbb_formatted_code);\n",
       "                        break;\n",
       "                    }\n",
       "                }\n",
       "            }, 500);\n",
       "            "
      ],
      "text/plain": [
       "<IPython.core.display.Javascript object>"
      ]
     },
     "metadata": {},
     "output_type": "display_data"
    }
   ],
   "source": [
    "\"\"\"\n",
    "Plotly doesn't support horizontal colorbar,\n",
    "so I was forced to use Bar chart to emulate color bar 😞\n",
    "\"\"\"\n",
    "\n",
    "\n",
    "def create_bar(names: list, colors: list):\n",
    "    fig = go.Figure()\n",
    "\n",
    "    traces = []\n",
    "    for i, color in zip(names, colors):\n",
    "        traces.append(\n",
    "            go.Bar(\n",
    "                y=[\"\"],\n",
    "                x=[1],\n",
    "                text=[i],\n",
    "                width=0.1,\n",
    "                orientation=\"h\",\n",
    "                marker_color=color,\n",
    "                hovertemplate=\"%{text}\",\n",
    "                marker=dict(color=color, line=dict(color=color, width=0,),),\n",
    "                xaxis=\"x2\",\n",
    "                yaxis=\"y2\",\n",
    "            )\n",
    "        )\n",
    "    return traces\n",
    "\n",
    "\n",
    "colorbar_colors = (\n",
    "    linear_gradient(\"#67001f\", \"#f7f7f7\", 16)[:-1]\n",
    "    + [\"#f7f7f7\"]\n",
    "    + linear_gradient(\"#f7f7f7\", \"#7F87A3\", 9)[1:]\n",
    ")\n",
    "\n",
    "names = list(range(-15, 1)) + list(range(1, 9))\n",
    "bar = create_bar(names, colorbar_colors)"
   ]
  },
  {
   "cell_type": "code",
   "execution_count": 159,
   "metadata": {},
   "outputs": [
    {
     "data": {
      "application/javascript": [
       "\n",
       "            setTimeout(function() {\n",
       "                var nbb_cell_id = 159;\n",
       "                var nbb_formatted_code = \"def generate_colorbar_ticks(text: list, position: list):\\n    return go.layout.Annotation(\\n        x=position[0],\\n        y=position[1],\\n        showarrow=False,\\n        text=text,\\n        xref=\\\"paper\\\",\\n        yref=\\\"paper\\\",\\n        font={\\\"family\\\": \\\"Ubuntu Mono\\\", \\\"size\\\": 12, \\\"color\\\": \\\"#5D646F\\\"},\\n    )\\n\\n\\ny_coord = 0.915\\ncolorbar_ticks_coords = [0, 0.281, 0.613, 0.936]\\ntexts = [-15, -8, 0, 8]\\ncolorbar_ticks = [\\n    generate_colorbar_ticks(i, (x_coord, y_coord))\\n    for i, x_coord in zip(texts, colorbar_ticks_coords)\\n]\";\n",
       "                var nbb_cells = Jupyter.notebook.get_cells();\n",
       "                for (var i = 0; i < nbb_cells.length; ++i) {\n",
       "                    if (nbb_cells[i].input_prompt_number == nbb_cell_id) {\n",
       "                        nbb_cells[i].set_text(nbb_formatted_code);\n",
       "                        break;\n",
       "                    }\n",
       "                }\n",
       "            }, 500);\n",
       "            "
      ],
      "text/plain": [
       "<IPython.core.display.Javascript object>"
      ]
     },
     "metadata": {},
     "output_type": "display_data"
    }
   ],
   "source": [
    "def generate_colorbar_ticks(text: list, position: list):\n",
    "    return go.layout.Annotation(\n",
    "        x=position[0],\n",
    "        y=position[1],\n",
    "        showarrow=False,\n",
    "        text=text,\n",
    "        xref=\"paper\",\n",
    "        yref=\"paper\",\n",
    "        font={\"family\": \"Ubuntu Mono\", \"size\": 12, \"color\": \"#5D646F\"},\n",
    "    )\n",
    "\n",
    "\n",
    "y_coord = 0.915\n",
    "colorbar_ticks_coords = [0, 0.281, 0.613, 0.936]\n",
    "texts = [-15, -8, 0, 8]\n",
    "colorbar_ticks = [\n",
    "    generate_colorbar_ticks(i, (x_coord, y_coord))\n",
    "    for i, x_coord in zip(texts, colorbar_ticks_coords)\n",
    "]"
   ]
  },
  {
   "cell_type": "code",
   "execution_count": 161,
   "metadata": {
    "scrolled": false
   },
   "outputs": [
    {
     "data": {
      "application/vnd.plotly.v1+json": {
       "config": {
        "plotlyServerURL": "https://plot.ly"
       },
       "data": [
        {
         "colorbar": {
          "len": 1.02,
          "thickness": 20,
          "tickmode": "array",
          "ticktext": [
           -15,
           -8,
           0,
           8
          ],
          "tickvals": [
           -14.5,
           -7.8,
           -0.1,
           7.5
          ],
          "x": -0.1,
          "y": 0.49
         },
         "colorscale": [
          [
           0,
           "#67001f"
          ],
          [
           0.004016064257028112,
           "#67001f"
          ],
          [
           0.004016064257028112,
           "#670120"
          ],
          [
           0.008032128514056224,
           "#670120"
          ],
          [
           0.008032128514056224,
           "#680321"
          ],
          [
           0.012048192771084336,
           "#680321"
          ],
          [
           0.012048192771084336,
           "#690423"
          ],
          [
           0.01606425702811245,
           "#690423"
          ],
          [
           0.01606425702811245,
           "#6a0624"
          ],
          [
           0.020080321285140562,
           "#6a0624"
          ],
          [
           0.020080321285140562,
           "#6b0725"
          ],
          [
           0.024096385542168672,
           "#6b0725"
          ],
          [
           0.024096385542168672,
           "#6c0927"
          ],
          [
           0.028112449799196783,
           "#6c0927"
          ],
          [
           0.028112449799196783,
           "#6d0a28"
          ],
          [
           0.0321285140562249,
           "#6d0a28"
          ],
          [
           0.0321285140562249,
           "#6e0c29"
          ],
          [
           0.03614457831325301,
           "#6e0c29"
          ],
          [
           0.03614457831325301,
           "#6f0e2b"
          ],
          [
           0.040160642570281124,
           "#6f0e2b"
          ],
          [
           0.040160642570281124,
           "#700f2c"
          ],
          [
           0.04417670682730923,
           "#700f2c"
          ],
          [
           0.04417670682730923,
           "#71112e"
          ],
          [
           0.048192771084337345,
           "#71112e"
          ],
          [
           0.048192771084337345,
           "#71122f"
          ],
          [
           0.05220883534136546,
           "#71122f"
          ],
          [
           0.05220883534136546,
           "#721430"
          ],
          [
           0.056224899598393566,
           "#721430"
          ],
          [
           0.056224899598393566,
           "#731532"
          ],
          [
           0.06024096385542168,
           "#731532"
          ],
          [
           0.06024096385542168,
           "#741733"
          ],
          [
           0.0642570281124498,
           "#741733"
          ],
          [
           0.0642570281124498,
           "#751934"
          ],
          [
           0.0682730923694779,
           "#751934"
          ],
          [
           0.0682730923694779,
           "#761a36"
          ],
          [
           0.07228915662650602,
           "#761a36"
          ],
          [
           0.07228915662650602,
           "#771c37"
          ],
          [
           0.07630522088353413,
           "#771c37"
          ],
          [
           0.07630522088353413,
           "#781d38"
          ],
          [
           0.08032128514056225,
           "#781d38"
          ],
          [
           0.08032128514056225,
           "#791f3a"
          ],
          [
           0.08433734939759036,
           "#791f3a"
          ],
          [
           0.08433734939759036,
           "#7a203b"
          ],
          [
           0.08835341365461846,
           "#7a203b"
          ],
          [
           0.08835341365461846,
           "#7b223d"
          ],
          [
           0.09236947791164658,
           "#7b223d"
          ],
          [
           0.09236947791164658,
           "#7b233e"
          ],
          [
           0.09638554216867469,
           "#7b233e"
          ],
          [
           0.09638554216867469,
           "#7c253f"
          ],
          [
           0.1004016064257028,
           "#7c253f"
          ],
          [
           0.1004016064257028,
           "#7d2741"
          ],
          [
           0.10441767068273092,
           "#7d2741"
          ],
          [
           0.10441767068273092,
           "#7e2842"
          ],
          [
           0.10843373493975902,
           "#7e2842"
          ],
          [
           0.10843373493975902,
           "#7f2a43"
          ],
          [
           0.11244979919678713,
           "#7f2a43"
          ],
          [
           0.11244979919678713,
           "#802b45"
          ],
          [
           0.11646586345381525,
           "#802b45"
          ],
          [
           0.11646586345381525,
           "#812d46"
          ],
          [
           0.12048192771084336,
           "#812d46"
          ],
          [
           0.12048192771084336,
           "#822e48"
          ],
          [
           0.12449799196787148,
           "#822e48"
          ],
          [
           0.12449799196787148,
           "#833049"
          ],
          [
           0.1285140562248996,
           "#833049"
          ],
          [
           0.1285140562248996,
           "#84324a"
          ],
          [
           0.1325301204819277,
           "#84324a"
          ],
          [
           0.1325301204819277,
           "#85334c"
          ],
          [
           0.1365461847389558,
           "#85334c"
          ],
          [
           0.1365461847389558,
           "#85354d"
          ],
          [
           0.14056224899598393,
           "#85354d"
          ],
          [
           0.14056224899598393,
           "#86364e"
          ],
          [
           0.14457831325301204,
           "#86364e"
          ],
          [
           0.14457831325301204,
           "#873850"
          ],
          [
           0.14859437751004015,
           "#873850"
          ],
          [
           0.14859437751004015,
           "#883951"
          ],
          [
           0.15261044176706826,
           "#883951"
          ],
          [
           0.15261044176706826,
           "#893b52"
          ],
          [
           0.15662650602409636,
           "#893b52"
          ],
          [
           0.15662650602409636,
           "#8a3c54"
          ],
          [
           0.1606425702811245,
           "#8a3c54"
          ],
          [
           0.1606425702811245,
           "#8b3e55"
          ],
          [
           0.1646586345381526,
           "#8b3e55"
          ],
          [
           0.1646586345381526,
           "#8c4057"
          ],
          [
           0.1686746987951807,
           "#8c4057"
          ],
          [
           0.1686746987951807,
           "#8d4158"
          ],
          [
           0.17269076305220882,
           "#8d4158"
          ],
          [
           0.17269076305220882,
           "#8e4359"
          ],
          [
           0.17670682730923692,
           "#8e4359"
          ],
          [
           0.17670682730923692,
           "#8f445b"
          ],
          [
           0.18072289156626503,
           "#8f445b"
          ],
          [
           0.18072289156626503,
           "#90465c"
          ],
          [
           0.18473895582329317,
           "#90465c"
          ],
          [
           0.18473895582329317,
           "#90475d"
          ],
          [
           0.18875502008032127,
           "#90475d"
          ],
          [
           0.18875502008032127,
           "#91495f"
          ],
          [
           0.19277108433734938,
           "#91495f"
          ],
          [
           0.19277108433734938,
           "#924b60"
          ],
          [
           0.1967871485943775,
           "#924b60"
          ],
          [
           0.1967871485943775,
           "#934c61"
          ],
          [
           0.2008032128514056,
           "#934c61"
          ],
          [
           0.2008032128514056,
           "#944e63"
          ],
          [
           0.20481927710843373,
           "#944e63"
          ],
          [
           0.20481927710843373,
           "#954f64"
          ],
          [
           0.20883534136546184,
           "#954f64"
          ],
          [
           0.20883534136546184,
           "#965166"
          ],
          [
           0.21285140562248994,
           "#965166"
          ],
          [
           0.21285140562248994,
           "#975267"
          ],
          [
           0.21686746987951805,
           "#975267"
          ],
          [
           0.21686746987951805,
           "#985468"
          ],
          [
           0.22088353413654616,
           "#985468"
          ],
          [
           0.22088353413654616,
           "#99556a"
          ],
          [
           0.22489959839357426,
           "#99556a"
          ],
          [
           0.22489959839357426,
           "#9a576b"
          ],
          [
           0.2289156626506024,
           "#9a576b"
          ],
          [
           0.2289156626506024,
           "#9a596c"
          ],
          [
           0.2329317269076305,
           "#9a596c"
          ],
          [
           0.2329317269076305,
           "#9b5a6e"
          ],
          [
           0.2369477911646586,
           "#9b5a6e"
          ],
          [
           0.2369477911646586,
           "#9c5c6f"
          ],
          [
           0.24096385542168672,
           "#9c5c6f"
          ],
          [
           0.24096385542168672,
           "#9d5d71"
          ],
          [
           0.24497991967871482,
           "#9d5d71"
          ],
          [
           0.24497991967871482,
           "#9e5f72"
          ],
          [
           0.24899598393574296,
           "#9e5f72"
          ],
          [
           0.24899598393574296,
           "#9f6073"
          ],
          [
           0.25301204819277107,
           "#9f6073"
          ],
          [
           0.25301204819277107,
           "#a06275"
          ],
          [
           0.2570281124497992,
           "#a06275"
          ],
          [
           0.2570281124497992,
           "#a16476"
          ],
          [
           0.2610441767068273,
           "#a16476"
          ],
          [
           0.2610441767068273,
           "#a26577"
          ],
          [
           0.2650602409638554,
           "#a26577"
          ],
          [
           0.2650602409638554,
           "#a36779"
          ],
          [
           0.2690763052208835,
           "#a36779"
          ],
          [
           0.2690763052208835,
           "#a4687a"
          ],
          [
           0.2730923694779116,
           "#a4687a"
          ],
          [
           0.2730923694779116,
           "#a46a7b"
          ],
          [
           0.2771084337349397,
           "#a46a7b"
          ],
          [
           0.2771084337349397,
           "#a56b7d"
          ],
          [
           0.28112449799196787,
           "#a56b7d"
          ],
          [
           0.28112449799196787,
           "#a66d7e"
          ],
          [
           0.285140562248996,
           "#a66d7e"
          ],
          [
           0.285140562248996,
           "#a76e80"
          ],
          [
           0.2891566265060241,
           "#a76e80"
          ],
          [
           0.2891566265060241,
           "#a87081"
          ],
          [
           0.2931726907630522,
           "#a87081"
          ],
          [
           0.2931726907630522,
           "#a97282"
          ],
          [
           0.2971887550200803,
           "#a97282"
          ],
          [
           0.2971887550200803,
           "#aa7384"
          ],
          [
           0.3012048192771084,
           "#aa7384"
          ],
          [
           0.3012048192771084,
           "#ab7585"
          ],
          [
           0.3052208835341365,
           "#ab7585"
          ],
          [
           0.3052208835341365,
           "#ac7686"
          ],
          [
           0.3092369477911646,
           "#ac7686"
          ],
          [
           0.3092369477911646,
           "#ad7888"
          ],
          [
           0.3132530120481927,
           "#ad7888"
          ],
          [
           0.3132530120481927,
           "#ae7989"
          ],
          [
           0.31726907630522083,
           "#ae7989"
          ],
          [
           0.31726907630522083,
           "#af7b8b"
          ],
          [
           0.321285140562249,
           "#af7b8b"
          ],
          [
           0.321285140562249,
           "#af7d8c"
          ],
          [
           0.3253012048192771,
           "#af7d8c"
          ],
          [
           0.3253012048192771,
           "#b07e8d"
          ],
          [
           0.3293172690763052,
           "#b07e8d"
          ],
          [
           0.3293172690763052,
           "#b1808f"
          ],
          [
           0.3333333333333333,
           "#b1808f"
          ],
          [
           0.3333333333333333,
           "#b28190"
          ],
          [
           0.3373493975903614,
           "#b28190"
          ],
          [
           0.3373493975903614,
           "#b38391"
          ],
          [
           0.34136546184738953,
           "#b38391"
          ],
          [
           0.34136546184738953,
           "#b48493"
          ],
          [
           0.34538152610441764,
           "#b48493"
          ],
          [
           0.34538152610441764,
           "#b58694"
          ],
          [
           0.34939759036144574,
           "#b58694"
          ],
          [
           0.34939759036144574,
           "#b68895"
          ],
          [
           0.35341365461847385,
           "#b68895"
          ],
          [
           0.35341365461847385,
           "#b78997"
          ],
          [
           0.35742971887550196,
           "#b78997"
          ],
          [
           0.35742971887550196,
           "#b88b98"
          ],
          [
           0.36144578313253006,
           "#b88b98"
          ],
          [
           0.36144578313253006,
           "#b98c9a"
          ],
          [
           0.3654618473895582,
           "#b98c9a"
          ],
          [
           0.3654618473895582,
           "#b98e9b"
          ],
          [
           0.36947791164658633,
           "#b98e9b"
          ],
          [
           0.36947791164658633,
           "#ba8f9c"
          ],
          [
           0.37349397590361444,
           "#ba8f9c"
          ],
          [
           0.37349397590361444,
           "#bb919e"
          ],
          [
           0.37751004016064255,
           "#bb919e"
          ],
          [
           0.37751004016064255,
           "#bc929f"
          ],
          [
           0.38152610441767065,
           "#bc929f"
          ],
          [
           0.38152610441767065,
           "#bd94a0"
          ],
          [
           0.38554216867469876,
           "#bd94a0"
          ],
          [
           0.38554216867469876,
           "#be96a2"
          ],
          [
           0.38955823293172687,
           "#be96a2"
          ],
          [
           0.38955823293172687,
           "#bf97a3"
          ],
          [
           0.393574297188755,
           "#bf97a3"
          ],
          [
           0.393574297188755,
           "#c099a4"
          ],
          [
           0.3975903614457831,
           "#c099a4"
          ],
          [
           0.3975903614457831,
           "#c19aa6"
          ],
          [
           0.4016064257028112,
           "#c19aa6"
          ],
          [
           0.4016064257028112,
           "#c29ca7"
          ],
          [
           0.4056224899598393,
           "#c29ca7"
          ],
          [
           0.4056224899598393,
           "#c39da9"
          ],
          [
           0.40963855421686746,
           "#c39da9"
          ],
          [
           0.40963855421686746,
           "#c39faa"
          ],
          [
           0.41365461847389556,
           "#c39faa"
          ],
          [
           0.41365461847389556,
           "#c4a1ab"
          ],
          [
           0.41767068273092367,
           "#c4a1ab"
          ],
          [
           0.41767068273092367,
           "#c5a2ad"
          ],
          [
           0.4216867469879518,
           "#c5a2ad"
          ],
          [
           0.4216867469879518,
           "#c6a4ae"
          ],
          [
           0.4257028112449799,
           "#c6a4ae"
          ],
          [
           0.4257028112449799,
           "#c7a5af"
          ],
          [
           0.429718875502008,
           "#c7a5af"
          ],
          [
           0.429718875502008,
           "#c8a7b1"
          ],
          [
           0.4337349397590361,
           "#c8a7b1"
          ],
          [
           0.4337349397590361,
           "#c9a8b2"
          ],
          [
           0.4377510040160642,
           "#c9a8b2"
          ],
          [
           0.4377510040160642,
           "#caaab4"
          ],
          [
           0.4417670682730923,
           "#caaab4"
          ],
          [
           0.4417670682730923,
           "#cbabb5"
          ],
          [
           0.4457831325301204,
           "#cbabb5"
          ],
          [
           0.4457831325301204,
           "#ccadb6"
          ],
          [
           0.4497991967871485,
           "#ccadb6"
          ],
          [
           0.4497991967871485,
           "#cdafb8"
          ],
          [
           0.4538152610441767,
           "#cdafb8"
          ],
          [
           0.4538152610441767,
           "#cdb0b9"
          ],
          [
           0.4578313253012048,
           "#cdb0b9"
          ],
          [
           0.4578313253012048,
           "#ceb2ba"
          ],
          [
           0.4618473895582329,
           "#ceb2ba"
          ],
          [
           0.4618473895582329,
           "#cfb3bc"
          ],
          [
           0.465863453815261,
           "#cfb3bc"
          ],
          [
           0.465863453815261,
           "#d0b5bd"
          ],
          [
           0.4698795180722891,
           "#d0b5bd"
          ],
          [
           0.4698795180722891,
           "#d1b6be"
          ],
          [
           0.4738955823293172,
           "#d1b6be"
          ],
          [
           0.4738955823293172,
           "#d2b8c0"
          ],
          [
           0.47791164658634533,
           "#d2b8c0"
          ],
          [
           0.47791164658634533,
           "#d3bac1"
          ],
          [
           0.48192771084337344,
           "#d3bac1"
          ],
          [
           0.48192771084337344,
           "#d4bbc3"
          ],
          [
           0.48594377510040154,
           "#d4bbc3"
          ],
          [
           0.48594377510040154,
           "#d5bdc4"
          ],
          [
           0.48995983935742965,
           "#d5bdc4"
          ],
          [
           0.48995983935742965,
           "#d6bec5"
          ],
          [
           0.4939759036144578,
           "#d6bec5"
          ],
          [
           0.4939759036144578,
           "#d7c0c7"
          ],
          [
           0.4979919678714859,
           "#d7c0c7"
          ],
          [
           0.4979919678714859,
           "#d8c1c8"
          ],
          [
           0.502008032128514,
           "#d8c1c8"
          ],
          [
           0.502008032128514,
           "#d8c3c9"
          ],
          [
           0.5060240963855421,
           "#d8c3c9"
          ],
          [
           0.5060240963855421,
           "#d9c4cb"
          ],
          [
           0.5100401606425702,
           "#d9c4cb"
          ],
          [
           0.5100401606425702,
           "#dac6cc"
          ],
          [
           0.5140562248995983,
           "#dac6cc"
          ],
          [
           0.5140562248995983,
           "#dbc8cd"
          ],
          [
           0.5180722891566265,
           "#dbc8cd"
          ],
          [
           0.5180722891566265,
           "#dcc9cf"
          ],
          [
           0.5220883534136546,
           "#dcc9cf"
          ],
          [
           0.5220883534136546,
           "#ddcbd0"
          ],
          [
           0.5261044176706827,
           "#ddcbd0"
          ],
          [
           0.5261044176706827,
           "#deccd2"
          ],
          [
           0.5301204819277108,
           "#deccd2"
          ],
          [
           0.5301204819277108,
           "#dfced3"
          ],
          [
           0.5341365461847389,
           "#dfced3"
          ],
          [
           0.5341365461847389,
           "#e0cfd4"
          ],
          [
           0.538152610441767,
           "#e0cfd4"
          ],
          [
           0.538152610441767,
           "#e1d1d6"
          ],
          [
           0.5421686746987951,
           "#e1d1d6"
          ],
          [
           0.5421686746987951,
           "#e2d3d7"
          ],
          [
           0.5461847389558232,
           "#e2d3d7"
          ],
          [
           0.5461847389558232,
           "#e2d4d8"
          ],
          [
           0.5502008032128514,
           "#e2d4d8"
          ],
          [
           0.5502008032128514,
           "#e3d6da"
          ],
          [
           0.5542168674698794,
           "#e3d6da"
          ],
          [
           0.5542168674698794,
           "#e4d7db"
          ],
          [
           0.5582329317269076,
           "#e4d7db"
          ],
          [
           0.5582329317269076,
           "#e5d9dd"
          ],
          [
           0.5622489959839357,
           "#e5d9dd"
          ],
          [
           0.5622489959839357,
           "#e6dade"
          ],
          [
           0.5662650602409638,
           "#e6dade"
          ],
          [
           0.5662650602409638,
           "#e7dcdf"
          ],
          [
           0.570281124497992,
           "#e7dcdf"
          ],
          [
           0.570281124497992,
           "#e8dde1"
          ],
          [
           0.57429718875502,
           "#e8dde1"
          ],
          [
           0.57429718875502,
           "#e9dfe2"
          ],
          [
           0.5783132530120482,
           "#e9dfe2"
          ],
          [
           0.5783132530120482,
           "#eae1e3"
          ],
          [
           0.5823293172690762,
           "#eae1e3"
          ],
          [
           0.5823293172690762,
           "#ebe2e5"
          ],
          [
           0.5863453815261044,
           "#ebe2e5"
          ],
          [
           0.5863453815261044,
           "#ece4e6"
          ],
          [
           0.5903614457831324,
           "#ece4e6"
          ],
          [
           0.5903614457831324,
           "#ece5e7"
          ],
          [
           0.5943775100401606,
           "#ece5e7"
          ],
          [
           0.5943775100401606,
           "#ede7e9"
          ],
          [
           0.5983935742971886,
           "#ede7e9"
          ],
          [
           0.5983935742971886,
           "#eee8ea"
          ],
          [
           0.6024096385542168,
           "#eee8ea"
          ],
          [
           0.6024096385542168,
           "#efeaec"
          ],
          [
           0.606425702811245,
           "#efeaec"
          ],
          [
           0.606425702811245,
           "#f0eced"
          ],
          [
           0.610441767068273,
           "#f0eced"
          ],
          [
           0.610441767068273,
           "#f1edee"
          ],
          [
           0.6144578313253012,
           "#f1edee"
          ],
          [
           0.6144578313253012,
           "#f2eff0"
          ],
          [
           0.6184738955823292,
           "#f2eff0"
          ],
          [
           0.6184738955823292,
           "#f3f0f1"
          ],
          [
           0.6224899598393574,
           "#f3f0f1"
          ],
          [
           0.6224899598393574,
           "#f4f2f2"
          ],
          [
           0.6265060240963854,
           "#f4f2f2"
          ],
          [
           0.6265060240963854,
           "#f5f3f4"
          ],
          [
           0.6305220883534136,
           "#f5f3f4"
          ],
          [
           0.6305220883534136,
           "#f6f5f5"
          ],
          [
           0.6345381526104417,
           "#f6f5f5"
          ],
          [
           0.6345381526104417,
           "#f7f7f7"
          ],
          [
           0.6385542168674698,
           "#f7f7f7"
          ],
          [
           0.6385542168674698,
           "#f5f5f6"
          ],
          [
           0.642570281124498,
           "#f5f5f6"
          ],
          [
           0.642570281124498,
           "#f4f4f5"
          ],
          [
           0.646586345381526,
           "#f4f4f5"
          ],
          [
           0.646586345381526,
           "#f3f3f4"
          ],
          [
           0.6506024096385542,
           "#f3f3f4"
          ],
          [
           0.6506024096385542,
           "#f1f2f3"
          ],
          [
           0.6546184738955823,
           "#f1f2f3"
          ],
          [
           0.6546184738955823,
           "#f0f0f2"
          ],
          [
           0.6586345381526104,
           "#f0f0f2"
          ],
          [
           0.6586345381526104,
           "#efeff1"
          ],
          [
           0.6626506024096385,
           "#efeff1"
          ],
          [
           0.6626506024096385,
           "#edeef0"
          ],
          [
           0.6666666666666666,
           "#edeef0"
          ],
          [
           0.6666666666666666,
           "#ecedef"
          ],
          [
           0.6706827309236947,
           "#ecedef"
          ],
          [
           0.6706827309236947,
           "#ebebee"
          ],
          [
           0.6746987951807228,
           "#ebebee"
          ],
          [
           0.6746987951807228,
           "#e9eaed"
          ],
          [
           0.6787148594377509,
           "#e9eaed"
          ],
          [
           0.6787148594377509,
           "#e8e9ec"
          ],
          [
           0.6827309236947791,
           "#e8e9ec"
          ],
          [
           0.6827309236947791,
           "#e7e8eb"
          ],
          [
           0.6867469879518072,
           "#e7e8eb"
          ],
          [
           0.6867469879518072,
           "#e5e6ea"
          ],
          [
           0.6907630522088353,
           "#e5e6ea"
          ],
          [
           0.6907630522088353,
           "#e4e5e9"
          ],
          [
           0.6947791164658634,
           "#e4e5e9"
          ],
          [
           0.6947791164658634,
           "#e3e4e9"
          ],
          [
           0.6987951807228915,
           "#e3e4e9"
          ],
          [
           0.6987951807228915,
           "#e1e3e8"
          ],
          [
           0.7028112449799196,
           "#e1e3e8"
          ],
          [
           0.7028112449799196,
           "#e0e1e7"
          ],
          [
           0.7068273092369477,
           "#e0e1e7"
          ],
          [
           0.7068273092369477,
           "#dfe0e6"
          ],
          [
           0.7108433734939759,
           "#dfe0e6"
          ],
          [
           0.7108433734939759,
           "#dddfe5"
          ],
          [
           0.7148594377510039,
           "#dddfe5"
          ],
          [
           0.7148594377510039,
           "#dcdee4"
          ],
          [
           0.7188755020080321,
           "#dcdee4"
          ],
          [
           0.7188755020080321,
           "#dbdce3"
          ],
          [
           0.7228915662650601,
           "#dbdce3"
          ],
          [
           0.7228915662650601,
           "#d9dbe2"
          ],
          [
           0.7269076305220883,
           "#d9dbe2"
          ],
          [
           0.7269076305220883,
           "#d8dae1"
          ],
          [
           0.7309236947791165,
           "#d8dae1"
          ],
          [
           0.7309236947791165,
           "#d7d9e0"
          ],
          [
           0.7349397590361445,
           "#d7d9e0"
          ],
          [
           0.7349397590361445,
           "#d5d7df"
          ],
          [
           0.7389558232931727,
           "#d5d7df"
          ],
          [
           0.7389558232931727,
           "#d4d6de"
          ],
          [
           0.7429718875502007,
           "#d4d6de"
          ],
          [
           0.7429718875502007,
           "#d3d5dd"
          ],
          [
           0.7469879518072289,
           "#d3d5dd"
          ],
          [
           0.7469879518072289,
           "#d1d4dc"
          ],
          [
           0.7510040160642569,
           "#d1d4dc"
          ],
          [
           0.7510040160642569,
           "#d0d2db"
          ],
          [
           0.7550200803212851,
           "#d0d2db"
          ],
          [
           0.7550200803212851,
           "#cfd1db"
          ],
          [
           0.7590361445783131,
           "#cfd1db"
          ],
          [
           0.7590361445783131,
           "#cdd0da"
          ],
          [
           0.7630522088353413,
           "#cdd0da"
          ],
          [
           0.7630522088353413,
           "#cccfd9"
          ],
          [
           0.7670682730923694,
           "#cccfd9"
          ],
          [
           0.7670682730923694,
           "#cbcdd8"
          ],
          [
           0.7710843373493975,
           "#cbcdd8"
          ],
          [
           0.7710843373493975,
           "#c9ccd7"
          ],
          [
           0.7751004016064257,
           "#c9ccd7"
          ],
          [
           0.7751004016064257,
           "#c8cbd6"
          ],
          [
           0.7791164658634537,
           "#c8cbd6"
          ],
          [
           0.7791164658634537,
           "#c7cad5"
          ],
          [
           0.7831325301204819,
           "#c7cad5"
          ],
          [
           0.7831325301204819,
           "#c5c8d4"
          ],
          [
           0.78714859437751,
           "#c5c8d4"
          ],
          [
           0.78714859437751,
           "#c4c7d3"
          ],
          [
           0.7911646586345381,
           "#c4c7d3"
          ],
          [
           0.7911646586345381,
           "#c3c6d2"
          ],
          [
           0.7951807228915662,
           "#c3c6d2"
          ],
          [
           0.7951807228915662,
           "#c1c5d1"
          ],
          [
           0.7991967871485943,
           "#c1c5d1"
          ],
          [
           0.7991967871485943,
           "#c0c3d0"
          ],
          [
           0.8032128514056224,
           "#c0c3d0"
          ],
          [
           0.8032128514056224,
           "#bfc2cf"
          ],
          [
           0.8072289156626505,
           "#bfc2cf"
          ],
          [
           0.8072289156626505,
           "#bdc1ce"
          ],
          [
           0.8112449799196786,
           "#bdc1ce"
          ],
          [
           0.8112449799196786,
           "#bcc0cd"
          ],
          [
           0.8152610441767068,
           "#bcc0cd"
          ],
          [
           0.8152610441767068,
           "#bbbfcd"
          ],
          [
           0.8192771084337349,
           "#bbbfcd"
          ],
          [
           0.8192771084337349,
           "#b9bdcc"
          ],
          [
           0.823293172690763,
           "#b9bdcc"
          ],
          [
           0.823293172690763,
           "#b8bccb"
          ],
          [
           0.8273092369477911,
           "#b8bccb"
          ],
          [
           0.8273092369477911,
           "#b7bbca"
          ],
          [
           0.8313253012048192,
           "#b7bbca"
          ],
          [
           0.8313253012048192,
           "#b5bac9"
          ],
          [
           0.8353413654618473,
           "#b5bac9"
          ],
          [
           0.8353413654618473,
           "#b4b8c8"
          ],
          [
           0.8393574297188754,
           "#b4b8c8"
          ],
          [
           0.8393574297188754,
           "#b3b7c7"
          ],
          [
           0.8433734939759036,
           "#b3b7c7"
          ],
          [
           0.8433734939759036,
           "#b1b6c6"
          ],
          [
           0.8473895582329316,
           "#b1b6c6"
          ],
          [
           0.8473895582329316,
           "#b0b5c5"
          ],
          [
           0.8514056224899598,
           "#b0b5c5"
          ],
          [
           0.8514056224899598,
           "#afb3c4"
          ],
          [
           0.8554216867469878,
           "#afb3c4"
          ],
          [
           0.8554216867469878,
           "#adb2c3"
          ],
          [
           0.859437751004016,
           "#adb2c3"
          ],
          [
           0.859437751004016,
           "#acb1c2"
          ],
          [
           0.8634538152610441,
           "#acb1c2"
          ],
          [
           0.8634538152610441,
           "#abb0c1"
          ],
          [
           0.8674698795180722,
           "#abb0c1"
          ],
          [
           0.8674698795180722,
           "#a9aec0"
          ],
          [
           0.8714859437751004,
           "#a9aec0"
          ],
          [
           0.8714859437751004,
           "#a8adbf"
          ],
          [
           0.8755020080321284,
           "#a8adbf"
          ],
          [
           0.8755020080321284,
           "#a7acbf"
          ],
          [
           0.8795180722891566,
           "#a7acbf"
          ],
          [
           0.8795180722891566,
           "#a5abbe"
          ],
          [
           0.8835341365461846,
           "#a5abbe"
          ],
          [
           0.8835341365461846,
           "#a4a9bd"
          ],
          [
           0.8875502008032128,
           "#a4a9bd"
          ],
          [
           0.8875502008032128,
           "#a3a8bc"
          ],
          [
           0.8915662650602408,
           "#a3a8bc"
          ],
          [
           0.8915662650602408,
           "#a1a7bb"
          ],
          [
           0.895582329317269,
           "#a1a7bb"
          ],
          [
           0.895582329317269,
           "#a0a6ba"
          ],
          [
           0.899598393574297,
           "#a0a6ba"
          ],
          [
           0.899598393574297,
           "#9fa4b9"
          ],
          [
           0.9036144578313252,
           "#9fa4b9"
          ],
          [
           0.9036144578313252,
           "#9da3b8"
          ],
          [
           0.9076305220883534,
           "#9da3b8"
          ],
          [
           0.9076305220883534,
           "#9ca2b7"
          ],
          [
           0.9116465863453814,
           "#9ca2b7"
          ],
          [
           0.9116465863453814,
           "#9ba1b6"
          ],
          [
           0.9156626506024096,
           "#9ba1b6"
          ],
          [
           0.9156626506024096,
           "#999fb5"
          ],
          [
           0.9196787148594376,
           "#999fb5"
          ],
          [
           0.9196787148594376,
           "#989eb4"
          ],
          [
           0.9236947791164658,
           "#989eb4"
          ],
          [
           0.9236947791164658,
           "#979db3"
          ],
          [
           0.9277108433734939,
           "#979db3"
          ],
          [
           0.9277108433734939,
           "#959cb2"
          ],
          [
           0.931726907630522,
           "#959cb2"
          ],
          [
           0.931726907630522,
           "#949ab1"
          ],
          [
           0.9357429718875501,
           "#949ab1"
          ],
          [
           0.9357429718875501,
           "#9399b1"
          ],
          [
           0.9397590361445782,
           "#9399b1"
          ],
          [
           0.9397590361445782,
           "#9198b0"
          ],
          [
           0.9437751004016064,
           "#9198b0"
          ],
          [
           0.9437751004016064,
           "#9097af"
          ],
          [
           0.9477911646586344,
           "#9097af"
          ],
          [
           0.9477911646586344,
           "#8f95ae"
          ],
          [
           0.9518072289156626,
           "#8f95ae"
          ],
          [
           0.9518072289156626,
           "#8d94ad"
          ],
          [
           0.9558232931726907,
           "#8d94ad"
          ],
          [
           0.9558232931726907,
           "#8c93ac"
          ],
          [
           0.9598393574297188,
           "#8c93ac"
          ],
          [
           0.9598393574297188,
           "#8b92ab"
          ],
          [
           0.9638554216867469,
           "#8b92ab"
          ],
          [
           0.9638554216867469,
           "#8990aa"
          ],
          [
           0.967871485943775,
           "#8990aa"
          ],
          [
           0.967871485943775,
           "#888fa9"
          ],
          [
           0.9718875502008031,
           "#888fa9"
          ],
          [
           0.9718875502008031,
           "#878ea8"
          ],
          [
           0.9759036144578312,
           "#878ea8"
          ],
          [
           0.9759036144578312,
           "#858da7"
          ],
          [
           0.9799196787148593,
           "#858da7"
          ],
          [
           0.9799196787148593,
           "#848ba6"
          ],
          [
           0.9839357429718875,
           "#848ba6"
          ],
          [
           0.9839357429718875,
           "#838aa5"
          ],
          [
           0.9879518072289156,
           "#838aa5"
          ],
          [
           0.9879518072289156,
           "#8189a4"
          ],
          [
           0.9919678714859437,
           "#8189a4"
          ],
          [
           0.9919678714859437,
           "#8088a3"
          ],
          [
           0.9959839357429718,
           "#8088a3"
          ],
          [
           0.9959839357429718,
           "#7f87a3"
          ],
          [
           1,
           "#7f87a3"
          ]
         ],
         "showscale": false,
         "type": "heatmap",
         "x": [
          1990,
          1991,
          1992,
          1993,
          1994,
          1995,
          1996,
          1997,
          1998,
          1999,
          2000,
          2001,
          2002,
          2003,
          2004,
          2005,
          2006,
          2007,
          2008,
          2009,
          2010,
          2011,
          2012,
          2013,
          2014,
          2015,
          2016,
          2017,
          2018
         ],
         "y": [
          " Chernihiv ",
          " Sumy ",
          " Poltava ",
          " Luhansk ",
          " Donetsk ",
          " Cherkasy ",
          " Kirovohrad ",
          " Kharkiv ",
          " Dnipropetrovsk ",
          " Vinnytsia ",
          " Kyiv ",
          " Zaporizhia ",
          " Zhytomyr ",
          " Khmelnytskyi ",
          " Mykolaiv ",
          " Kherson ",
          " Odesa ",
          " Crimea ",
          " Sevastopol ",
          " Ternopil ",
          " Lviv ",
          " Chernivtsi ",
          " Volyn ",
          " Ivano-Frankivsk ",
          " Kyiv city ",
          " Rivne ",
          " Zakarpattia "
         ],
         "z": [
          [
           -4,
           -5.7,
           -6.7,
           -8.5,
           -9.9,
           -10.7,
           -10.6,
           -10.7,
           -10.8,
           -12.2,
           -12.9,
           -13.1,
           -13,
           -13.2,
           -13.2,
           -14.1,
           -13,
           -13.1,
           -12.2,
           -10.5,
           -10.5,
           -9.2,
           -9.3,
           -9.4,
           -10.2,
           -10.3,
           -10.3,
           -11,
           -12.3
          ],
          [
           -3.1,
           -4,
           -5.3,
           -7.5,
           -8.1,
           -8.2,
           -9.1,
           -9.4,
           -9.2,
           -10.3,
           -11.1,
           -11.2,
           -11.3,
           -11.3,
           -11.5,
           -12.1,
           -10.1,
           -10.2,
           -9.6,
           -8.9,
           -8.4,
           -7.2,
           -6.9,
           -7.8,
           -8,
           -8.2,
           -8.9,
           -8.7,
           -9.9
          ],
          [
           -2.5,
           -3.4,
           -4.9,
           -6.7,
           -7.6,
           -8.1,
           -8.3,
           -9.1,
           -8.4,
           -9.9,
           -10.9,
           -11.1,
           -11,
           -11.2,
           -10.9,
           -11.2,
           -9.3,
           -9.8,
           -8.7,
           -8,
           -8,
           -6.8,
           -6.6,
           -6.8,
           -7.1,
           -7.7,
           -8.4,
           -8.7,
           -9.6
          ],
          [
           -0.6,
           -1.7,
           -4,
           -5.9,
           -7.5,
           -9,
           -10.1,
           -10,
           -9,
           -10.7,
           -11.4,
           -10.9,
           -10.6,
           -10.7,
           -10.6,
           -10.9,
           -9.5,
           -9.1,
           -8.5,
           -7.6,
           -7.8,
           -7,
           -6.4,
           -6.8,
           null,
           null,
           null,
           null,
           null
          ],
          [
           -1.2,
           -2.5,
           -4.3,
           -6.2,
           -7.5,
           -9.7,
           -9.8,
           -9.6,
           -8.7,
           -9.9,
           -10.9,
           -10.3,
           -10.6,
           -10.3,
           -9.9,
           -10.3,
           -9.2,
           -9.1,
           -8.3,
           -7.1,
           -7.3,
           -6.7,
           -6.3,
           -6.5,
           null,
           null,
           null,
           null,
           null
          ],
          [
           -2.1,
           -3.3,
           -4.1,
           -6.2,
           -6.7,
           -7.5,
           -8,
           -8.1,
           -8.3,
           -8.8,
           -9.9,
           -10,
           -10.2,
           -9.9,
           -10.4,
           -10.9,
           -9.4,
           -9.3,
           -8.4,
           -7.2,
           -7.2,
           -6.6,
           -6.1,
           -6.6,
           -6.8,
           -7,
           -7.8,
           -8.4,
           -9.5
          ],
          [
           -1.9,
           -2.8,
           -3.8,
           -5.6,
           -6.4,
           -7.7,
           -8,
           -8.5,
           -8.3,
           -9.7,
           -10.1,
           -9.8,
           -10,
           -9.9,
           -9.7,
           -10.5,
           -8.8,
           -8.8,
           -8.4,
           -6.7,
           -7,
           -6.1,
           -5.5,
           -6,
           -6.3,
           -6.9,
           -7.7,
           -8.1,
           -8.9
          ],
          [
           -1.4,
           -2.9,
           -4.1,
           -6.2,
           -7.6,
           -8.5,
           -8.3,
           -8.4,
           -7.8,
           -8.9,
           -9.6,
           -9,
           -8.9,
           -8.8,
           -8.4,
           -8.6,
           -7.6,
           -7.2,
           -6.4,
           -5.5,
           -5.7,
           -5,
           -4.7,
           -4.7,
           -5.2,
           -6.4,
           -6.7,
           -7.2,
           -8.6
          ],
          [
           0.5,
           -0.8,
           -2.7,
           -4.4,
           -5.8,
           -7.2,
           -7.8,
           -7.9,
           -7.4,
           -8.6,
           -9.2,
           -8.8,
           -8.6,
           -8.4,
           -8.1,
           -9,
           -7.5,
           -7.4,
           -6.7,
           -5.2,
           -5.7,
           -4.8,
           -4.3,
           -4.6,
           -5,
           -6.3,
           -6.8,
           -7.3,
           -8.5
          ],
          [
           -2.1,
           -3.2,
           -3.7,
           -5.4,
           -6.2,
           -6.7,
           -7,
           -7,
           -7.3,
           -7.7,
           -8.4,
           -8.3,
           -8.1,
           -8.5,
           -7.9,
           -9.2,
           -7.7,
           -7.5,
           -6.3,
           -5.3,
           -5.5,
           -4.6,
           -4.2,
           -5,
           -4.9,
           -5.7,
           -5.8,
           -6.3,
           -7.4
          ],
          [
           -0.7,
           -2.4,
           -3.4,
           -5.1,
           -5.9,
           -6.9,
           -6.9,
           -7.2,
           -7.6,
           -8.5,
           -8.9,
           -9.4,
           -9,
           -8.9,
           -8.6,
           -9,
           -8,
           -7.6,
           -6.2,
           -4.7,
           -5,
           -3.9,
           -3.6,
           -3.9,
           -4.3,
           -4.7,
           -5.3,
           -6.3,
           -7.6
          ],
          [
           0.5,
           -0.7,
           -2.5,
           -4.1,
           -5.2,
           -6.9,
           -7,
           -6.9,
           -7.2,
           -8.1,
           -8.7,
           -8.6,
           -8.4,
           -8.4,
           -7.8,
           -8,
           -7.2,
           -7.1,
           -6.2,
           -5.4,
           -5.8,
           -4.9,
           -4.2,
           -4.7,
           -5.1,
           -6.5,
           -7.1,
           -7.8,
           -8.9
          ],
          [
           -0.3,
           -1,
           -1.7,
           -2.8,
           -4,
           -4.9,
           -5.4,
           -5.9,
           -5.9,
           -7.3,
           -7.5,
           -8.5,
           -8.2,
           -8.5,
           -8.5,
           -9,
           -8,
           -7.6,
           -7,
           -5.3,
           -5.2,
           -4.1,
           -4.1,
           -4.6,
           -4.8,
           -5.7,
           -5.8,
           -6.8,
           -7.8
          ],
          [
           -0.6,
           -1.7,
           -2.2,
           -3.6,
           -4.4,
           -4.8,
           -5.3,
           -6.2,
           -6,
           -6.5,
           -7.1,
           -7.7,
           -7.7,
           -7.9,
           -7.4,
           -8.4,
           -7.3,
           -6.9,
           -6,
           -5.3,
           -4.9,
           -4.3,
           -4.2,
           -4.6,
           -4.4,
           -5.2,
           -5.6,
           -6.3,
           -7.1
          ],
          [
           1.7,
           0.2,
           -0.8,
           -2.4,
           -3.7,
           -4.9,
           -5.5,
           -5.6,
           -6.4,
           -7,
           -7.7,
           -7.5,
           -8.1,
           -7.6,
           -7.3,
           -7.7,
           -6.2,
           -6.4,
           -5.4,
           -4.7,
           -5,
           -3.8,
           -3.2,
           -3.7,
           -4,
           -5.5,
           -5.8,
           -6,
           -7.1
          ],
          [
           2.7,
           1.5,
           0.5,
           -1.2,
           -2.7,
           -4.3,
           -5,
           -4.6,
           -5.3,
           -6.3,
           -7,
           -7.3,
           -7.3,
           -6.7,
           -6.4,
           -7.2,
           -5.7,
           -5.9,
           -5,
           -4.2,
           -3.7,
           -3.5,
           -3,
           -3.5,
           -3.6,
           -4.9,
           -5.3,
           -5.6,
           -6.8
          ],
          [
           0.2,
           -1.2,
           -1.9,
           -3.2,
           -4.7,
           -6.1,
           -6.1,
           -5.8,
           -5.8,
           -6.4,
           -7.2,
           -7,
           -7.2,
           -7,
           -6.4,
           -6.7,
           -5.8,
           -5,
           -3.9,
           -2.9,
           -3.1,
           -1.9,
           -1.4,
           -1.9,
           -2,
           -2.9,
           -3,
           -3.4,
           -4.4
          ],
          [
           2.5,
           0.9,
           -0.7,
           -2.7,
           -4.3,
           -5.8,
           -5.8,
           -5.1,
           -5.6,
           -5.5,
           -6.6,
           -6.7,
           -6.7,
           -6.5,
           -6.1,
           -6.7,
           -5.3,
           -4.8,
           -3.7,
           -2.5,
           -2.7,
           -2.1,
           -1.1,
           -1.5,
           null,
           null,
           null,
           null,
           null
          ],
          [
           3.2,
           1.7,
           -0.7,
           -2.7,
           -4.4,
           -6.9,
           -5.6,
           -4.8,
           -5.5,
           -5.6,
           -6.3,
           -6.1,
           -5.6,
           -5.4,
           -4.8,
           -5.8,
           -5,
           -5,
           -4.6,
           -3.3,
           -3.7,
           -2.9,
           -1.7,
           -2.2,
           null,
           null,
           null,
           null,
           null
          ],
          [
           1.4,
           0.4,
           -0.1,
           -1.2,
           -1.7,
           -1.7,
           -2.4,
           -3.3,
           -3,
           -4.7,
           -4.4,
           -5.4,
           -5.2,
           -5.6,
           -4.5,
           -5.2,
           -4.4,
           -4.5,
           -3.5,
           -2.9,
           -3.5,
           -2.6,
           -2.5,
           -2.7,
           -3.3,
           -4.2,
           -4.7,
           -5.2,
           -6.2
          ],
          [
           3.6,
           2.4,
           2,
           1.1,
           0,
           -0.8,
           -1.1,
           -1.9,
           -1.5,
           -3.3,
           -3.3,
           -3.7,
           -3.8,
           -3.8,
           -3,
           -3.6,
           -2.9,
           -2.9,
           -2.4,
           -1.1,
           -1.6,
           -0.9,
           -0.6,
           -0.9,
           -0.9,
           -2,
           -2,
           -2.8,
           -3.8
          ],
          [
           3.8,
           2.9,
           2,
           0.9,
           0.3,
           -0.3,
           -0.7,
           -1.1,
           -0.9,
           -2.2,
           -2.4,
           -2.9,
           -3.3,
           -3.7,
           -2.5,
           -3.2,
           -2.3,
           -2.6,
           -1.3,
           -0.7,
           -0.8,
           0.1,
           0.3,
           -0.1,
           0,
           -1.2,
           -1.5,
           -2,
           -2.8
          ],
          [
           4,
           2,
           2.4,
           1.4,
           0.2,
           -1.1,
           -1,
           -1.5,
           -1.3,
           -2.7,
           -2.8,
           -3.1,
           -3,
           -3.4,
           -2.6,
           -3.2,
           -1.8,
           -1.4,
           -0.2,
           0.7,
           0.4,
           0.8,
           1.6,
           1,
           0.9,
           -0.4,
           -0.5,
           -1.6,
           -2.3
          ],
          [
           5.1,
           3.7,
           3.1,
           2.4,
           1.5,
           0.8,
           0.3,
           -0.3,
           -0.5,
           -2,
           -1.8,
           -2.7,
           -2.8,
           -3.2,
           -2.2,
           -2.7,
           -1.9,
           -1.9,
           -1,
           -0.1,
           -0.9,
           -0.1,
           0.2,
           -0.5,
           -0.6,
           -1.5,
           -1.9,
           -2.9,
           -3.5
          ],
          [
           3.4,
           1.8,
           0.2,
           -1.7,
           -2.7,
           -3.5,
           -3.2,
           -2.5,
           -2.8,
           -2.9,
           -2.9,
           -3,
           -2.5,
           -1.9,
           -0.9,
           -1.4,
           -0.7,
           -1,
           0.7,
           1.5,
           1.2,
           1.8,
           2.2,
           1.9,
           1.7,
           1.8,
           2,
           1.6,
           0.8
          ],
          [
           5.2,
           3.9,
           3.5,
           3.1,
           2.1,
           1,
           0.4,
           0.7,
           0.4,
           -0.7,
           -1.3,
           -1.6,
           -1.8,
           -1.7,
           -1.1,
           -1.7,
           -0.3,
           -0.3,
           0.7,
           1.8,
           1.8,
           3,
           3.5,
           2.5,
           2.1,
           1.2,
           1,
           -0.2,
           -1
          ],
          [
           7.5,
           6.4,
           5.8,
           4.4,
           2.9,
           1.8,
           1.7,
           1.4,
           1.2,
           -0.3,
           0.4,
           -0.4,
           -0.6,
           -0.1,
           0,
           -0.6,
           0.5,
           0.2,
           1.7,
           2.1,
           2.7,
           3.1,
           3.3,
           2.9,
           2.8,
           1,
           0.5,
           -0.4,
           -1.2
          ]
         ],
         "zmax": 8,
         "zmin": -15
        },
        {
         "hovertemplate": "%{text}",
         "marker": {
          "color": "#67001f",
          "line": {
           "color": "#67001f",
           "width": 0
          }
         },
         "orientation": "h",
         "text": [
          "-15"
         ],
         "type": "bar",
         "width": 0.1,
         "x": [
          1
         ],
         "xaxis": "x2",
         "y": [
          ""
         ],
         "yaxis": "y2"
        },
        {
         "hovertemplate": "%{text}",
         "marker": {
          "color": "#70102d",
          "line": {
           "color": "#70102d",
           "width": 0
          }
         },
         "orientation": "h",
         "text": [
          "-14"
         ],
         "type": "bar",
         "width": 0.1,
         "x": [
          1
         ],
         "xaxis": "x2",
         "y": [
          ""
         ],
         "yaxis": "y2"
        },
        {
         "hovertemplate": "%{text}",
         "marker": {
          "color": "#7a203b",
          "line": {
           "color": "#7a203b",
           "width": 0
          }
         },
         "orientation": "h",
         "text": [
          "-13"
         ],
         "type": "bar",
         "width": 0.1,
         "x": [
          1
         ],
         "xaxis": "x2",
         "y": [
          ""
         ],
         "yaxis": "y2"
        },
        {
         "hovertemplate": "%{text}",
         "marker": {
          "color": "#83314a",
          "line": {
           "color": "#83314a",
           "width": 0
          }
         },
         "orientation": "h",
         "text": [
          "-12"
         ],
         "type": "bar",
         "width": 0.1,
         "x": [
          1
         ],
         "xaxis": "x2",
         "y": [
          ""
         ],
         "yaxis": "y2"
        },
        {
         "hovertemplate": "%{text}",
         "marker": {
          "color": "#8d4158",
          "line": {
           "color": "#8d4158",
           "width": 0
          }
         },
         "orientation": "h",
         "text": [
          "-11"
         ],
         "type": "bar",
         "width": 0.1,
         "x": [
          1
         ],
         "xaxis": "x2",
         "y": [
          ""
         ],
         "yaxis": "y2"
        },
        {
         "hovertemplate": "%{text}",
         "marker": {
          "color": "#975267",
          "line": {
           "color": "#975267",
           "width": 0
          }
         },
         "orientation": "h",
         "text": [
          "-10"
         ],
         "type": "bar",
         "width": 0.1,
         "x": [
          1
         ],
         "xaxis": "x2",
         "y": [
          ""
         ],
         "yaxis": "y2"
        },
        {
         "hovertemplate": "%{text}",
         "marker": {
          "color": "#a06275",
          "line": {
           "color": "#a06275",
           "width": 0
          }
         },
         "orientation": "h",
         "text": [
          "-9"
         ],
         "type": "bar",
         "width": 0.1,
         "x": [
          1
         ],
         "xaxis": "x2",
         "y": [
          ""
         ],
         "yaxis": "y2"
        },
        {
         "hovertemplate": "%{text}",
         "marker": {
          "color": "#aa7383",
          "line": {
           "color": "#aa7383",
           "width": 0
          }
         },
         "orientation": "h",
         "text": [
          "-8"
         ],
         "type": "bar",
         "width": 0.1,
         "x": [
          1
         ],
         "xaxis": "x2",
         "y": [
          ""
         ],
         "yaxis": "y2"
        },
        {
         "hovertemplate": "%{text}",
         "marker": {
          "color": "#b38392",
          "line": {
           "color": "#b38392",
           "width": 0
          }
         },
         "orientation": "h",
         "text": [
          "-7"
         ],
         "type": "bar",
         "width": 0.1,
         "x": [
          1
         ],
         "xaxis": "x2",
         "y": [
          ""
         ],
         "yaxis": "y2"
        },
        {
         "hovertemplate": "%{text}",
         "marker": {
          "color": "#bd94a0",
          "line": {
           "color": "#bd94a0",
           "width": 0
          }
         },
         "orientation": "h",
         "text": [
          "-6"
         ],
         "type": "bar",
         "width": 0.1,
         "x": [
          1
         ],
         "xaxis": "x2",
         "y": [
          ""
         ],
         "yaxis": "y2"
        },
        {
         "hovertemplate": "%{text}",
         "marker": {
          "color": "#c7a4af",
          "line": {
           "color": "#c7a4af",
           "width": 0
          }
         },
         "orientation": "h",
         "text": [
          "-5"
         ],
         "type": "bar",
         "width": 0.1,
         "x": [
          1
         ],
         "xaxis": "x2",
         "y": [
          ""
         ],
         "yaxis": "y2"
        },
        {
         "hovertemplate": "%{text}",
         "marker": {
          "color": "#d0b5bd",
          "line": {
           "color": "#d0b5bd",
           "width": 0
          }
         },
         "orientation": "h",
         "text": [
          "-4"
         ],
         "type": "bar",
         "width": 0.1,
         "x": [
          1
         ],
         "xaxis": "x2",
         "y": [
          ""
         ],
         "yaxis": "y2"
        },
        {
         "hovertemplate": "%{text}",
         "marker": {
          "color": "#dac5cb",
          "line": {
           "color": "#dac5cb",
           "width": 0
          }
         },
         "orientation": "h",
         "text": [
          "-3"
         ],
         "type": "bar",
         "width": 0.1,
         "x": [
          1
         ],
         "xaxis": "x2",
         "y": [
          ""
         ],
         "yaxis": "y2"
        },
        {
         "hovertemplate": "%{text}",
         "marker": {
          "color": "#e3d6da",
          "line": {
           "color": "#e3d6da",
           "width": 0
          }
         },
         "orientation": "h",
         "text": [
          "-2"
         ],
         "type": "bar",
         "width": 0.1,
         "x": [
          1
         ],
         "xaxis": "x2",
         "y": [
          ""
         ],
         "yaxis": "y2"
        },
        {
         "hovertemplate": "%{text}",
         "marker": {
          "color": "#ede6e8",
          "line": {
           "color": "#ede6e8",
           "width": 0
          }
         },
         "orientation": "h",
         "text": [
          "-1"
         ],
         "type": "bar",
         "width": 0.1,
         "x": [
          1
         ],
         "xaxis": "x2",
         "y": [
          ""
         ],
         "yaxis": "y2"
        },
        {
         "hovertemplate": "%{text}",
         "marker": {
          "color": "#f7f7f7",
          "line": {
           "color": "#f7f7f7",
           "width": 0
          }
         },
         "orientation": "h",
         "text": [
          "0"
         ],
         "type": "bar",
         "width": 0.1,
         "x": [
          1
         ],
         "xaxis": "x2",
         "y": [
          ""
         ],
         "yaxis": "y2"
        },
        {
         "hovertemplate": "%{text}",
         "marker": {
          "color": "#e8e9ec",
          "line": {
           "color": "#e8e9ec",
           "width": 0
          }
         },
         "orientation": "h",
         "text": [
          "1"
         ],
         "type": "bar",
         "width": 0.1,
         "x": [
          1
         ],
         "xaxis": "x2",
         "y": [
          ""
         ],
         "yaxis": "y2"
        },
        {
         "hovertemplate": "%{text}",
         "marker": {
          "color": "#d9dbe2",
          "line": {
           "color": "#d9dbe2",
           "width": 0
          }
         },
         "orientation": "h",
         "text": [
          "2"
         ],
         "type": "bar",
         "width": 0.1,
         "x": [
          1
         ],
         "xaxis": "x2",
         "y": [
          ""
         ],
         "yaxis": "y2"
        },
        {
         "hovertemplate": "%{text}",
         "marker": {
          "color": "#cacdd7",
          "line": {
           "color": "#cacdd7",
           "width": 0
          }
         },
         "orientation": "h",
         "text": [
          "3"
         ],
         "type": "bar",
         "width": 0.1,
         "x": [
          1
         ],
         "xaxis": "x2",
         "y": [
          ""
         ],
         "yaxis": "y2"
        },
        {
         "hovertemplate": "%{text}",
         "marker": {
          "color": "#bbbfcd",
          "line": {
           "color": "#bbbfcd",
           "width": 0
          }
         },
         "orientation": "h",
         "text": [
          "4"
         ],
         "type": "bar",
         "width": 0.1,
         "x": [
          1
         ],
         "xaxis": "x2",
         "y": [
          ""
         ],
         "yaxis": "y2"
        },
        {
         "hovertemplate": "%{text}",
         "marker": {
          "color": "#acb1c2",
          "line": {
           "color": "#acb1c2",
           "width": 0
          }
         },
         "orientation": "h",
         "text": [
          "5"
         ],
         "type": "bar",
         "width": 0.1,
         "x": [
          1
         ],
         "xaxis": "x2",
         "y": [
          ""
         ],
         "yaxis": "y2"
        },
        {
         "hovertemplate": "%{text}",
         "marker": {
          "color": "#9da3b8",
          "line": {
           "color": "#9da3b8",
           "width": 0
          }
         },
         "orientation": "h",
         "text": [
          "6"
         ],
         "type": "bar",
         "width": 0.1,
         "x": [
          1
         ],
         "xaxis": "x2",
         "y": [
          ""
         ],
         "yaxis": "y2"
        },
        {
         "hovertemplate": "%{text}",
         "marker": {
          "color": "#8e95ad",
          "line": {
           "color": "#8e95ad",
           "width": 0
          }
         },
         "orientation": "h",
         "text": [
          "7"
         ],
         "type": "bar",
         "width": 0.1,
         "x": [
          1
         ],
         "xaxis": "x2",
         "y": [
          ""
         ],
         "yaxis": "y2"
        },
        {
         "hovertemplate": "%{text}",
         "marker": {
          "color": "#7f87a3",
          "line": {
           "color": "#7f87a3",
           "width": 0
          }
         },
         "orientation": "h",
         "text": [
          "8"
         ],
         "type": "bar",
         "width": 0.1,
         "x": [
          1
         ],
         "xaxis": "x2",
         "y": [
          ""
         ],
         "yaxis": "y2"
        }
       ],
       "layout": {
        "annotations": [
         {
          "font": {
           "color": "#5D646F",
           "family": "Ubuntu Mono",
           "size": 12
          },
          "showarrow": false,
          "text": "-15",
          "x": 0,
          "xref": "paper",
          "y": 0.915,
          "yref": "paper"
         },
         {
          "font": {
           "color": "#5D646F",
           "family": "Ubuntu Mono",
           "size": 12
          },
          "showarrow": false,
          "text": "-8",
          "x": 0.281,
          "xref": "paper",
          "y": 0.915,
          "yref": "paper"
         },
         {
          "font": {
           "color": "#5D646F",
           "family": "Ubuntu Mono",
           "size": 12
          },
          "showarrow": false,
          "text": "0",
          "x": 0.613,
          "xref": "paper",
          "y": 0.915,
          "yref": "paper"
         },
         {
          "font": {
           "color": "#5D646F",
           "family": "Ubuntu Mono",
           "size": 12
          },
          "showarrow": false,
          "text": "8",
          "x": 0.936,
          "xref": "paper",
          "y": 0.915,
          "yref": "paper"
         },
         {
          "font": {
           "color": "#5D646F",
           "family": "Ubuntu Mono",
           "size": 12
          },
          "showarrow": false,
          "text": "Data: State Statistics Service of Ukraine",
          "x": 1,
          "xref": "paper",
          "y": -0.07,
          "yref": "paper"
         },
         {
          "font": {
           "color": "#5D646F",
           "family": "Ubuntu Mono",
           "size": 12
          },
          "showarrow": false,
          "text": "population growth rate, per 1000",
          "x": 0,
          "xref": "paper",
          "y": 0.97,
          "yref": "paper"
         }
        ],
        "barmode": "stack",
        "font": {
         "family": "Ubuntu Mono"
        },
        "height": 700,
        "margin": {
         "l": 50,
         "r": 160,
         "t": 95
        },
        "paper_bgcolor": "#F3F7F7",
        "plot_bgcolor": "#F3F7F7",
        "showlegend": false,
        "template": {
         "data": {
          "bar": [
           {
            "error_x": {
             "color": "#2a3f5f"
            },
            "error_y": {
             "color": "#2a3f5f"
            },
            "marker": {
             "line": {
              "color": "#E5ECF6",
              "width": 0.5
             }
            },
            "type": "bar"
           }
          ],
          "barpolar": [
           {
            "marker": {
             "line": {
              "color": "#E5ECF6",
              "width": 0.5
             }
            },
            "type": "barpolar"
           }
          ],
          "carpet": [
           {
            "aaxis": {
             "endlinecolor": "#2a3f5f",
             "gridcolor": "white",
             "linecolor": "white",
             "minorgridcolor": "white",
             "startlinecolor": "#2a3f5f"
            },
            "baxis": {
             "endlinecolor": "#2a3f5f",
             "gridcolor": "white",
             "linecolor": "white",
             "minorgridcolor": "white",
             "startlinecolor": "#2a3f5f"
            },
            "type": "carpet"
           }
          ],
          "choropleth": [
           {
            "colorbar": {
             "outlinewidth": 0,
             "ticks": ""
            },
            "type": "choropleth"
           }
          ],
          "contour": [
           {
            "colorbar": {
             "outlinewidth": 0,
             "ticks": ""
            },
            "colorscale": [
             [
              0,
              "#0d0887"
             ],
             [
              0.1111111111111111,
              "#46039f"
             ],
             [
              0.2222222222222222,
              "#7201a8"
             ],
             [
              0.3333333333333333,
              "#9c179e"
             ],
             [
              0.4444444444444444,
              "#bd3786"
             ],
             [
              0.5555555555555556,
              "#d8576b"
             ],
             [
              0.6666666666666666,
              "#ed7953"
             ],
             [
              0.7777777777777778,
              "#fb9f3a"
             ],
             [
              0.8888888888888888,
              "#fdca26"
             ],
             [
              1,
              "#f0f921"
             ]
            ],
            "type": "contour"
           }
          ],
          "contourcarpet": [
           {
            "colorbar": {
             "outlinewidth": 0,
             "ticks": ""
            },
            "type": "contourcarpet"
           }
          ],
          "heatmap": [
           {
            "colorbar": {
             "outlinewidth": 0,
             "ticks": ""
            },
            "colorscale": [
             [
              0,
              "#0d0887"
             ],
             [
              0.1111111111111111,
              "#46039f"
             ],
             [
              0.2222222222222222,
              "#7201a8"
             ],
             [
              0.3333333333333333,
              "#9c179e"
             ],
             [
              0.4444444444444444,
              "#bd3786"
             ],
             [
              0.5555555555555556,
              "#d8576b"
             ],
             [
              0.6666666666666666,
              "#ed7953"
             ],
             [
              0.7777777777777778,
              "#fb9f3a"
             ],
             [
              0.8888888888888888,
              "#fdca26"
             ],
             [
              1,
              "#f0f921"
             ]
            ],
            "type": "heatmap"
           }
          ],
          "heatmapgl": [
           {
            "colorbar": {
             "outlinewidth": 0,
             "ticks": ""
            },
            "colorscale": [
             [
              0,
              "#0d0887"
             ],
             [
              0.1111111111111111,
              "#46039f"
             ],
             [
              0.2222222222222222,
              "#7201a8"
             ],
             [
              0.3333333333333333,
              "#9c179e"
             ],
             [
              0.4444444444444444,
              "#bd3786"
             ],
             [
              0.5555555555555556,
              "#d8576b"
             ],
             [
              0.6666666666666666,
              "#ed7953"
             ],
             [
              0.7777777777777778,
              "#fb9f3a"
             ],
             [
              0.8888888888888888,
              "#fdca26"
             ],
             [
              1,
              "#f0f921"
             ]
            ],
            "type": "heatmapgl"
           }
          ],
          "histogram": [
           {
            "marker": {
             "colorbar": {
              "outlinewidth": 0,
              "ticks": ""
             }
            },
            "type": "histogram"
           }
          ],
          "histogram2d": [
           {
            "colorbar": {
             "outlinewidth": 0,
             "ticks": ""
            },
            "colorscale": [
             [
              0,
              "#0d0887"
             ],
             [
              0.1111111111111111,
              "#46039f"
             ],
             [
              0.2222222222222222,
              "#7201a8"
             ],
             [
              0.3333333333333333,
              "#9c179e"
             ],
             [
              0.4444444444444444,
              "#bd3786"
             ],
             [
              0.5555555555555556,
              "#d8576b"
             ],
             [
              0.6666666666666666,
              "#ed7953"
             ],
             [
              0.7777777777777778,
              "#fb9f3a"
             ],
             [
              0.8888888888888888,
              "#fdca26"
             ],
             [
              1,
              "#f0f921"
             ]
            ],
            "type": "histogram2d"
           }
          ],
          "histogram2dcontour": [
           {
            "colorbar": {
             "outlinewidth": 0,
             "ticks": ""
            },
            "colorscale": [
             [
              0,
              "#0d0887"
             ],
             [
              0.1111111111111111,
              "#46039f"
             ],
             [
              0.2222222222222222,
              "#7201a8"
             ],
             [
              0.3333333333333333,
              "#9c179e"
             ],
             [
              0.4444444444444444,
              "#bd3786"
             ],
             [
              0.5555555555555556,
              "#d8576b"
             ],
             [
              0.6666666666666666,
              "#ed7953"
             ],
             [
              0.7777777777777778,
              "#fb9f3a"
             ],
             [
              0.8888888888888888,
              "#fdca26"
             ],
             [
              1,
              "#f0f921"
             ]
            ],
            "type": "histogram2dcontour"
           }
          ],
          "mesh3d": [
           {
            "colorbar": {
             "outlinewidth": 0,
             "ticks": ""
            },
            "type": "mesh3d"
           }
          ],
          "parcoords": [
           {
            "line": {
             "colorbar": {
              "outlinewidth": 0,
              "ticks": ""
             }
            },
            "type": "parcoords"
           }
          ],
          "pie": [
           {
            "automargin": true,
            "type": "pie"
           }
          ],
          "scatter": [
           {
            "marker": {
             "colorbar": {
              "outlinewidth": 0,
              "ticks": ""
             }
            },
            "type": "scatter"
           }
          ],
          "scatter3d": [
           {
            "line": {
             "colorbar": {
              "outlinewidth": 0,
              "ticks": ""
             }
            },
            "marker": {
             "colorbar": {
              "outlinewidth": 0,
              "ticks": ""
             }
            },
            "type": "scatter3d"
           }
          ],
          "scattercarpet": [
           {
            "marker": {
             "colorbar": {
              "outlinewidth": 0,
              "ticks": ""
             }
            },
            "type": "scattercarpet"
           }
          ],
          "scattergeo": [
           {
            "marker": {
             "colorbar": {
              "outlinewidth": 0,
              "ticks": ""
             }
            },
            "type": "scattergeo"
           }
          ],
          "scattergl": [
           {
            "marker": {
             "colorbar": {
              "outlinewidth": 0,
              "ticks": ""
             }
            },
            "type": "scattergl"
           }
          ],
          "scattermapbox": [
           {
            "marker": {
             "colorbar": {
              "outlinewidth": 0,
              "ticks": ""
             }
            },
            "type": "scattermapbox"
           }
          ],
          "scatterpolar": [
           {
            "marker": {
             "colorbar": {
              "outlinewidth": 0,
              "ticks": ""
             }
            },
            "type": "scatterpolar"
           }
          ],
          "scatterpolargl": [
           {
            "marker": {
             "colorbar": {
              "outlinewidth": 0,
              "ticks": ""
             }
            },
            "type": "scatterpolargl"
           }
          ],
          "scatterternary": [
           {
            "marker": {
             "colorbar": {
              "outlinewidth": 0,
              "ticks": ""
             }
            },
            "type": "scatterternary"
           }
          ],
          "surface": [
           {
            "colorbar": {
             "outlinewidth": 0,
             "ticks": ""
            },
            "colorscale": [
             [
              0,
              "#0d0887"
             ],
             [
              0.1111111111111111,
              "#46039f"
             ],
             [
              0.2222222222222222,
              "#7201a8"
             ],
             [
              0.3333333333333333,
              "#9c179e"
             ],
             [
              0.4444444444444444,
              "#bd3786"
             ],
             [
              0.5555555555555556,
              "#d8576b"
             ],
             [
              0.6666666666666666,
              "#ed7953"
             ],
             [
              0.7777777777777778,
              "#fb9f3a"
             ],
             [
              0.8888888888888888,
              "#fdca26"
             ],
             [
              1,
              "#f0f921"
             ]
            ],
            "type": "surface"
           }
          ],
          "table": [
           {
            "cells": {
             "fill": {
              "color": "#EBF0F8"
             },
             "line": {
              "color": "white"
             }
            },
            "header": {
             "fill": {
              "color": "#C8D4E3"
             },
             "line": {
              "color": "white"
             }
            },
            "type": "table"
           }
          ]
         },
         "layout": {
          "annotationdefaults": {
           "arrowcolor": "#2a3f5f",
           "arrowhead": 0,
           "arrowwidth": 1
          },
          "coloraxis": {
           "colorbar": {
            "outlinewidth": 0,
            "ticks": ""
           }
          },
          "colorscale": {
           "diverging": [
            [
             0,
             "#8e0152"
            ],
            [
             0.1,
             "#c51b7d"
            ],
            [
             0.2,
             "#de77ae"
            ],
            [
             0.3,
             "#f1b6da"
            ],
            [
             0.4,
             "#fde0ef"
            ],
            [
             0.5,
             "#f7f7f7"
            ],
            [
             0.6,
             "#e6f5d0"
            ],
            [
             0.7,
             "#b8e186"
            ],
            [
             0.8,
             "#7fbc41"
            ],
            [
             0.9,
             "#4d9221"
            ],
            [
             1,
             "#276419"
            ]
           ],
           "sequential": [
            [
             0,
             "#0d0887"
            ],
            [
             0.1111111111111111,
             "#46039f"
            ],
            [
             0.2222222222222222,
             "#7201a8"
            ],
            [
             0.3333333333333333,
             "#9c179e"
            ],
            [
             0.4444444444444444,
             "#bd3786"
            ],
            [
             0.5555555555555556,
             "#d8576b"
            ],
            [
             0.6666666666666666,
             "#ed7953"
            ],
            [
             0.7777777777777778,
             "#fb9f3a"
            ],
            [
             0.8888888888888888,
             "#fdca26"
            ],
            [
             1,
             "#f0f921"
            ]
           ],
           "sequentialminus": [
            [
             0,
             "#0d0887"
            ],
            [
             0.1111111111111111,
             "#46039f"
            ],
            [
             0.2222222222222222,
             "#7201a8"
            ],
            [
             0.3333333333333333,
             "#9c179e"
            ],
            [
             0.4444444444444444,
             "#bd3786"
            ],
            [
             0.5555555555555556,
             "#d8576b"
            ],
            [
             0.6666666666666666,
             "#ed7953"
            ],
            [
             0.7777777777777778,
             "#fb9f3a"
            ],
            [
             0.8888888888888888,
             "#fdca26"
            ],
            [
             1,
             "#f0f921"
            ]
           ]
          },
          "colorway": [
           "#636efa",
           "#EF553B",
           "#00cc96",
           "#ab63fa",
           "#FFA15A",
           "#19d3f3",
           "#FF6692",
           "#B6E880",
           "#FF97FF",
           "#FECB52"
          ],
          "font": {
           "color": "#2a3f5f"
          },
          "geo": {
           "bgcolor": "white",
           "lakecolor": "white",
           "landcolor": "#E5ECF6",
           "showlakes": true,
           "showland": true,
           "subunitcolor": "white"
          },
          "hoverlabel": {
           "align": "left"
          },
          "hovermode": "closest",
          "mapbox": {
           "style": "light"
          },
          "paper_bgcolor": "white",
          "plot_bgcolor": "#E5ECF6",
          "polar": {
           "angularaxis": {
            "gridcolor": "white",
            "linecolor": "white",
            "ticks": ""
           },
           "bgcolor": "#E5ECF6",
           "radialaxis": {
            "gridcolor": "white",
            "linecolor": "white",
            "ticks": ""
           }
          },
          "scene": {
           "xaxis": {
            "backgroundcolor": "#E5ECF6",
            "gridcolor": "white",
            "gridwidth": 2,
            "linecolor": "white",
            "showbackground": true,
            "ticks": "",
            "zerolinecolor": "white"
           },
           "yaxis": {
            "backgroundcolor": "#E5ECF6",
            "gridcolor": "white",
            "gridwidth": 2,
            "linecolor": "white",
            "showbackground": true,
            "ticks": "",
            "zerolinecolor": "white"
           },
           "zaxis": {
            "backgroundcolor": "#E5ECF6",
            "gridcolor": "white",
            "gridwidth": 2,
            "linecolor": "white",
            "showbackground": true,
            "ticks": "",
            "zerolinecolor": "white"
           }
          },
          "shapedefaults": {
           "line": {
            "color": "#2a3f5f"
           }
          },
          "ternary": {
           "aaxis": {
            "gridcolor": "white",
            "linecolor": "white",
            "ticks": ""
           },
           "baxis": {
            "gridcolor": "white",
            "linecolor": "white",
            "ticks": ""
           },
           "bgcolor": "#E5ECF6",
           "caxis": {
            "gridcolor": "white",
            "linecolor": "white",
            "ticks": ""
           }
          },
          "title": {
           "x": 0.05
          },
          "xaxis": {
           "automargin": true,
           "gridcolor": "white",
           "linecolor": "white",
           "ticks": "",
           "title": {
            "standoff": 15
           },
           "zerolinecolor": "white",
           "zerolinewidth": 2
          },
          "yaxis": {
           "automargin": true,
           "gridcolor": "white",
           "linecolor": "white",
           "ticks": "",
           "title": {
            "standoff": 15
           },
           "zerolinecolor": "white",
           "zerolinewidth": 2
          }
         }
        },
        "title": {
         "font": {
          "color": "#3A3F4A",
          "family": "Ubuntu Mono",
          "size": 36
         },
         "text": "<b>Population growth by region</b>",
         "x": 0.05,
         "y": 0.905
        },
        "width": 1000,
        "xaxis": {
         "showgrid": false,
         "side": "top",
         "tickfont": {
          "color": "#5D646F",
          "family": "Ubuntu Mono"
         }
        },
        "xaxis2": {
         "showgrid": false,
         "showticklabels": false,
         "zeroline": false
        },
        "yaxis": {
         "domain": [
          0,
          0.85
         ],
         "position": 1,
         "showgrid": false,
         "side": "right",
         "tickfont": {
          "color": "#5D646F",
          "family": "Ubuntu Mono"
         }
        },
        "yaxis2": {
         "domain": [
          0.85,
          1
         ],
         "showgrid": false,
         "showticklabels": false,
         "zeroline": false
        }
       }
      },
      "text/html": [
       "<div>\n",
       "        \n",
       "        \n",
       "            <div id=\"65f07e35-898d-4f99-a332-5e0d88149d71\" class=\"plotly-graph-div\" style=\"height:700px; width:1000px;\"></div>\n",
       "            <script type=\"text/javascript\">\n",
       "                require([\"plotly\"], function(Plotly) {\n",
       "                    window.PLOTLYENV=window.PLOTLYENV || {};\n",
       "                    \n",
       "                if (document.getElementById(\"65f07e35-898d-4f99-a332-5e0d88149d71\")) {\n",
       "                    Plotly.newPlot(\n",
       "                        '65f07e35-898d-4f99-a332-5e0d88149d71',\n",
       "                        [{\"colorbar\": {\"len\": 1.02, \"thickness\": 20, \"tickmode\": \"array\", \"ticktext\": [-15, -8, 0, 8], \"tickvals\": [-14.5, -7.8, -0.1, 7.5], \"x\": -0.1, \"y\": 0.49}, \"colorscale\": [[0.0, \"#67001f\"], [0.004016064257028112, \"#67001f\"], [0.004016064257028112, \"#670120\"], [0.008032128514056224, \"#670120\"], [0.008032128514056224, \"#680321\"], [0.012048192771084336, \"#680321\"], [0.012048192771084336, \"#690423\"], [0.01606425702811245, \"#690423\"], [0.01606425702811245, \"#6a0624\"], [0.020080321285140562, \"#6a0624\"], [0.020080321285140562, \"#6b0725\"], [0.024096385542168672, \"#6b0725\"], [0.024096385542168672, \"#6c0927\"], [0.028112449799196783, \"#6c0927\"], [0.028112449799196783, \"#6d0a28\"], [0.0321285140562249, \"#6d0a28\"], [0.0321285140562249, \"#6e0c29\"], [0.03614457831325301, \"#6e0c29\"], [0.03614457831325301, \"#6f0e2b\"], [0.040160642570281124, \"#6f0e2b\"], [0.040160642570281124, \"#700f2c\"], [0.04417670682730923, \"#700f2c\"], [0.04417670682730923, \"#71112e\"], [0.048192771084337345, \"#71112e\"], [0.048192771084337345, \"#71122f\"], [0.05220883534136546, \"#71122f\"], [0.05220883534136546, \"#721430\"], [0.056224899598393566, \"#721430\"], [0.056224899598393566, \"#731532\"], [0.06024096385542168, \"#731532\"], [0.06024096385542168, \"#741733\"], [0.0642570281124498, \"#741733\"], [0.0642570281124498, \"#751934\"], [0.0682730923694779, \"#751934\"], [0.0682730923694779, \"#761a36\"], [0.07228915662650602, \"#761a36\"], [0.07228915662650602, \"#771c37\"], [0.07630522088353413, \"#771c37\"], [0.07630522088353413, \"#781d38\"], [0.08032128514056225, \"#781d38\"], [0.08032128514056225, \"#791f3a\"], [0.08433734939759036, \"#791f3a\"], [0.08433734939759036, \"#7a203b\"], [0.08835341365461846, \"#7a203b\"], [0.08835341365461846, \"#7b223d\"], [0.09236947791164658, \"#7b223d\"], [0.09236947791164658, \"#7b233e\"], [0.09638554216867469, \"#7b233e\"], [0.09638554216867469, \"#7c253f\"], [0.1004016064257028, \"#7c253f\"], [0.1004016064257028, \"#7d2741\"], [0.10441767068273092, \"#7d2741\"], [0.10441767068273092, \"#7e2842\"], [0.10843373493975902, \"#7e2842\"], [0.10843373493975902, \"#7f2a43\"], [0.11244979919678713, \"#7f2a43\"], [0.11244979919678713, \"#802b45\"], [0.11646586345381525, \"#802b45\"], [0.11646586345381525, \"#812d46\"], [0.12048192771084336, \"#812d46\"], [0.12048192771084336, \"#822e48\"], [0.12449799196787148, \"#822e48\"], [0.12449799196787148, \"#833049\"], [0.1285140562248996, \"#833049\"], [0.1285140562248996, \"#84324a\"], [0.1325301204819277, \"#84324a\"], [0.1325301204819277, \"#85334c\"], [0.1365461847389558, \"#85334c\"], [0.1365461847389558, \"#85354d\"], [0.14056224899598393, \"#85354d\"], [0.14056224899598393, \"#86364e\"], [0.14457831325301204, \"#86364e\"], [0.14457831325301204, \"#873850\"], [0.14859437751004015, \"#873850\"], [0.14859437751004015, \"#883951\"], [0.15261044176706826, \"#883951\"], [0.15261044176706826, \"#893b52\"], [0.15662650602409636, \"#893b52\"], [0.15662650602409636, \"#8a3c54\"], [0.1606425702811245, \"#8a3c54\"], [0.1606425702811245, \"#8b3e55\"], [0.1646586345381526, \"#8b3e55\"], [0.1646586345381526, \"#8c4057\"], [0.1686746987951807, \"#8c4057\"], [0.1686746987951807, \"#8d4158\"], [0.17269076305220882, \"#8d4158\"], [0.17269076305220882, \"#8e4359\"], [0.17670682730923692, \"#8e4359\"], [0.17670682730923692, \"#8f445b\"], [0.18072289156626503, \"#8f445b\"], [0.18072289156626503, \"#90465c\"], [0.18473895582329317, \"#90465c\"], [0.18473895582329317, \"#90475d\"], [0.18875502008032127, \"#90475d\"], [0.18875502008032127, \"#91495f\"], [0.19277108433734938, \"#91495f\"], [0.19277108433734938, \"#924b60\"], [0.1967871485943775, \"#924b60\"], [0.1967871485943775, \"#934c61\"], [0.2008032128514056, \"#934c61\"], [0.2008032128514056, \"#944e63\"], [0.20481927710843373, \"#944e63\"], [0.20481927710843373, \"#954f64\"], [0.20883534136546184, \"#954f64\"], [0.20883534136546184, \"#965166\"], [0.21285140562248994, \"#965166\"], [0.21285140562248994, \"#975267\"], [0.21686746987951805, \"#975267\"], [0.21686746987951805, \"#985468\"], [0.22088353413654616, \"#985468\"], [0.22088353413654616, \"#99556a\"], [0.22489959839357426, \"#99556a\"], [0.22489959839357426, \"#9a576b\"], [0.2289156626506024, \"#9a576b\"], [0.2289156626506024, \"#9a596c\"], [0.2329317269076305, \"#9a596c\"], [0.2329317269076305, \"#9b5a6e\"], [0.2369477911646586, \"#9b5a6e\"], [0.2369477911646586, \"#9c5c6f\"], [0.24096385542168672, \"#9c5c6f\"], [0.24096385542168672, \"#9d5d71\"], [0.24497991967871482, \"#9d5d71\"], [0.24497991967871482, \"#9e5f72\"], [0.24899598393574296, \"#9e5f72\"], [0.24899598393574296, \"#9f6073\"], [0.25301204819277107, \"#9f6073\"], [0.25301204819277107, \"#a06275\"], [0.2570281124497992, \"#a06275\"], [0.2570281124497992, \"#a16476\"], [0.2610441767068273, \"#a16476\"], [0.2610441767068273, \"#a26577\"], [0.2650602409638554, \"#a26577\"], [0.2650602409638554, \"#a36779\"], [0.2690763052208835, \"#a36779\"], [0.2690763052208835, \"#a4687a\"], [0.2730923694779116, \"#a4687a\"], [0.2730923694779116, \"#a46a7b\"], [0.2771084337349397, \"#a46a7b\"], [0.2771084337349397, \"#a56b7d\"], [0.28112449799196787, \"#a56b7d\"], [0.28112449799196787, \"#a66d7e\"], [0.285140562248996, \"#a66d7e\"], [0.285140562248996, \"#a76e80\"], [0.2891566265060241, \"#a76e80\"], [0.2891566265060241, \"#a87081\"], [0.2931726907630522, \"#a87081\"], [0.2931726907630522, \"#a97282\"], [0.2971887550200803, \"#a97282\"], [0.2971887550200803, \"#aa7384\"], [0.3012048192771084, \"#aa7384\"], [0.3012048192771084, \"#ab7585\"], [0.3052208835341365, \"#ab7585\"], [0.3052208835341365, \"#ac7686\"], [0.3092369477911646, \"#ac7686\"], [0.3092369477911646, \"#ad7888\"], [0.3132530120481927, \"#ad7888\"], [0.3132530120481927, \"#ae7989\"], [0.31726907630522083, \"#ae7989\"], [0.31726907630522083, \"#af7b8b\"], [0.321285140562249, \"#af7b8b\"], [0.321285140562249, \"#af7d8c\"], [0.3253012048192771, \"#af7d8c\"], [0.3253012048192771, \"#b07e8d\"], [0.3293172690763052, \"#b07e8d\"], [0.3293172690763052, \"#b1808f\"], [0.3333333333333333, \"#b1808f\"], [0.3333333333333333, \"#b28190\"], [0.3373493975903614, \"#b28190\"], [0.3373493975903614, \"#b38391\"], [0.34136546184738953, \"#b38391\"], [0.34136546184738953, \"#b48493\"], [0.34538152610441764, \"#b48493\"], [0.34538152610441764, \"#b58694\"], [0.34939759036144574, \"#b58694\"], [0.34939759036144574, \"#b68895\"], [0.35341365461847385, \"#b68895\"], [0.35341365461847385, \"#b78997\"], [0.35742971887550196, \"#b78997\"], [0.35742971887550196, \"#b88b98\"], [0.36144578313253006, \"#b88b98\"], [0.36144578313253006, \"#b98c9a\"], [0.3654618473895582, \"#b98c9a\"], [0.3654618473895582, \"#b98e9b\"], [0.36947791164658633, \"#b98e9b\"], [0.36947791164658633, \"#ba8f9c\"], [0.37349397590361444, \"#ba8f9c\"], [0.37349397590361444, \"#bb919e\"], [0.37751004016064255, \"#bb919e\"], [0.37751004016064255, \"#bc929f\"], [0.38152610441767065, \"#bc929f\"], [0.38152610441767065, \"#bd94a0\"], [0.38554216867469876, \"#bd94a0\"], [0.38554216867469876, \"#be96a2\"], [0.38955823293172687, \"#be96a2\"], [0.38955823293172687, \"#bf97a3\"], [0.393574297188755, \"#bf97a3\"], [0.393574297188755, \"#c099a4\"], [0.3975903614457831, \"#c099a4\"], [0.3975903614457831, \"#c19aa6\"], [0.4016064257028112, \"#c19aa6\"], [0.4016064257028112, \"#c29ca7\"], [0.4056224899598393, \"#c29ca7\"], [0.4056224899598393, \"#c39da9\"], [0.40963855421686746, \"#c39da9\"], [0.40963855421686746, \"#c39faa\"], [0.41365461847389556, \"#c39faa\"], [0.41365461847389556, \"#c4a1ab\"], [0.41767068273092367, \"#c4a1ab\"], [0.41767068273092367, \"#c5a2ad\"], [0.4216867469879518, \"#c5a2ad\"], [0.4216867469879518, \"#c6a4ae\"], [0.4257028112449799, \"#c6a4ae\"], [0.4257028112449799, \"#c7a5af\"], [0.429718875502008, \"#c7a5af\"], [0.429718875502008, \"#c8a7b1\"], [0.4337349397590361, \"#c8a7b1\"], [0.4337349397590361, \"#c9a8b2\"], [0.4377510040160642, \"#c9a8b2\"], [0.4377510040160642, \"#caaab4\"], [0.4417670682730923, \"#caaab4\"], [0.4417670682730923, \"#cbabb5\"], [0.4457831325301204, \"#cbabb5\"], [0.4457831325301204, \"#ccadb6\"], [0.4497991967871485, \"#ccadb6\"], [0.4497991967871485, \"#cdafb8\"], [0.4538152610441767, \"#cdafb8\"], [0.4538152610441767, \"#cdb0b9\"], [0.4578313253012048, \"#cdb0b9\"], [0.4578313253012048, \"#ceb2ba\"], [0.4618473895582329, \"#ceb2ba\"], [0.4618473895582329, \"#cfb3bc\"], [0.465863453815261, \"#cfb3bc\"], [0.465863453815261, \"#d0b5bd\"], [0.4698795180722891, \"#d0b5bd\"], [0.4698795180722891, \"#d1b6be\"], [0.4738955823293172, \"#d1b6be\"], [0.4738955823293172, \"#d2b8c0\"], [0.47791164658634533, \"#d2b8c0\"], [0.47791164658634533, \"#d3bac1\"], [0.48192771084337344, \"#d3bac1\"], [0.48192771084337344, \"#d4bbc3\"], [0.48594377510040154, \"#d4bbc3\"], [0.48594377510040154, \"#d5bdc4\"], [0.48995983935742965, \"#d5bdc4\"], [0.48995983935742965, \"#d6bec5\"], [0.4939759036144578, \"#d6bec5\"], [0.4939759036144578, \"#d7c0c7\"], [0.4979919678714859, \"#d7c0c7\"], [0.4979919678714859, \"#d8c1c8\"], [0.502008032128514, \"#d8c1c8\"], [0.502008032128514, \"#d8c3c9\"], [0.5060240963855421, \"#d8c3c9\"], [0.5060240963855421, \"#d9c4cb\"], [0.5100401606425702, \"#d9c4cb\"], [0.5100401606425702, \"#dac6cc\"], [0.5140562248995983, \"#dac6cc\"], [0.5140562248995983, \"#dbc8cd\"], [0.5180722891566265, \"#dbc8cd\"], [0.5180722891566265, \"#dcc9cf\"], [0.5220883534136546, \"#dcc9cf\"], [0.5220883534136546, \"#ddcbd0\"], [0.5261044176706827, \"#ddcbd0\"], [0.5261044176706827, \"#deccd2\"], [0.5301204819277108, \"#deccd2\"], [0.5301204819277108, \"#dfced3\"], [0.5341365461847389, \"#dfced3\"], [0.5341365461847389, \"#e0cfd4\"], [0.538152610441767, \"#e0cfd4\"], [0.538152610441767, \"#e1d1d6\"], [0.5421686746987951, \"#e1d1d6\"], [0.5421686746987951, \"#e2d3d7\"], [0.5461847389558232, \"#e2d3d7\"], [0.5461847389558232, \"#e2d4d8\"], [0.5502008032128514, \"#e2d4d8\"], [0.5502008032128514, \"#e3d6da\"], [0.5542168674698794, \"#e3d6da\"], [0.5542168674698794, \"#e4d7db\"], [0.5582329317269076, \"#e4d7db\"], [0.5582329317269076, \"#e5d9dd\"], [0.5622489959839357, \"#e5d9dd\"], [0.5622489959839357, \"#e6dade\"], [0.5662650602409638, \"#e6dade\"], [0.5662650602409638, \"#e7dcdf\"], [0.570281124497992, \"#e7dcdf\"], [0.570281124497992, \"#e8dde1\"], [0.57429718875502, \"#e8dde1\"], [0.57429718875502, \"#e9dfe2\"], [0.5783132530120482, \"#e9dfe2\"], [0.5783132530120482, \"#eae1e3\"], [0.5823293172690762, \"#eae1e3\"], [0.5823293172690762, \"#ebe2e5\"], [0.5863453815261044, \"#ebe2e5\"], [0.5863453815261044, \"#ece4e6\"], [0.5903614457831324, \"#ece4e6\"], [0.5903614457831324, \"#ece5e7\"], [0.5943775100401606, \"#ece5e7\"], [0.5943775100401606, \"#ede7e9\"], [0.5983935742971886, \"#ede7e9\"], [0.5983935742971886, \"#eee8ea\"], [0.6024096385542168, \"#eee8ea\"], [0.6024096385542168, \"#efeaec\"], [0.606425702811245, \"#efeaec\"], [0.606425702811245, \"#f0eced\"], [0.610441767068273, \"#f0eced\"], [0.610441767068273, \"#f1edee\"], [0.6144578313253012, \"#f1edee\"], [0.6144578313253012, \"#f2eff0\"], [0.6184738955823292, \"#f2eff0\"], [0.6184738955823292, \"#f3f0f1\"], [0.6224899598393574, \"#f3f0f1\"], [0.6224899598393574, \"#f4f2f2\"], [0.6265060240963854, \"#f4f2f2\"], [0.6265060240963854, \"#f5f3f4\"], [0.6305220883534136, \"#f5f3f4\"], [0.6305220883534136, \"#f6f5f5\"], [0.6345381526104417, \"#f6f5f5\"], [0.6345381526104417, \"#f7f7f7\"], [0.6385542168674698, \"#f7f7f7\"], [0.6385542168674698, \"#f5f5f6\"], [0.642570281124498, \"#f5f5f6\"], [0.642570281124498, \"#f4f4f5\"], [0.646586345381526, \"#f4f4f5\"], [0.646586345381526, \"#f3f3f4\"], [0.6506024096385542, \"#f3f3f4\"], [0.6506024096385542, \"#f1f2f3\"], [0.6546184738955823, \"#f1f2f3\"], [0.6546184738955823, \"#f0f0f2\"], [0.6586345381526104, \"#f0f0f2\"], [0.6586345381526104, \"#efeff1\"], [0.6626506024096385, \"#efeff1\"], [0.6626506024096385, \"#edeef0\"], [0.6666666666666666, \"#edeef0\"], [0.6666666666666666, \"#ecedef\"], [0.6706827309236947, \"#ecedef\"], [0.6706827309236947, \"#ebebee\"], [0.6746987951807228, \"#ebebee\"], [0.6746987951807228, \"#e9eaed\"], [0.6787148594377509, \"#e9eaed\"], [0.6787148594377509, \"#e8e9ec\"], [0.6827309236947791, \"#e8e9ec\"], [0.6827309236947791, \"#e7e8eb\"], [0.6867469879518072, \"#e7e8eb\"], [0.6867469879518072, \"#e5e6ea\"], [0.6907630522088353, \"#e5e6ea\"], [0.6907630522088353, \"#e4e5e9\"], [0.6947791164658634, \"#e4e5e9\"], [0.6947791164658634, \"#e3e4e9\"], [0.6987951807228915, \"#e3e4e9\"], [0.6987951807228915, \"#e1e3e8\"], [0.7028112449799196, \"#e1e3e8\"], [0.7028112449799196, \"#e0e1e7\"], [0.7068273092369477, \"#e0e1e7\"], [0.7068273092369477, \"#dfe0e6\"], [0.7108433734939759, \"#dfe0e6\"], [0.7108433734939759, \"#dddfe5\"], [0.7148594377510039, \"#dddfe5\"], [0.7148594377510039, \"#dcdee4\"], [0.7188755020080321, \"#dcdee4\"], [0.7188755020080321, \"#dbdce3\"], [0.7228915662650601, \"#dbdce3\"], [0.7228915662650601, \"#d9dbe2\"], [0.7269076305220883, \"#d9dbe2\"], [0.7269076305220883, \"#d8dae1\"], [0.7309236947791165, \"#d8dae1\"], [0.7309236947791165, \"#d7d9e0\"], [0.7349397590361445, \"#d7d9e0\"], [0.7349397590361445, \"#d5d7df\"], [0.7389558232931727, \"#d5d7df\"], [0.7389558232931727, \"#d4d6de\"], [0.7429718875502007, \"#d4d6de\"], [0.7429718875502007, \"#d3d5dd\"], [0.7469879518072289, \"#d3d5dd\"], [0.7469879518072289, \"#d1d4dc\"], [0.7510040160642569, \"#d1d4dc\"], [0.7510040160642569, \"#d0d2db\"], [0.7550200803212851, \"#d0d2db\"], [0.7550200803212851, \"#cfd1db\"], [0.7590361445783131, \"#cfd1db\"], [0.7590361445783131, \"#cdd0da\"], [0.7630522088353413, \"#cdd0da\"], [0.7630522088353413, \"#cccfd9\"], [0.7670682730923694, \"#cccfd9\"], [0.7670682730923694, \"#cbcdd8\"], [0.7710843373493975, \"#cbcdd8\"], [0.7710843373493975, \"#c9ccd7\"], [0.7751004016064257, \"#c9ccd7\"], [0.7751004016064257, \"#c8cbd6\"], [0.7791164658634537, \"#c8cbd6\"], [0.7791164658634537, \"#c7cad5\"], [0.7831325301204819, \"#c7cad5\"], [0.7831325301204819, \"#c5c8d4\"], [0.78714859437751, \"#c5c8d4\"], [0.78714859437751, \"#c4c7d3\"], [0.7911646586345381, \"#c4c7d3\"], [0.7911646586345381, \"#c3c6d2\"], [0.7951807228915662, \"#c3c6d2\"], [0.7951807228915662, \"#c1c5d1\"], [0.7991967871485943, \"#c1c5d1\"], [0.7991967871485943, \"#c0c3d0\"], [0.8032128514056224, \"#c0c3d0\"], [0.8032128514056224, \"#bfc2cf\"], [0.8072289156626505, \"#bfc2cf\"], [0.8072289156626505, \"#bdc1ce\"], [0.8112449799196786, \"#bdc1ce\"], [0.8112449799196786, \"#bcc0cd\"], [0.8152610441767068, \"#bcc0cd\"], [0.8152610441767068, \"#bbbfcd\"], [0.8192771084337349, \"#bbbfcd\"], [0.8192771084337349, \"#b9bdcc\"], [0.823293172690763, \"#b9bdcc\"], [0.823293172690763, \"#b8bccb\"], [0.8273092369477911, \"#b8bccb\"], [0.8273092369477911, \"#b7bbca\"], [0.8313253012048192, \"#b7bbca\"], [0.8313253012048192, \"#b5bac9\"], [0.8353413654618473, \"#b5bac9\"], [0.8353413654618473, \"#b4b8c8\"], [0.8393574297188754, \"#b4b8c8\"], [0.8393574297188754, \"#b3b7c7\"], [0.8433734939759036, \"#b3b7c7\"], [0.8433734939759036, \"#b1b6c6\"], [0.8473895582329316, \"#b1b6c6\"], [0.8473895582329316, \"#b0b5c5\"], [0.8514056224899598, \"#b0b5c5\"], [0.8514056224899598, \"#afb3c4\"], [0.8554216867469878, \"#afb3c4\"], [0.8554216867469878, \"#adb2c3\"], [0.859437751004016, \"#adb2c3\"], [0.859437751004016, \"#acb1c2\"], [0.8634538152610441, \"#acb1c2\"], [0.8634538152610441, \"#abb0c1\"], [0.8674698795180722, \"#abb0c1\"], [0.8674698795180722, \"#a9aec0\"], [0.8714859437751004, \"#a9aec0\"], [0.8714859437751004, \"#a8adbf\"], [0.8755020080321284, \"#a8adbf\"], [0.8755020080321284, \"#a7acbf\"], [0.8795180722891566, \"#a7acbf\"], [0.8795180722891566, \"#a5abbe\"], [0.8835341365461846, \"#a5abbe\"], [0.8835341365461846, \"#a4a9bd\"], [0.8875502008032128, \"#a4a9bd\"], [0.8875502008032128, \"#a3a8bc\"], [0.8915662650602408, \"#a3a8bc\"], [0.8915662650602408, \"#a1a7bb\"], [0.895582329317269, \"#a1a7bb\"], [0.895582329317269, \"#a0a6ba\"], [0.899598393574297, \"#a0a6ba\"], [0.899598393574297, \"#9fa4b9\"], [0.9036144578313252, \"#9fa4b9\"], [0.9036144578313252, \"#9da3b8\"], [0.9076305220883534, \"#9da3b8\"], [0.9076305220883534, \"#9ca2b7\"], [0.9116465863453814, \"#9ca2b7\"], [0.9116465863453814, \"#9ba1b6\"], [0.9156626506024096, \"#9ba1b6\"], [0.9156626506024096, \"#999fb5\"], [0.9196787148594376, \"#999fb5\"], [0.9196787148594376, \"#989eb4\"], [0.9236947791164658, \"#989eb4\"], [0.9236947791164658, \"#979db3\"], [0.9277108433734939, \"#979db3\"], [0.9277108433734939, \"#959cb2\"], [0.931726907630522, \"#959cb2\"], [0.931726907630522, \"#949ab1\"], [0.9357429718875501, \"#949ab1\"], [0.9357429718875501, \"#9399b1\"], [0.9397590361445782, \"#9399b1\"], [0.9397590361445782, \"#9198b0\"], [0.9437751004016064, \"#9198b0\"], [0.9437751004016064, \"#9097af\"], [0.9477911646586344, \"#9097af\"], [0.9477911646586344, \"#8f95ae\"], [0.9518072289156626, \"#8f95ae\"], [0.9518072289156626, \"#8d94ad\"], [0.9558232931726907, \"#8d94ad\"], [0.9558232931726907, \"#8c93ac\"], [0.9598393574297188, \"#8c93ac\"], [0.9598393574297188, \"#8b92ab\"], [0.9638554216867469, \"#8b92ab\"], [0.9638554216867469, \"#8990aa\"], [0.967871485943775, \"#8990aa\"], [0.967871485943775, \"#888fa9\"], [0.9718875502008031, \"#888fa9\"], [0.9718875502008031, \"#878ea8\"], [0.9759036144578312, \"#878ea8\"], [0.9759036144578312, \"#858da7\"], [0.9799196787148593, \"#858da7\"], [0.9799196787148593, \"#848ba6\"], [0.9839357429718875, \"#848ba6\"], [0.9839357429718875, \"#838aa5\"], [0.9879518072289156, \"#838aa5\"], [0.9879518072289156, \"#8189a4\"], [0.9919678714859437, \"#8189a4\"], [0.9919678714859437, \"#8088a3\"], [0.9959839357429718, \"#8088a3\"], [0.9959839357429718, \"#7f87a3\"], [1.0, \"#7f87a3\"]], \"showscale\": false, \"type\": \"heatmap\", \"x\": [1990, 1991, 1992, 1993, 1994, 1995, 1996, 1997, 1998, 1999, 2000, 2001, 2002, 2003, 2004, 2005, 2006, 2007, 2008, 2009, 2010, 2011, 2012, 2013, 2014, 2015, 2016, 2017, 2018], \"y\": [\" Chernihiv \", \" Sumy \", \" Poltava \", \" Luhansk \", \" Donetsk \", \" Cherkasy \", \" Kirovohrad \", \" Kharkiv \", \" Dnipropetrovsk \", \" Vinnytsia \", \" Kyiv \", \" Zaporizhia \", \" Zhytomyr \", \" Khmelnytskyi \", \" Mykolaiv \", \" Kherson \", \" Odesa \", \" Crimea \", \" Sevastopol \", \" Ternopil \", \" Lviv \", \" Chernivtsi \", \" Volyn \", \" Ivano-Frankivsk \", \" Kyiv city \", \" Rivne \", \" Zakarpattia \"], \"z\": [[-4.0, -5.7, -6.7, -8.5, -9.9, -10.7, -10.6, -10.7, -10.8, -12.2, -12.9, -13.1, -13.0, -13.2, -13.2, -14.1, -13.0, -13.1, -12.2, -10.5, -10.5, -9.2, -9.3, -9.4, -10.2, -10.3, -10.3, -11.0, -12.3], [-3.1, -4.0, -5.3, -7.5, -8.1, -8.2, -9.1, -9.4, -9.2, -10.3, -11.1, -11.2, -11.3, -11.3, -11.5, -12.1, -10.1, -10.2, -9.6, -8.9, -8.4, -7.2, -6.9, -7.8, -8.0, -8.2, -8.9, -8.7, -9.9], [-2.5, -3.4, -4.9, -6.7, -7.6, -8.1, -8.3, -9.1, -8.4, -9.9, -10.9, -11.1, -11.0, -11.2, -10.9, -11.2, -9.3, -9.8, -8.7, -8.0, -8.0, -6.8, -6.6, -6.8, -7.1, -7.7, -8.4, -8.7, -9.6], [-0.6, -1.7, -4.0, -5.9, -7.5, -9.0, -10.1, -10.0, -9.0, -10.7, -11.4, -10.9, -10.6, -10.7, -10.6, -10.9, -9.5, -9.1, -8.5, -7.6, -7.8, -7.0, -6.4, -6.8, null, null, null, null, null], [-1.2, -2.5, -4.3, -6.2, -7.5, -9.7, -9.8, -9.6, -8.7, -9.9, -10.9, -10.3, -10.6, -10.3, -9.9, -10.3, -9.2, -9.1, -8.3, -7.1, -7.3, -6.7, -6.3, -6.5, null, null, null, null, null], [-2.1, -3.3, -4.1, -6.2, -6.7, -7.5, -8.0, -8.1, -8.3, -8.8, -9.9, -10.0, -10.2, -9.9, -10.4, -10.9, -9.4, -9.3, -8.4, -7.2, -7.2, -6.6, -6.1, -6.6, -6.8, -7.0, -7.8, -8.4, -9.5], [-1.9, -2.8, -3.8, -5.6, -6.4, -7.7, -8.0, -8.5, -8.3, -9.7, -10.1, -9.8, -10.0, -9.9, -9.7, -10.5, -8.8, -8.8, -8.4, -6.7, -7.0, -6.1, -5.5, -6.0, -6.3, -6.9, -7.7, -8.1, -8.9], [-1.4, -2.9, -4.1, -6.2, -7.6, -8.5, -8.3, -8.4, -7.8, -8.9, -9.6, -9.0, -8.9, -8.8, -8.4, -8.6, -7.6, -7.2, -6.4, -5.5, -5.7, -5.0, -4.7, -4.7, -5.2, -6.4, -6.7, -7.2, -8.6], [0.5, -0.8, -2.7, -4.4, -5.8, -7.2, -7.8, -7.9, -7.4, -8.6, -9.2, -8.8, -8.6, -8.4, -8.1, -9.0, -7.5, -7.4, -6.7, -5.2, -5.7, -4.8, -4.3, -4.6, -5.0, -6.3, -6.8, -7.3, -8.5], [-2.1, -3.2, -3.7, -5.4, -6.2, -6.7, -7.0, -7.0, -7.3, -7.7, -8.4, -8.3, -8.1, -8.5, -7.9, -9.2, -7.7, -7.5, -6.3, -5.3, -5.5, -4.6, -4.2, -5.0, -4.9, -5.7, -5.8, -6.3, -7.4], [-0.7, -2.4, -3.4, -5.1, -5.9, -6.9, -6.9, -7.2, -7.6, -8.5, -8.9, -9.4, -9.0, -8.9, -8.6, -9.0, -8.0, -7.6, -6.2, -4.7, -5.0, -3.9, -3.6, -3.9, -4.3, -4.7, -5.3, -6.3, -7.6], [0.5, -0.7, -2.5, -4.1, -5.2, -6.9, -7.0, -6.9, -7.2, -8.1, -8.7, -8.6, -8.4, -8.4, -7.8, -8.0, -7.2, -7.1, -6.2, -5.4, -5.8, -4.9, -4.2, -4.7, -5.1, -6.5, -7.1, -7.8, -8.9], [-0.3, -1.0, -1.7, -2.8, -4.0, -4.9, -5.4, -5.9, -5.9, -7.3, -7.5, -8.5, -8.2, -8.5, -8.5, -9.0, -8.0, -7.6, -7.0, -5.3, -5.2, -4.1, -4.1, -4.6, -4.8, -5.7, -5.8, -6.8, -7.8], [-0.6, -1.7, -2.2, -3.6, -4.4, -4.8, -5.3, -6.2, -6.0, -6.5, -7.1, -7.7, -7.7, -7.9, -7.4, -8.4, -7.3, -6.9, -6.0, -5.3, -4.9, -4.3, -4.2, -4.6, -4.4, -5.2, -5.6, -6.3, -7.1], [1.7, 0.2, -0.8, -2.4, -3.7, -4.9, -5.5, -5.6, -6.4, -7.0, -7.7, -7.5, -8.1, -7.6, -7.3, -7.7, -6.2, -6.4, -5.4, -4.7, -5.0, -3.8, -3.2, -3.7, -4.0, -5.5, -5.8, -6.0, -7.1], [2.7, 1.5, 0.5, -1.2, -2.7, -4.3, -5.0, -4.6, -5.3, -6.3, -7.0, -7.3, -7.3, -6.7, -6.4, -7.2, -5.7, -5.9, -5.0, -4.2, -3.7, -3.5, -3.0, -3.5, -3.6, -4.9, -5.3, -5.6, -6.8], [0.2, -1.2, -1.9, -3.2, -4.7, -6.1, -6.1, -5.8, -5.8, -6.4, -7.2, -7.0, -7.2, -7.0, -6.4, -6.7, -5.8, -5.0, -3.9, -2.9, -3.1, -1.9, -1.4, -1.9, -2.0, -2.9, -3.0, -3.4, -4.4], [2.5, 0.9, -0.7, -2.7, -4.3, -5.8, -5.8, -5.1, -5.6, -5.5, -6.6, -6.7, -6.7, -6.5, -6.1, -6.7, -5.3, -4.8, -3.7, -2.5, -2.7, -2.1, -1.1, -1.5, null, null, null, null, null], [3.2, 1.7, -0.7, -2.7, -4.4, -6.9, -5.6, -4.8, -5.5, -5.6, -6.3, -6.1, -5.6, -5.4, -4.8, -5.8, -5.0, -5.0, -4.6, -3.3, -3.7, -2.9, -1.7, -2.2, null, null, null, null, null], [1.4, 0.4, -0.1, -1.2, -1.7, -1.7, -2.4, -3.3, -3.0, -4.7, -4.4, -5.4, -5.2, -5.6, -4.5, -5.2, -4.4, -4.5, -3.5, -2.9, -3.5, -2.6, -2.5, -2.7, -3.3, -4.2, -4.7, -5.2, -6.2], [3.6, 2.4, 2.0, 1.1, 0.0, -0.8, -1.1, -1.9, -1.5, -3.3, -3.3, -3.7, -3.8, -3.8, -3.0, -3.6, -2.9, -2.9, -2.4, -1.1, -1.6, -0.9, -0.6, -0.9, -0.9, -2.0, -2.0, -2.8, -3.8], [3.8, 2.9, 2.0, 0.9, 0.3, -0.3, -0.7, -1.1, -0.9, -2.2, -2.4, -2.9, -3.3, -3.7, -2.5, -3.2, -2.3, -2.6, -1.3, -0.7, -0.8, 0.1, 0.3, -0.1, 0.0, -1.2, -1.5, -2.0, -2.8], [4.0, 2.0, 2.4, 1.4, 0.2, -1.1, -1.0, -1.5, -1.3, -2.7, -2.8, -3.1, -3.0, -3.4, -2.6, -3.2, -1.8, -1.4, -0.2, 0.7, 0.4, 0.8, 1.6, 1.0, 0.9, -0.4, -0.5, -1.6, -2.3], [5.1, 3.7, 3.1, 2.4, 1.5, 0.8, 0.3, -0.3, -0.5, -2.0, -1.8, -2.7, -2.8, -3.2, -2.2, -2.7, -1.9, -1.9, -1.0, -0.1, -0.9, -0.1, 0.2, -0.5, -0.6, -1.5, -1.9, -2.9, -3.5], [3.4, 1.8, 0.2, -1.7, -2.7, -3.5, -3.2, -2.5, -2.8, -2.9, -2.9, -3.0, -2.5, -1.9, -0.9, -1.4, -0.7, -1.0, 0.7, 1.5, 1.2, 1.8, 2.2, 1.9, 1.7, 1.8, 2.0, 1.6, 0.8], [5.2, 3.9, 3.5, 3.1, 2.1, 1.0, 0.4, 0.7, 0.4, -0.7, -1.3, -1.6, -1.8, -1.7, -1.1, -1.7, -0.3, -0.3, 0.7, 1.8, 1.8, 3.0, 3.5, 2.5, 2.1, 1.2, 1.0, -0.2, -1.0], [7.5, 6.4, 5.8, 4.4, 2.9, 1.8, 1.7, 1.4, 1.2, -0.3, 0.4, -0.4, -0.6, -0.1, 0.0, -0.6, 0.5, 0.2, 1.7, 2.1, 2.7, 3.1, 3.3, 2.9, 2.8, 1.0, 0.5, -0.4, -1.2]], \"zmax\": 8, \"zmin\": -15}, {\"hovertemplate\": \"%{text}\", \"marker\": {\"color\": \"#67001f\", \"line\": {\"color\": \"#67001f\", \"width\": 0}}, \"orientation\": \"h\", \"text\": [\"-15\"], \"type\": \"bar\", \"width\": 0.1, \"x\": [1], \"xaxis\": \"x2\", \"y\": [\"\"], \"yaxis\": \"y2\"}, {\"hovertemplate\": \"%{text}\", \"marker\": {\"color\": \"#70102d\", \"line\": {\"color\": \"#70102d\", \"width\": 0}}, \"orientation\": \"h\", \"text\": [\"-14\"], \"type\": \"bar\", \"width\": 0.1, \"x\": [1], \"xaxis\": \"x2\", \"y\": [\"\"], \"yaxis\": \"y2\"}, {\"hovertemplate\": \"%{text}\", \"marker\": {\"color\": \"#7a203b\", \"line\": {\"color\": \"#7a203b\", \"width\": 0}}, \"orientation\": \"h\", \"text\": [\"-13\"], \"type\": \"bar\", \"width\": 0.1, \"x\": [1], \"xaxis\": \"x2\", \"y\": [\"\"], \"yaxis\": \"y2\"}, {\"hovertemplate\": \"%{text}\", \"marker\": {\"color\": \"#83314a\", \"line\": {\"color\": \"#83314a\", \"width\": 0}}, \"orientation\": \"h\", \"text\": [\"-12\"], \"type\": \"bar\", \"width\": 0.1, \"x\": [1], \"xaxis\": \"x2\", \"y\": [\"\"], \"yaxis\": \"y2\"}, {\"hovertemplate\": \"%{text}\", \"marker\": {\"color\": \"#8d4158\", \"line\": {\"color\": \"#8d4158\", \"width\": 0}}, \"orientation\": \"h\", \"text\": [\"-11\"], \"type\": \"bar\", \"width\": 0.1, \"x\": [1], \"xaxis\": \"x2\", \"y\": [\"\"], \"yaxis\": \"y2\"}, {\"hovertemplate\": \"%{text}\", \"marker\": {\"color\": \"#975267\", \"line\": {\"color\": \"#975267\", \"width\": 0}}, \"orientation\": \"h\", \"text\": [\"-10\"], \"type\": \"bar\", \"width\": 0.1, \"x\": [1], \"xaxis\": \"x2\", \"y\": [\"\"], \"yaxis\": \"y2\"}, {\"hovertemplate\": \"%{text}\", \"marker\": {\"color\": \"#a06275\", \"line\": {\"color\": \"#a06275\", \"width\": 0}}, \"orientation\": \"h\", \"text\": [\"-9\"], \"type\": \"bar\", \"width\": 0.1, \"x\": [1], \"xaxis\": \"x2\", \"y\": [\"\"], \"yaxis\": \"y2\"}, {\"hovertemplate\": \"%{text}\", \"marker\": {\"color\": \"#aa7383\", \"line\": {\"color\": \"#aa7383\", \"width\": 0}}, \"orientation\": \"h\", \"text\": [\"-8\"], \"type\": \"bar\", \"width\": 0.1, \"x\": [1], \"xaxis\": \"x2\", \"y\": [\"\"], \"yaxis\": \"y2\"}, {\"hovertemplate\": \"%{text}\", \"marker\": {\"color\": \"#b38392\", \"line\": {\"color\": \"#b38392\", \"width\": 0}}, \"orientation\": \"h\", \"text\": [\"-7\"], \"type\": \"bar\", \"width\": 0.1, \"x\": [1], \"xaxis\": \"x2\", \"y\": [\"\"], \"yaxis\": \"y2\"}, {\"hovertemplate\": \"%{text}\", \"marker\": {\"color\": \"#bd94a0\", \"line\": {\"color\": \"#bd94a0\", \"width\": 0}}, \"orientation\": \"h\", \"text\": [\"-6\"], \"type\": \"bar\", \"width\": 0.1, \"x\": [1], \"xaxis\": \"x2\", \"y\": [\"\"], \"yaxis\": \"y2\"}, {\"hovertemplate\": \"%{text}\", \"marker\": {\"color\": \"#c7a4af\", \"line\": {\"color\": \"#c7a4af\", \"width\": 0}}, \"orientation\": \"h\", \"text\": [\"-5\"], \"type\": \"bar\", \"width\": 0.1, \"x\": [1], \"xaxis\": \"x2\", \"y\": [\"\"], \"yaxis\": \"y2\"}, {\"hovertemplate\": \"%{text}\", \"marker\": {\"color\": \"#d0b5bd\", \"line\": {\"color\": \"#d0b5bd\", \"width\": 0}}, \"orientation\": \"h\", \"text\": [\"-4\"], \"type\": \"bar\", \"width\": 0.1, \"x\": [1], \"xaxis\": \"x2\", \"y\": [\"\"], \"yaxis\": \"y2\"}, {\"hovertemplate\": \"%{text}\", \"marker\": {\"color\": \"#dac5cb\", \"line\": {\"color\": \"#dac5cb\", \"width\": 0}}, \"orientation\": \"h\", \"text\": [\"-3\"], \"type\": \"bar\", \"width\": 0.1, \"x\": [1], \"xaxis\": \"x2\", \"y\": [\"\"], \"yaxis\": \"y2\"}, {\"hovertemplate\": \"%{text}\", \"marker\": {\"color\": \"#e3d6da\", \"line\": {\"color\": \"#e3d6da\", \"width\": 0}}, \"orientation\": \"h\", \"text\": [\"-2\"], \"type\": \"bar\", \"width\": 0.1, \"x\": [1], \"xaxis\": \"x2\", \"y\": [\"\"], \"yaxis\": \"y2\"}, {\"hovertemplate\": \"%{text}\", \"marker\": {\"color\": \"#ede6e8\", \"line\": {\"color\": \"#ede6e8\", \"width\": 0}}, \"orientation\": \"h\", \"text\": [\"-1\"], \"type\": \"bar\", \"width\": 0.1, \"x\": [1], \"xaxis\": \"x2\", \"y\": [\"\"], \"yaxis\": \"y2\"}, {\"hovertemplate\": \"%{text}\", \"marker\": {\"color\": \"#f7f7f7\", \"line\": {\"color\": \"#f7f7f7\", \"width\": 0}}, \"orientation\": \"h\", \"text\": [\"0\"], \"type\": \"bar\", \"width\": 0.1, \"x\": [1], \"xaxis\": \"x2\", \"y\": [\"\"], \"yaxis\": \"y2\"}, {\"hovertemplate\": \"%{text}\", \"marker\": {\"color\": \"#e8e9ec\", \"line\": {\"color\": \"#e8e9ec\", \"width\": 0}}, \"orientation\": \"h\", \"text\": [\"1\"], \"type\": \"bar\", \"width\": 0.1, \"x\": [1], \"xaxis\": \"x2\", \"y\": [\"\"], \"yaxis\": \"y2\"}, {\"hovertemplate\": \"%{text}\", \"marker\": {\"color\": \"#d9dbe2\", \"line\": {\"color\": \"#d9dbe2\", \"width\": 0}}, \"orientation\": \"h\", \"text\": [\"2\"], \"type\": \"bar\", \"width\": 0.1, \"x\": [1], \"xaxis\": \"x2\", \"y\": [\"\"], \"yaxis\": \"y2\"}, {\"hovertemplate\": \"%{text}\", \"marker\": {\"color\": \"#cacdd7\", \"line\": {\"color\": \"#cacdd7\", \"width\": 0}}, \"orientation\": \"h\", \"text\": [\"3\"], \"type\": \"bar\", \"width\": 0.1, \"x\": [1], \"xaxis\": \"x2\", \"y\": [\"\"], \"yaxis\": \"y2\"}, {\"hovertemplate\": \"%{text}\", \"marker\": {\"color\": \"#bbbfcd\", \"line\": {\"color\": \"#bbbfcd\", \"width\": 0}}, \"orientation\": \"h\", \"text\": [\"4\"], \"type\": \"bar\", \"width\": 0.1, \"x\": [1], \"xaxis\": \"x2\", \"y\": [\"\"], \"yaxis\": \"y2\"}, {\"hovertemplate\": \"%{text}\", \"marker\": {\"color\": \"#acb1c2\", \"line\": {\"color\": \"#acb1c2\", \"width\": 0}}, \"orientation\": \"h\", \"text\": [\"5\"], \"type\": \"bar\", \"width\": 0.1, \"x\": [1], \"xaxis\": \"x2\", \"y\": [\"\"], \"yaxis\": \"y2\"}, {\"hovertemplate\": \"%{text}\", \"marker\": {\"color\": \"#9da3b8\", \"line\": {\"color\": \"#9da3b8\", \"width\": 0}}, \"orientation\": \"h\", \"text\": [\"6\"], \"type\": \"bar\", \"width\": 0.1, \"x\": [1], \"xaxis\": \"x2\", \"y\": [\"\"], \"yaxis\": \"y2\"}, {\"hovertemplate\": \"%{text}\", \"marker\": {\"color\": \"#8e95ad\", \"line\": {\"color\": \"#8e95ad\", \"width\": 0}}, \"orientation\": \"h\", \"text\": [\"7\"], \"type\": \"bar\", \"width\": 0.1, \"x\": [1], \"xaxis\": \"x2\", \"y\": [\"\"], \"yaxis\": \"y2\"}, {\"hovertemplate\": \"%{text}\", \"marker\": {\"color\": \"#7f87a3\", \"line\": {\"color\": \"#7f87a3\", \"width\": 0}}, \"orientation\": \"h\", \"text\": [\"8\"], \"type\": \"bar\", \"width\": 0.1, \"x\": [1], \"xaxis\": \"x2\", \"y\": [\"\"], \"yaxis\": \"y2\"}],\n",
       "                        {\"annotations\": [{\"font\": {\"color\": \"#5D646F\", \"family\": \"Ubuntu Mono\", \"size\": 12}, \"showarrow\": false, \"text\": \"-15\", \"x\": 0, \"xref\": \"paper\", \"y\": 0.915, \"yref\": \"paper\"}, {\"font\": {\"color\": \"#5D646F\", \"family\": \"Ubuntu Mono\", \"size\": 12}, \"showarrow\": false, \"text\": \"-8\", \"x\": 0.281, \"xref\": \"paper\", \"y\": 0.915, \"yref\": \"paper\"}, {\"font\": {\"color\": \"#5D646F\", \"family\": \"Ubuntu Mono\", \"size\": 12}, \"showarrow\": false, \"text\": \"0\", \"x\": 0.613, \"xref\": \"paper\", \"y\": 0.915, \"yref\": \"paper\"}, {\"font\": {\"color\": \"#5D646F\", \"family\": \"Ubuntu Mono\", \"size\": 12}, \"showarrow\": false, \"text\": \"8\", \"x\": 0.936, \"xref\": \"paper\", \"y\": 0.915, \"yref\": \"paper\"}, {\"font\": {\"color\": \"#5D646F\", \"family\": \"Ubuntu Mono\", \"size\": 12}, \"showarrow\": false, \"text\": \"Data: State Statistics Service of Ukraine\", \"x\": 1, \"xref\": \"paper\", \"y\": -0.07, \"yref\": \"paper\"}, {\"font\": {\"color\": \"#5D646F\", \"family\": \"Ubuntu Mono\", \"size\": 12}, \"showarrow\": false, \"text\": \"population growth rate, per 1000\", \"x\": 0, \"xref\": \"paper\", \"y\": 0.97, \"yref\": \"paper\"}], \"barmode\": \"stack\", \"font\": {\"family\": \"Ubuntu Mono\"}, \"height\": 700, \"margin\": {\"l\": 50, \"r\": 160, \"t\": 95}, \"paper_bgcolor\": \"#F3F7F7\", \"plot_bgcolor\": \"#F3F7F7\", \"showlegend\": false, \"template\": {\"data\": {\"bar\": [{\"error_x\": {\"color\": \"#2a3f5f\"}, \"error_y\": {\"color\": \"#2a3f5f\"}, \"marker\": {\"line\": {\"color\": \"#E5ECF6\", \"width\": 0.5}}, \"type\": \"bar\"}], \"barpolar\": [{\"marker\": {\"line\": {\"color\": \"#E5ECF6\", \"width\": 0.5}}, \"type\": \"barpolar\"}], \"carpet\": [{\"aaxis\": {\"endlinecolor\": \"#2a3f5f\", \"gridcolor\": \"white\", \"linecolor\": \"white\", \"minorgridcolor\": \"white\", \"startlinecolor\": \"#2a3f5f\"}, \"baxis\": {\"endlinecolor\": \"#2a3f5f\", \"gridcolor\": \"white\", \"linecolor\": \"white\", \"minorgridcolor\": \"white\", \"startlinecolor\": \"#2a3f5f\"}, \"type\": \"carpet\"}], \"choropleth\": [{\"colorbar\": {\"outlinewidth\": 0, \"ticks\": \"\"}, \"type\": \"choropleth\"}], \"contour\": [{\"colorbar\": {\"outlinewidth\": 0, \"ticks\": \"\"}, \"colorscale\": [[0.0, \"#0d0887\"], [0.1111111111111111, \"#46039f\"], [0.2222222222222222, \"#7201a8\"], [0.3333333333333333, \"#9c179e\"], [0.4444444444444444, \"#bd3786\"], [0.5555555555555556, \"#d8576b\"], [0.6666666666666666, \"#ed7953\"], [0.7777777777777778, \"#fb9f3a\"], [0.8888888888888888, \"#fdca26\"], [1.0, \"#f0f921\"]], \"type\": \"contour\"}], \"contourcarpet\": [{\"colorbar\": {\"outlinewidth\": 0, \"ticks\": \"\"}, \"type\": \"contourcarpet\"}], \"heatmap\": [{\"colorbar\": {\"outlinewidth\": 0, \"ticks\": \"\"}, \"colorscale\": [[0.0, \"#0d0887\"], [0.1111111111111111, \"#46039f\"], [0.2222222222222222, \"#7201a8\"], [0.3333333333333333, \"#9c179e\"], [0.4444444444444444, \"#bd3786\"], [0.5555555555555556, \"#d8576b\"], [0.6666666666666666, \"#ed7953\"], [0.7777777777777778, \"#fb9f3a\"], [0.8888888888888888, \"#fdca26\"], [1.0, \"#f0f921\"]], \"type\": \"heatmap\"}], \"heatmapgl\": [{\"colorbar\": {\"outlinewidth\": 0, \"ticks\": \"\"}, \"colorscale\": [[0.0, \"#0d0887\"], [0.1111111111111111, \"#46039f\"], [0.2222222222222222, \"#7201a8\"], [0.3333333333333333, \"#9c179e\"], [0.4444444444444444, \"#bd3786\"], [0.5555555555555556, \"#d8576b\"], [0.6666666666666666, \"#ed7953\"], [0.7777777777777778, \"#fb9f3a\"], [0.8888888888888888, \"#fdca26\"], [1.0, \"#f0f921\"]], \"type\": \"heatmapgl\"}], \"histogram\": [{\"marker\": {\"colorbar\": {\"outlinewidth\": 0, \"ticks\": \"\"}}, \"type\": \"histogram\"}], \"histogram2d\": [{\"colorbar\": {\"outlinewidth\": 0, \"ticks\": \"\"}, \"colorscale\": [[0.0, \"#0d0887\"], [0.1111111111111111, \"#46039f\"], [0.2222222222222222, \"#7201a8\"], [0.3333333333333333, \"#9c179e\"], [0.4444444444444444, \"#bd3786\"], [0.5555555555555556, \"#d8576b\"], [0.6666666666666666, \"#ed7953\"], [0.7777777777777778, \"#fb9f3a\"], [0.8888888888888888, \"#fdca26\"], [1.0, \"#f0f921\"]], \"type\": \"histogram2d\"}], \"histogram2dcontour\": [{\"colorbar\": {\"outlinewidth\": 0, \"ticks\": \"\"}, \"colorscale\": [[0.0, \"#0d0887\"], [0.1111111111111111, \"#46039f\"], [0.2222222222222222, \"#7201a8\"], [0.3333333333333333, \"#9c179e\"], [0.4444444444444444, \"#bd3786\"], [0.5555555555555556, \"#d8576b\"], [0.6666666666666666, \"#ed7953\"], [0.7777777777777778, \"#fb9f3a\"], [0.8888888888888888, \"#fdca26\"], [1.0, \"#f0f921\"]], \"type\": \"histogram2dcontour\"}], \"mesh3d\": [{\"colorbar\": {\"outlinewidth\": 0, \"ticks\": \"\"}, \"type\": \"mesh3d\"}], \"parcoords\": [{\"line\": {\"colorbar\": {\"outlinewidth\": 0, \"ticks\": \"\"}}, \"type\": \"parcoords\"}], \"pie\": [{\"automargin\": true, \"type\": \"pie\"}], \"scatter\": [{\"marker\": {\"colorbar\": {\"outlinewidth\": 0, \"ticks\": \"\"}}, \"type\": \"scatter\"}], \"scatter3d\": [{\"line\": {\"colorbar\": {\"outlinewidth\": 0, \"ticks\": \"\"}}, \"marker\": {\"colorbar\": {\"outlinewidth\": 0, \"ticks\": \"\"}}, \"type\": \"scatter3d\"}], \"scattercarpet\": [{\"marker\": {\"colorbar\": {\"outlinewidth\": 0, \"ticks\": \"\"}}, \"type\": \"scattercarpet\"}], \"scattergeo\": [{\"marker\": {\"colorbar\": {\"outlinewidth\": 0, \"ticks\": \"\"}}, \"type\": \"scattergeo\"}], \"scattergl\": [{\"marker\": {\"colorbar\": {\"outlinewidth\": 0, \"ticks\": \"\"}}, \"type\": \"scattergl\"}], \"scattermapbox\": [{\"marker\": {\"colorbar\": {\"outlinewidth\": 0, \"ticks\": \"\"}}, \"type\": \"scattermapbox\"}], \"scatterpolar\": [{\"marker\": {\"colorbar\": {\"outlinewidth\": 0, \"ticks\": \"\"}}, \"type\": \"scatterpolar\"}], \"scatterpolargl\": [{\"marker\": {\"colorbar\": {\"outlinewidth\": 0, \"ticks\": \"\"}}, \"type\": \"scatterpolargl\"}], \"scatterternary\": [{\"marker\": {\"colorbar\": {\"outlinewidth\": 0, \"ticks\": \"\"}}, \"type\": \"scatterternary\"}], \"surface\": [{\"colorbar\": {\"outlinewidth\": 0, \"ticks\": \"\"}, \"colorscale\": [[0.0, \"#0d0887\"], [0.1111111111111111, \"#46039f\"], [0.2222222222222222, \"#7201a8\"], [0.3333333333333333, \"#9c179e\"], [0.4444444444444444, \"#bd3786\"], [0.5555555555555556, \"#d8576b\"], [0.6666666666666666, \"#ed7953\"], [0.7777777777777778, \"#fb9f3a\"], [0.8888888888888888, \"#fdca26\"], [1.0, \"#f0f921\"]], \"type\": \"surface\"}], \"table\": [{\"cells\": {\"fill\": {\"color\": \"#EBF0F8\"}, \"line\": {\"color\": \"white\"}}, \"header\": {\"fill\": {\"color\": \"#C8D4E3\"}, \"line\": {\"color\": \"white\"}}, \"type\": \"table\"}]}, \"layout\": {\"annotationdefaults\": {\"arrowcolor\": \"#2a3f5f\", \"arrowhead\": 0, \"arrowwidth\": 1}, \"coloraxis\": {\"colorbar\": {\"outlinewidth\": 0, \"ticks\": \"\"}}, \"colorscale\": {\"diverging\": [[0, \"#8e0152\"], [0.1, \"#c51b7d\"], [0.2, \"#de77ae\"], [0.3, \"#f1b6da\"], [0.4, \"#fde0ef\"], [0.5, \"#f7f7f7\"], [0.6, \"#e6f5d0\"], [0.7, \"#b8e186\"], [0.8, \"#7fbc41\"], [0.9, \"#4d9221\"], [1, \"#276419\"]], \"sequential\": [[0.0, \"#0d0887\"], [0.1111111111111111, \"#46039f\"], [0.2222222222222222, \"#7201a8\"], [0.3333333333333333, \"#9c179e\"], [0.4444444444444444, \"#bd3786\"], [0.5555555555555556, \"#d8576b\"], [0.6666666666666666, \"#ed7953\"], [0.7777777777777778, \"#fb9f3a\"], [0.8888888888888888, \"#fdca26\"], [1.0, \"#f0f921\"]], \"sequentialminus\": [[0.0, \"#0d0887\"], [0.1111111111111111, \"#46039f\"], [0.2222222222222222, \"#7201a8\"], [0.3333333333333333, \"#9c179e\"], [0.4444444444444444, \"#bd3786\"], [0.5555555555555556, \"#d8576b\"], [0.6666666666666666, \"#ed7953\"], [0.7777777777777778, \"#fb9f3a\"], [0.8888888888888888, \"#fdca26\"], [1.0, \"#f0f921\"]]}, \"colorway\": [\"#636efa\", \"#EF553B\", \"#00cc96\", \"#ab63fa\", \"#FFA15A\", \"#19d3f3\", \"#FF6692\", \"#B6E880\", \"#FF97FF\", \"#FECB52\"], \"font\": {\"color\": \"#2a3f5f\"}, \"geo\": {\"bgcolor\": \"white\", \"lakecolor\": \"white\", \"landcolor\": \"#E5ECF6\", \"showlakes\": true, \"showland\": true, \"subunitcolor\": \"white\"}, \"hoverlabel\": {\"align\": \"left\"}, \"hovermode\": \"closest\", \"mapbox\": {\"style\": \"light\"}, \"paper_bgcolor\": \"white\", \"plot_bgcolor\": \"#E5ECF6\", \"polar\": {\"angularaxis\": {\"gridcolor\": \"white\", \"linecolor\": \"white\", \"ticks\": \"\"}, \"bgcolor\": \"#E5ECF6\", \"radialaxis\": {\"gridcolor\": \"white\", \"linecolor\": \"white\", \"ticks\": \"\"}}, \"scene\": {\"xaxis\": {\"backgroundcolor\": \"#E5ECF6\", \"gridcolor\": \"white\", \"gridwidth\": 2, \"linecolor\": \"white\", \"showbackground\": true, \"ticks\": \"\", \"zerolinecolor\": \"white\"}, \"yaxis\": {\"backgroundcolor\": \"#E5ECF6\", \"gridcolor\": \"white\", \"gridwidth\": 2, \"linecolor\": \"white\", \"showbackground\": true, \"ticks\": \"\", \"zerolinecolor\": \"white\"}, \"zaxis\": {\"backgroundcolor\": \"#E5ECF6\", \"gridcolor\": \"white\", \"gridwidth\": 2, \"linecolor\": \"white\", \"showbackground\": true, \"ticks\": \"\", \"zerolinecolor\": \"white\"}}, \"shapedefaults\": {\"line\": {\"color\": \"#2a3f5f\"}}, \"ternary\": {\"aaxis\": {\"gridcolor\": \"white\", \"linecolor\": \"white\", \"ticks\": \"\"}, \"baxis\": {\"gridcolor\": \"white\", \"linecolor\": \"white\", \"ticks\": \"\"}, \"bgcolor\": \"#E5ECF6\", \"caxis\": {\"gridcolor\": \"white\", \"linecolor\": \"white\", \"ticks\": \"\"}}, \"title\": {\"x\": 0.05}, \"xaxis\": {\"automargin\": true, \"gridcolor\": \"white\", \"linecolor\": \"white\", \"ticks\": \"\", \"title\": {\"standoff\": 15}, \"zerolinecolor\": \"white\", \"zerolinewidth\": 2}, \"yaxis\": {\"automargin\": true, \"gridcolor\": \"white\", \"linecolor\": \"white\", \"ticks\": \"\", \"title\": {\"standoff\": 15}, \"zerolinecolor\": \"white\", \"zerolinewidth\": 2}}}, \"title\": {\"font\": {\"color\": \"#3A3F4A\", \"family\": \"Ubuntu Mono\", \"size\": 36}, \"text\": \"<b>Population growth by region</b>\", \"x\": 0.05, \"y\": 0.905}, \"width\": 1000, \"xaxis\": {\"showgrid\": false, \"side\": \"top\", \"tickfont\": {\"color\": \"#5D646F\", \"family\": \"Ubuntu Mono\"}}, \"xaxis2\": {\"showgrid\": false, \"showticklabels\": false, \"zeroline\": false}, \"yaxis\": {\"domain\": [0, 0.85], \"position\": 1, \"showgrid\": false, \"side\": \"right\", \"tickfont\": {\"color\": \"#5D646F\", \"family\": \"Ubuntu Mono\"}}, \"yaxis2\": {\"domain\": [0.85, 1], \"showgrid\": false, \"showticklabels\": false, \"zeroline\": false}},\n",
       "                        {\"responsive\": true}\n",
       "                    ).then(function(){\n",
       "                            \n",
       "var gd = document.getElementById('65f07e35-898d-4f99-a332-5e0d88149d71');\n",
       "var x = new MutationObserver(function (mutations, observer) {{\n",
       "        var display = window.getComputedStyle(gd).display;\n",
       "        if (!display || display === 'none') {{\n",
       "            console.log([gd, 'removed!']);\n",
       "            Plotly.purge(gd);\n",
       "            observer.disconnect();\n",
       "        }}\n",
       "}});\n",
       "\n",
       "// Listen for the removal of the full notebook cells\n",
       "var notebookContainer = gd.closest('#notebook-container');\n",
       "if (notebookContainer) {{\n",
       "    x.observe(notebookContainer, {childList: true});\n",
       "}}\n",
       "\n",
       "// Listen for the clearing of the current output cell\n",
       "var outputEl = gd.closest('.output');\n",
       "if (outputEl) {{\n",
       "    x.observe(outputEl, {childList: true});\n",
       "}}\n",
       "\n",
       "                        })\n",
       "                };\n",
       "                });\n",
       "            </script>\n",
       "        </div>"
      ]
     },
     "metadata": {},
     "output_type": "display_data"
    },
    {
     "data": {
      "application/javascript": [
       "\n",
       "            setTimeout(function() {\n",
       "                var nbb_cell_id = 161;\n",
       "                var nbb_formatted_code = \"x = df[\\\"year\\\"].unique()\\n# dirty hack to add offset to labels\\ny = [f\\\" {r} \\\" for r in regions_by_rate]\\nz = [df.xs(region)[\\\"rate\\\"] for region in regions_by_rate]\\n\\nheatmap = go.Heatmap(\\n    x=x,\\n    y=y,\\n    z=z,\\n    zmin=-15,\\n    zmax=8,\\n    colorscale=colorspace,\\n    showscale=False,\\n    colorbar=dict(\\n        x=-0.1,\\n        y=0.49,\\n        len=1.02,\\n        thickness=20,\\n        tickmode=\\\"array\\\",\\n        tickvals=[-14.5, -7.8, -0.1, 7.5],\\n        ticktext=[-15, -8, 0, 8],\\n    ),\\n)\\n\\nlayout = go.Layout(\\n    title=go.layout.Title(\\n        text=\\\"<b>Population growth by region</b>\\\",\\n        font={\\\"family\\\": \\\"Ubuntu Mono\\\", \\\"size\\\": 36, \\\"color\\\": \\\"#3A3F4A\\\"},\\n        x=0.05,\\n        y=0.905,\\n    ),\\n    margin={\\\"r\\\": 160, \\\"t\\\": 95, \\\"l\\\": 50},\\n    plot_bgcolor=\\\"#F3F7F7\\\",\\n    paper_bgcolor=\\\"#F3F7F7\\\",\\n    width=1000,\\n    height=700,\\n    font={\\\"family\\\": \\\"Ubuntu Mono\\\"},\\n    barmode=\\\"stack\\\",\\n    showlegend=False,\\n    xaxis=dict(\\n        showgrid=False,\\n        side=\\\"top\\\",\\n        tickfont={\\\"family\\\": \\\"Ubuntu Mono\\\", \\\"color\\\": \\\"#5D646F\\\"},\\n    ),\\n    yaxis=dict(\\n        domain=[0, 0.85],\\n        position=1,\\n        showgrid=False,\\n        side=\\\"right\\\",\\n        tickfont={\\\"family\\\": \\\"Ubuntu Mono\\\", \\\"color\\\": \\\"#5D646F\\\"},\\n    ),\\n    xaxis2=dict(showgrid=False, showticklabels=False, zeroline=False),\\n    yaxis2=dict(domain=[0.85, 1], showgrid=False, showticklabels=False, zeroline=False),\\n    annotations=[\\n        *colorbar_ticks,\\n        go.layout.Annotation(\\n            x=1,\\n            y=-0.07,\\n            showarrow=False,\\n            text=\\\"Data: State Statistics Service of Ukraine\\\",\\n            xref=\\\"paper\\\",\\n            yref=\\\"paper\\\",\\n            font={\\\"family\\\": \\\"Ubuntu Mono\\\", \\\"size\\\": 12, \\\"color\\\": \\\"#5D646F\\\"},\\n        ),\\n        go.layout.Annotation(\\n            x=0,\\n            y=0.97,\\n            showarrow=False,\\n            text=\\\"population growth rate, per 1000\\\",\\n            xref=\\\"paper\\\",\\n            yref=\\\"paper\\\",\\n            font={\\\"family\\\": \\\"Ubuntu Mono\\\", \\\"size\\\": 12, \\\"color\\\": \\\"#5D646F\\\"},\\n        ),\\n    ],\\n)\\n\\n\\nfig = go.Figure(data=[heatmap, *bar], layout=layout)\\nfig.show()\";\n",
       "                var nbb_cells = Jupyter.notebook.get_cells();\n",
       "                for (var i = 0; i < nbb_cells.length; ++i) {\n",
       "                    if (nbb_cells[i].input_prompt_number == nbb_cell_id) {\n",
       "                        nbb_cells[i].set_text(nbb_formatted_code);\n",
       "                        break;\n",
       "                    }\n",
       "                }\n",
       "            }, 500);\n",
       "            "
      ],
      "text/plain": [
       "<IPython.core.display.Javascript object>"
      ]
     },
     "metadata": {},
     "output_type": "display_data"
    }
   ],
   "source": [
    "x = df[\"year\"].unique()\n",
    "# dirty hack to add offset to labels\n",
    "y = [f\" {r} \" for r in regions_by_rate]\n",
    "z = [df.xs(region)[\"rate\"] for region in regions_by_rate]\n",
    "\n",
    "heatmap = go.Heatmap(\n",
    "    x=x,\n",
    "    y=y,\n",
    "    z=z,\n",
    "    zmin=-15,\n",
    "    zmax=8,\n",
    "    colorscale=colorspace,\n",
    "    showscale=False,\n",
    "    colorbar=dict(\n",
    "        x=-0.1,\n",
    "        y=0.49,\n",
    "        len=1.02,\n",
    "        thickness=20,\n",
    "        tickmode=\"array\",\n",
    "        tickvals=[-14.5, -7.8, -0.1, 7.5],\n",
    "        ticktext=[-15, -8, 0, 8],\n",
    "    ),\n",
    ")\n",
    "\n",
    "layout = go.Layout(\n",
    "    title=go.layout.Title(\n",
    "        text=\"<b>Population growth by region</b>\",\n",
    "        font={\"family\": \"Ubuntu Mono\", \"size\": 36, \"color\": \"#3A3F4A\"},\n",
    "        x=0.05,\n",
    "        y=0.905,\n",
    "    ),\n",
    "    margin={\"r\": 160, \"t\": 95, \"l\": 50},\n",
    "    plot_bgcolor=\"#F3F7F7\",\n",
    "    paper_bgcolor=\"#F3F7F7\",\n",
    "    width=1000,\n",
    "    height=700,\n",
    "    font={\"family\": \"Ubuntu Mono\"},\n",
    "    barmode=\"stack\",\n",
    "    showlegend=False,\n",
    "    xaxis=dict(\n",
    "        showgrid=False,\n",
    "        side=\"top\",\n",
    "        tickfont={\"family\": \"Ubuntu Mono\", \"color\": \"#5D646F\"},\n",
    "    ),\n",
    "    yaxis=dict(\n",
    "        domain=[0, 0.85],\n",
    "        position=1,\n",
    "        showgrid=False,\n",
    "        side=\"right\",\n",
    "        tickfont={\"family\": \"Ubuntu Mono\", \"color\": \"#5D646F\"},\n",
    "    ),\n",
    "    xaxis2=dict(showgrid=False, showticklabels=False, zeroline=False),\n",
    "    yaxis2=dict(domain=[0.85, 1], showgrid=False, showticklabels=False, zeroline=False),\n",
    "    annotations=[\n",
    "        *colorbar_ticks,\n",
    "        go.layout.Annotation(\n",
    "            x=1,\n",
    "            y=-0.07,\n",
    "            showarrow=False,\n",
    "            text=\"Data: State Statistics Service of Ukraine\",\n",
    "            xref=\"paper\",\n",
    "            yref=\"paper\",\n",
    "            font={\"family\": \"Ubuntu Mono\", \"size\": 12, \"color\": \"#5D646F\"},\n",
    "        ),\n",
    "        go.layout.Annotation(\n",
    "            x=0,\n",
    "            y=0.97,\n",
    "            showarrow=False,\n",
    "            text=\"population growth rate, per 1000\",\n",
    "            xref=\"paper\",\n",
    "            yref=\"paper\",\n",
    "            font={\"family\": \"Ubuntu Mono\", \"size\": 12, \"color\": \"#5D646F\"},\n",
    "        ),\n",
    "    ],\n",
    ")\n",
    "\n",
    "\n",
    "fig = go.Figure(data=[heatmap, *bar], layout=layout)\n",
    "fig.show()"
   ]
  },
  {
   "cell_type": "markdown",
   "metadata": {},
   "source": [
    "![](rate.png)"
   ]
  },
  {
   "cell_type": "code",
   "execution_count": null,
   "metadata": {},
   "outputs": [],
   "source": []
  }
 ],
 "metadata": {
  "kernelspec": {
   "display_name": "Python 3",
   "language": "python",
   "name": "python3"
  },
  "language_info": {
   "codemirror_mode": {
    "name": "ipython",
    "version": 3
   },
   "file_extension": ".py",
   "mimetype": "text/x-python",
   "name": "python",
   "nbconvert_exporter": "python",
   "pygments_lexer": "ipython3",
   "version": "3.7.5"
  }
 },
 "nbformat": 4,
 "nbformat_minor": 2
}
